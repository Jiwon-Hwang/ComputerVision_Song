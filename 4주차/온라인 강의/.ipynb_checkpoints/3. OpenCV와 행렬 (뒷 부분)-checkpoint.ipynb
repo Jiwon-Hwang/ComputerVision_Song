{
 "cells": [
  {
   "cell_type": "markdown",
   "metadata": {},
   "source": [
    "## [QnA] NumPy와 OpenCV에서의 차원 순서 차이\n",
    "* **NumPy**에서는 3차원 배열을 구성할 때, **(depth, row, col)** 형태로 처리됨.\n",
    "* **OpenCV**에서는 3차원 배열이 있을 때, **(row, col, channel)** 순서로 차원 배정!"
   ]
  },
  {
   "cell_type": "code",
   "execution_count": 1,
   "metadata": {},
   "outputs": [
    {
     "name": "stdout",
     "output_type": "stream",
     "text": [
      "[[[1 4 2]\n",
      "  [7 5 3]]\n",
      "\n",
      " [[0 4 8]\n",
      "  [6 9 1]]\n",
      "\n",
      " [[7 6 9]\n",
      "  [4 0 8]]\n",
      "\n",
      " [[1 2 3]\n",
      "  [4 5 6]]]\n",
      "\n",
      "(4, 2, 3)\n"
     ]
    }
   ],
   "source": [
    "import numpy as np\n",
    "\n",
    "nums = np.array([[[1,4,2],[7,5,3]], [[0,4,8],[6,9,1]], [[7,6,9],[4,0,8]], [[1,2,3], [4,5,6]]])\n",
    "print(nums)\n",
    "print()\n",
    "print(nums.shape)\n",
    "# (4, 2, 3) ==> 0번축 : depth(4) / 1번축 : row, 행(2) / 2번축 : col, 열(3)"
   ]
  },
  {
   "cell_type": "markdown",
   "metadata": {},
   "source": [
    "## 행렬의 초기화 복습"
   ]
  },
  {
   "cell_type": "code",
   "execution_count": 6,
   "metadata": {},
   "outputs": [
    {
     "name": "stdout",
     "output_type": "stream",
     "text": [
      "[[0 0 0]\n",
      " [0 0 0]\n",
      " [0 0 0]]\n",
      "\n",
      "[[1 1 1]\n",
      " [1 1 1]\n",
      " [1 1 1]]\n",
      "\n",
      "[[1 0 0]\n",
      " [0 1 0]\n",
      " [0 0 1]]\n"
     ]
    }
   ],
   "source": [
    "# (실습) mat1, mat2, mat3를 np.ndarray 사용하여 초기화해보기\n",
    "\n",
    "mat1 = np.zeros((3, 3), np.uint8) # 뒤에 np.uint8 안하면 기본적으로 float!\n",
    "mat2 = np.ones((3, 3), np.uint8)\n",
    "mat3 = np.identity(3, np.uint8)\n",
    "\n",
    "print(mat1)\n",
    "print()\n",
    "print(mat2)\n",
    "print()\n",
    "print(mat3)"
   ]
  },
  {
   "cell_type": "markdown",
   "metadata": {},
   "source": [
    "## 행렬의 초기화"
   ]
  },
  {
   "cell_type": "code",
   "execution_count": 7,
   "metadata": {},
   "outputs": [
    {
     "name": "stdout",
     "output_type": "stream",
     "text": [
      "[[ 11 100  13  14]\n",
      " [ 21  22  23  24]\n",
      " [200 200 200 200]]\n"
     ]
    }
   ],
   "source": [
    "import numpy as np\n",
    "import cv2 as cv\n",
    "\n",
    "def func2():\n",
    "    # 방법1) numpy 배열 생성 시 dtype 지정\n",
    "    img1 = np.empty((480, 640), np.uint8) # grayscale image (행:480, 열:640)\n",
    "    img2 = np.zeros((480, 640, 3), np.uint8) # color image\n",
    "    img3 = np.ones((480, 640), np.int32) # 1's matrix\n",
    "    img4 = np.full((480, 640), 0, np.float32) # Fill with 0.0 (특정 수로 채우기)\n",
    "    \n",
    "    # 방법2) numpy 배열 생성 후 astype()힘수로 dtype 변환\n",
    "    mat1 = np.array([[11, 12, 13, 14],\n",
    "                     [21, 22, 23, 24],\n",
    "                     [31, 32, 33, 34]]).astype(np.uint8)\n",
    "    \n",
    "    mat1[0, 1] = 100 # element at x=1, y=0\n",
    "    mat1[2, :] = 200 # 2행의 모든 열 값들을 200으로 바꿈\n",
    "    \n",
    "    print(mat1)\n",
    "    \n",
    "func2()"
   ]
  },
  {
   "cell_type": "markdown",
   "metadata": {},
   "source": [
    "## (실습) 행렬의 복사"
   ]
  },
  {
   "cell_type": "code",
   "execution_count": 9,
   "metadata": {},
   "outputs": [],
   "source": [
    "def func3():\n",
    "    img1 = cv.imread('cat.bmp')\n",
    "    \n",
    "    img2 = img1 # 얕은 복사(shallow copy) ==> 주소값만 복사해와서 원본 영향 받음\n",
    "    img3 = img1.copy() # 깊은 복사 ==> 새로운 독립적인 공간에 복사해옴\n",
    "    \n",
    "    img1[:, :] = (0, 255, 255) #(B, G, R) ==> yellow! / [:, :] : [행 전체, 열 전체]\n",
    "    \n",
    "    cv.imshow('img1', img1)\n",
    "    cv.imshow('img2', img2) # 얕은 복사이므로, 원본이 바뀌면 얘도 바뀜!\n",
    "    cv.imshow('img3', img3)\n",
    "    cv.waitKey()\n",
    "    cv.destroyAllWindows() # 이걸 안해주면 아무 키 눌렀을 때 창 안꺼짐\n",
    "    \n",
    "func3()"
   ]
  },
  {
   "cell_type": "markdown",
   "metadata": {},
   "source": [
    "## (실습) 부분 행렬 추출"
   ]
  },
  {
   "cell_type": "code",
   "execution_count": 5,
   "metadata": {},
   "outputs": [],
   "source": [
    "import numpy as np\n",
    "import cv2 as cv\n",
    "\n",
    "def func4():\n",
    "    img1 = cv.imread('cat.bmp', cv.IMREAD_GRAYSCALE)\n",
    "    \n",
    "    img2 = img1[200:400, 200:400] # 부분만 잘라낸 조그만 이미지\n",
    "    img3 = img1[200:400, 200:400].copy()\n",
    "    \n",
    "    img2 += 20 # ***슬라이싱으로 추출한 배열의 값을 바꿔도 원본에 영향 줌!!!***\n",
    "    # 참고로, img2는 img1을 슬라이싱한 numpy배열 ==> 255 초과 값은 0부터 처리!\n",
    "    \n",
    "    cv.imshow('img1', img1) # img2를 건들였는데 img1도 영향 받아 밝아짐!\n",
    "    cv.imshow('img2', img2)\n",
    "    cv.imshow('img3', img3) \n",
    "    cv.waitKey()\n",
    "    cv.destroyAllWindows() \n",
    "    \n",
    "func4()"
   ]
  },
  {
   "cell_type": "markdown",
   "metadata": {},
   "source": [
    "## 부분 행렬 추출 후 반전\n",
    "* 색상 반전 : 255 - 원래 값"
   ]
  }
 ],
 "metadata": {
  "kernelspec": {
   "display_name": "Python 3",
   "language": "python",
   "name": "python3"
  },
  "language_info": {
   "codemirror_mode": {
    "name": "ipython",
    "version": 3
   },
   "file_extension": ".py",
   "mimetype": "text/x-python",
   "name": "python",
   "nbconvert_exporter": "python",
   "pygments_lexer": "ipython3",
   "version": "3.7.3"
  }
 },
 "nbformat": 4,
 "nbformat_minor": 2
}
