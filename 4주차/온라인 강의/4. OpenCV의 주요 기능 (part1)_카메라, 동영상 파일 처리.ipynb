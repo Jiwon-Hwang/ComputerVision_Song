{
 "cells": [
  {
   "cell_type": "code",
   "execution_count": 7,
   "metadata": {},
   "outputs": [
    {
     "data": {
      "text/plain": [
       "True"
      ]
     },
     "execution_count": 7,
     "metadata": {},
     "output_type": "execute_result"
    }
   ],
   "source": [
    "import numpy as np\n",
    "import cv2\n",
    "\n",
    "img = cv2.imread('lenna.bmp', cv2.IMREAD_GRAYSCALE)\n",
    "img2 = img[200:400, 200:400].copy()\n",
    "img2 += 20\n",
    "cv2.imwrite('lenna_20.bmp', img2)"
   ]
  },
  {
   "cell_type": "markdown",
   "metadata": {},
   "source": [
    "## 카메라 영상 처리"
   ]
  },
  {
   "cell_type": "code",
   "execution_count": 1,
   "metadata": {},
   "outputs": [
    {
     "name": "stdout",
     "output_type": "stream",
     "text": [
      "<VideoCapture 0000028628E894D0>\n",
      "Frame width : 640\n",
      "Frame height : 480\n"
     ]
    }
   ],
   "source": [
    "# cap.get(...) : 현재 열려 있는 카메라 장치 또는 동영상 파일로부터 여러 정보 받아옴\n",
    "\n",
    "import cv2\n",
    "\n",
    "cap = cv2.VideoCapture(0) # 0 : 여러 device 중 하나(0번)를 가져옴 (노트북 캠)\n",
    "if not cap.isOpened():\n",
    "    print(\"Camera open failed!\")\n",
    "    exit()\n",
    "\n",
    "print(cap)\n",
    "print('Frame width :', int(cap.get(cv2.CAP_PROP_FRAME_WIDTH)))\n",
    "print('Frame height :', int(cap.get(cv2.CAP_PROP_FRAME_HEIGHT)))"
   ]
  },
  {
   "cell_type": "markdown",
   "metadata": {},
   "source": [
    "## 동영상 파일 처리"
   ]
  },
  {
   "cell_type": "code",
   "execution_count": 2,
   "metadata": {},
   "outputs": [
    {
     "name": "stdout",
     "output_type": "stream",
     "text": [
      "FPS : 30.0\n"
     ]
    }
   ],
   "source": [
    "# FPS (Frames Per Second) 값 확인 ==> 고려 안하면 동영상이 너무 빠르거나 느리게 재생\n",
    "\n",
    "fps = cap.get(cv2.CAP_PROP_FPS) \n",
    "print('FPS :', fps)\n",
    "\n",
    "# FPS 값을 이용하여 매 프레임 사이의 시간 간격 계산 (delay) \n",
    "# 이 delay 값 활용하여 추후 waitKey() 함수의 인자로 사용"
   ]
  },
  {
   "cell_type": "code",
   "execution_count": 4,
   "metadata": {},
   "outputs": [
    {
     "name": "stdout",
     "output_type": "stream",
     "text": [
      "<VideoCapture 0000028628E893F0>\n",
      "Frame width : 640\n",
      "Frame height : 480\n",
      "Frame count : 378\n",
      "FPS : 30.0\n"
     ]
    }
   ],
   "source": [
    "import cv2\n",
    "\n",
    "cap = cv2.VideoCapture('stopwatch.avi')\n",
    "if not cap.isOpened():\n",
    "    print(\"Video open failed!\")\n",
    "    exit()\n",
    "\n",
    "print(cap)\n",
    "print('Frame width :', int(cap.get(cv2.CAP_PROP_FRAME_WIDTH)))\n",
    "print('Frame height :', int(cap.get(cv2.CAP_PROP_FRAME_HEIGHT)))\n",
    "print('Frame count :', int(cap.get(cv2.CAP_PROP_FRAME_COUNT)))\n",
    "\n",
    "fps = cap.get(cv2.CAP_PROP_FPS)\n",
    "print('FPS :', fps)\n",
    "delay = round(1000 / fps)\n",
    "\n",
    "\n",
    "while True:\n",
    "    ret, frame = cap.read() # 각 fram을 읽어서 (if 에러, ret(return)값 없음)\n",
    "    \n",
    "    if not ret: # 에러가 없을 경우 if문 안들어가고 아래로 넘어감 (ret : return)\n",
    "        break\n",
    "        \n",
    "    inversed = ~frame # 반전시키고\n",
    "    \n",
    "    cv2.imshow('frame', frame)\n",
    "    cv2.imshow('inversed', inversed)\n",
    "    \n",
    "    if cv2.waitKey(delay) == 27: # delay 마다 화면에 출력 ==> 모든 프레임 / 27 : esc\n",
    "        break\n",
    "\n",
    "cv2.destroyAllWindows()"
   ]
  }
 ],
 "metadata": {
  "kernelspec": {
   "display_name": "Python 3",
   "language": "python",
   "name": "python3"
  },
  "language_info": {
   "codemirror_mode": {
    "name": "ipython",
    "version": 3
   },
   "file_extension": ".py",
   "mimetype": "text/x-python",
   "name": "python",
   "nbconvert_exporter": "python",
   "pygments_lexer": "ipython3",
   "version": "3.7.3"
  }
 },
 "nbformat": 4,
 "nbformat_minor": 2
}
