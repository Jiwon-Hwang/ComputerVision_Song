{
 "cells": [
  {
   "cell_type": "markdown",
   "metadata": {},
   "source": [
    "## 카메라 영상 처리"
   ]
  },
  {
   "cell_type": "code",
   "execution_count": 1,
   "metadata": {},
   "outputs": [
    {
     "name": "stdout",
     "output_type": "stream",
     "text": [
      "<VideoCapture 000002822D35C530>\n",
      "Frame width : 640\n",
      "Frame height : 480\n"
     ]
    }
   ],
   "source": [
    "# cap.get(...) : 현재 열려 있는 카메라 장치 또는 동영상 파일로부터 여러 정보 받아옴\n",
    "\n",
    "import cv2\n",
    "\n",
    "cap = cv2.VideoCapture(0) # 0 : 여러 device 중 하나(0번)를 가져옴 (노트북 캠)\n",
    "if not cap.isOpened():\n",
    "    print(\"Camera open failed!\")\n",
    "    exit()\n",
    "\n",
    "print(cap)\n",
    "print('Frame width :', int(cap.get(cv2.CAP_PROP_FRAME_WIDTH)))\n",
    "print('Frame height :', int(cap.get(cv2.CAP_PROP_FRAME_HEIGHT)))"
   ]
  },
  {
   "cell_type": "markdown",
   "metadata": {},
   "source": [
    "## 동영상 파일 처리"
   ]
  },
  {
   "cell_type": "code",
   "execution_count": 2,
   "metadata": {},
   "outputs": [
    {
     "name": "stdout",
     "output_type": "stream",
     "text": [
      "FPS : 30.0\n"
     ]
    }
   ],
   "source": [
    "# FPS (Frames Per Second) 값 확인 ==> 고려 안하면 동영상이 너무 빠르거나 느리게 재생\n",
    "\n",
    "fps = cap.get(cv2.CAP_PROP_FPS) \n",
    "print('FPS :', fps)\n",
    "\n",
    "# FPS 값을 이용하여 매 프레임 사이의 시간 간격 계산 (delay) \n",
    "# 이 delay 값 활용하여 추후 waitKey() 함수의 인자로 사용 ==> 각 프레임 사이 몇초 쉴지"
   ]
  },
  {
   "cell_type": "code",
   "execution_count": 3,
   "metadata": {
    "scrolled": true
   },
   "outputs": [
    {
     "name": "stdout",
     "output_type": "stream",
     "text": [
      "Video open failed!\n",
      "<VideoCapture 000002822D7EBBF0>\n",
      "Frame width : 0\n",
      "Frame height : 0\n",
      "Frame count : 0\n",
      "FPS : 0.0\n"
     ]
    },
    {
     "ename": "ZeroDivisionError",
     "evalue": "float division by zero",
     "output_type": "error",
     "traceback": [
      "\u001b[1;31m---------------------------------------------------------------------------\u001b[0m",
      "\u001b[1;31mZeroDivisionError\u001b[0m                         Traceback (most recent call last)",
      "\u001b[1;32m<ipython-input-3-2ca84d83da27>\u001b[0m in \u001b[0;36m<module>\u001b[1;34m\u001b[0m\n\u001b[0;32m     13\u001b[0m \u001b[0mfps\u001b[0m \u001b[1;33m=\u001b[0m \u001b[0mcap\u001b[0m\u001b[1;33m.\u001b[0m\u001b[0mget\u001b[0m\u001b[1;33m(\u001b[0m\u001b[0mcv2\u001b[0m\u001b[1;33m.\u001b[0m\u001b[0mCAP_PROP_FPS\u001b[0m\u001b[1;33m)\u001b[0m\u001b[1;33m\u001b[0m\u001b[1;33m\u001b[0m\u001b[0m\n\u001b[0;32m     14\u001b[0m \u001b[0mprint\u001b[0m\u001b[1;33m(\u001b[0m\u001b[1;34m'FPS :'\u001b[0m\u001b[1;33m,\u001b[0m \u001b[0mfps\u001b[0m\u001b[1;33m)\u001b[0m\u001b[1;33m\u001b[0m\u001b[1;33m\u001b[0m\u001b[0m\n\u001b[1;32m---> 15\u001b[1;33m \u001b[0mdelay\u001b[0m \u001b[1;33m=\u001b[0m \u001b[0mround\u001b[0m\u001b[1;33m(\u001b[0m\u001b[1;36m1000\u001b[0m \u001b[1;33m/\u001b[0m \u001b[0mfps\u001b[0m\u001b[1;33m)\u001b[0m\u001b[1;33m\u001b[0m\u001b[1;33m\u001b[0m\u001b[0m\n\u001b[0m\u001b[0;32m     16\u001b[0m \u001b[1;33m\u001b[0m\u001b[0m\n\u001b[0;32m     17\u001b[0m \u001b[1;33m\u001b[0m\u001b[0m\n",
      "\u001b[1;31mZeroDivisionError\u001b[0m: float division by zero"
     ]
    }
   ],
   "source": [
    "import cv2\n",
    "\n",
    "cap = cv2.VideoCapture('stopwatch.avi')\n",
    "if not cap.isOpened():\n",
    "    print(\"Video open failed!\")\n",
    "    exit()\n",
    "\n",
    "print(cap)\n",
    "print('Frame width :', int(cap.get(cv2.CAP_PROP_FRAME_WIDTH)))\n",
    "print('Frame height :', int(cap.get(cv2.CAP_PROP_FRAME_HEIGHT)))\n",
    "print('Frame count :', int(cap.get(cv2.CAP_PROP_FRAME_COUNT)))\n",
    "\n",
    "fps = cap.get(cv2.CAP_PROP_FPS)\n",
    "print('FPS :', fps)\n",
    "delay = round(1000 / fps)\n",
    "\n",
    "\n",
    "while True:\n",
    "    ret, frame = cap.read() # 각 frame을 읽어서 (if 에러, ret(return)값 없음)\n",
    "    \n",
    "    if not ret: # 에러가 없을 경우 if문 안들어가고 아래로 넘어감 (ret : return)\n",
    "        break\n",
    "        \n",
    "    inversed = ~frame # 반전시키고\n",
    "    \n",
    "    cv2.imshow('frame', frame)\n",
    "    cv2.imshow('inversed', inversed)\n",
    "    \n",
    "    if cv2.waitKey(delay) == 27: # delay 마다 화면에 출력 ==> 모든 프레임 / 27 : esc\n",
    "        break  # 즉, 각 프레임 사이에 몇 초를 쉬어야 하는지 (==delay!)\n",
    "\n",
    "cv2.destroyAllWindows()"
   ]
  },
  {
   "cell_type": "markdown",
   "metadata": {},
   "source": [
    "## 동영상 파일 저장하기"
   ]
  },
  {
   "cell_type": "code",
   "execution_count": null,
   "metadata": {},
   "outputs": [],
   "source": [
    "# fourcc : 4-문자 코드(4-character code)의 약자 (4개의 문자로 구성된 코드)\n",
    "# fourcc에 해당하는 **정수** 값은 fourcc() 함수를 사용하여 생성\n",
    "\n",
    "fourcc = cv2.VideoWriter_fourcc(*'DIVX') # DicX MPEG-4 코덱 ('X264' : H.264 코덱)\n",
    "\n",
    "\n",
    "# VideoWriter 클래스의 초기화\n",
    "\n",
    "outputVideo = cv2.VideoWriter('output.avi', fourcc, fps, (w,h))\n",
    "# (저장할 파일 이름, 코덱 종류, 저장할 동영상의 FPS 값, (프레임의 w, h))\n",
    "\n",
    "\n",
    "# 여기에 write()함수를 사용하여 프레임 한장 한장 추가"
   ]
  },
  {
   "cell_type": "code",
   "execution_count": null,
   "metadata": {},
   "outputs": [],
   "source": [
    "# stopwatch.avi를 읽어서 반전한 영상을 저장하기\n",
    "\n",
    "import cv2\n",
    "\n",
    "cap = cv2.VideoCapture('stopwatch.avi')\n",
    "\n",
    "if not cap.isOpened():\n",
    "    print('Video open failed!')\n",
    "    exit()\n",
    "    \n",
    "w = round(cap.get(cv2.CAP_PROP_FRAME_WIDTH))\n",
    "h = round(cap.get(cv2.CAP_PROP_FRAME_HEIGHT))\n",
    "fps = cap.get(cv2.CAP_PROP_FPS)\n",
    "print(fps)\n",
    "\n",
    "fourcc = cv2.VideoWriter_fourcc(*'DIVX') # int\n",
    "delay = round(1000 / fps)\n",
    "\n",
    "\n",
    "outputVideo = cv2.VideoWriter('output.avi', fourcc, fps, (w,h))\n",
    "if not outputVideo.isOpened():\n",
    "    print('File open failed!')\n",
    "    exit()\n",
    "    \n",
    "while True:\n",
    "    ret, frame = cap.read()\n",
    "    print(ret, frame)\n",
    "    if not ret:\n",
    "        break\n",
    "    \n",
    "    inversed = ~frame\n",
    "    outputVideo.write(inversed)\n",
    "    \n",
    "    cv2.imshow('frame', frame)\n",
    "    cv2.imshow('inversed', inversed)\n",
    "    \n",
    "    if cv2.waitKey(delay) == 27:\n",
    "        break\n",
    "\n",
    "cv2.destroyAllWindows()"
   ]
  }
 ],
 "metadata": {
  "kernelspec": {
   "display_name": "Python 3",
   "language": "python",
   "name": "python3"
  },
  "language_info": {
   "codemirror_mode": {
    "name": "ipython",
    "version": 3
   },
   "file_extension": ".py",
   "mimetype": "text/x-python",
   "name": "python",
   "nbconvert_exporter": "python",
   "pygments_lexer": "ipython3",
   "version": "3.7.3"
  }
 },
 "nbformat": 4,
 "nbformat_minor": 2
}
