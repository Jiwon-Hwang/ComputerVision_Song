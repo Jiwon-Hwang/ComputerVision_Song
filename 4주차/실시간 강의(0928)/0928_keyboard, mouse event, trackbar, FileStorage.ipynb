{
 "cells": [
  {
   "cell_type": "markdown",
   "metadata": {},
   "source": [
    "##  immutable 객체 vs mutable 객체\n",
    "* **immutable** 객체 : **int, string, tuple**\n",
    "> += 와 + 간의 차이 X  \n",
    "* **mutable** 객체 : **np.array, list, dictionary**\n",
    "> += 와 + 간의 차이 ㅇ (**id 다름**)  \n",
    "> ***원본은 그대로 둔 상태에서 새롭게 기존 객체가 가리키는 곳이 업데이트 된다!***"
   ]
  },
  {
   "cell_type": "markdown",
   "metadata": {},
   "source": [
    "### immutable ex)"
   ]
  },
  {
   "cell_type": "code",
   "execution_count": 2,
   "metadata": {},
   "outputs": [
    {
     "name": "stdout",
     "output_type": "stream",
     "text": [
      "10 140729538417760\n",
      "30 140729538418400\n"
     ]
    }
   ],
   "source": [
    "img = 10\n",
    "print(img, id(img))\n",
    "\n",
    "img += 20\n",
    "print(img, id(img))"
   ]
  },
  {
   "cell_type": "code",
   "execution_count": 3,
   "metadata": {},
   "outputs": [
    {
     "name": "stdout",
     "output_type": "stream",
     "text": [
      "10 140729538417760\n",
      "30 140729538418400\n"
     ]
    }
   ],
   "source": [
    "img = 10\n",
    "print(img, id(img))\n",
    "\n",
    "img = img + 20\n",
    "print(img, id(img))"
   ]
  },
  {
   "cell_type": "markdown",
   "metadata": {},
   "source": [
    "### mutable ex)"
   ]
  },
  {
   "cell_type": "code",
   "execution_count": 4,
   "metadata": {},
   "outputs": [
    {
     "name": "stdout",
     "output_type": "stream",
     "text": [
      "[1 2 3] 1552096927216\n",
      "[21 22 23] 1552096927216\n"
     ]
    }
   ],
   "source": [
    "import numpy as np\n",
    "\n",
    "img_list = np.array([1, 2, 3])\n",
    "print(img_list, id(img_list))\n",
    "\n",
    "img_list += 20\n",
    "print(img_list, id(img_list))"
   ]
  },
  {
   "cell_type": "code",
   "execution_count": 5,
   "metadata": {
    "scrolled": true
   },
   "outputs": [
    {
     "name": "stdout",
     "output_type": "stream",
     "text": [
      "[1 2 3] 1552100857456\n",
      "[21 22 23] 1552100857296\n"
     ]
    }
   ],
   "source": [
    "img_list = np.array([1, 2, 3])\n",
    "print(img_list, id(img_list))\n",
    "\n",
    "img_list = img_list + 20\n",
    "print(img_list, id(img_list))"
   ]
  },
  {
   "cell_type": "markdown",
   "metadata": {},
   "source": [
    "<hr>"
   ]
  },
  {
   "cell_type": "code",
   "execution_count": 1,
   "metadata": {},
   "outputs": [],
   "source": [
    "import cv2 as cv"
   ]
  },
  {
   "cell_type": "code",
   "execution_count": 2,
   "metadata": {},
   "outputs": [
    {
     "ename": "KeyboardInterrupt",
     "evalue": "",
     "output_type": "error",
     "traceback": [
      "\u001b[1;31m---------------------------------------------------------------------------\u001b[0m",
      "\u001b[1;31mKeyboardInterrupt\u001b[0m                         Traceback (most recent call last)",
      "\u001b[1;32m<ipython-input-2-3f1c298cf0fd>\u001b[0m in \u001b[0;36m<module>\u001b[1;34m\u001b[0m\n\u001b[0;32m      1\u001b[0m \u001b[1;31m# 특정 키를 눌렀을 때만 창을 닫게끔\u001b[0m\u001b[1;33m\u001b[0m\u001b[1;33m\u001b[0m\u001b[1;33m\u001b[0m\u001b[0m\n\u001b[0;32m      2\u001b[0m \u001b[1;32mwhile\u001b[0m\u001b[1;33m(\u001b[0m\u001b[1;32mTrue\u001b[0m\u001b[1;33m)\u001b[0m\u001b[1;33m:\u001b[0m\u001b[1;33m\u001b[0m\u001b[1;33m\u001b[0m\u001b[0m\n\u001b[1;32m----> 3\u001b[1;33m     \u001b[1;32mif\u001b[0m \u001b[1;33m(\u001b[0m\u001b[0mcv\u001b[0m\u001b[1;33m.\u001b[0m\u001b[0mwaitKey\u001b[0m\u001b[1;33m(\u001b[0m\u001b[1;33m)\u001b[0m \u001b[1;33m==\u001b[0m \u001b[1;36m27\u001b[0m\u001b[1;33m)\u001b[0m \u001b[1;33m:\u001b[0m \u001b[1;31m# esc : 27\u001b[0m\u001b[1;33m\u001b[0m\u001b[1;33m\u001b[0m\u001b[0m\n\u001b[0m\u001b[0;32m      4\u001b[0m         \u001b[1;32mbreak\u001b[0m\u001b[1;33m\u001b[0m\u001b[1;33m\u001b[0m\u001b[0m\n",
      "\u001b[1;31mKeyboardInterrupt\u001b[0m: "
     ]
    }
   ],
   "source": [
    "# 특정 키를 눌렀을 때만 창을 닫게끔\n",
    "while(True):\n",
    "    if (cv.waitKey() == 27) : # esc : 27\n",
    "        break"
   ]
  },
  {
   "cell_type": "code",
   "execution_count": 3,
   "metadata": {},
   "outputs": [
    {
     "name": "stdout",
     "output_type": "stream",
     "text": [
      "EVENT_LBUTTONDOWN: 83, 165\n",
      "EVENT_LBUTTONUP: 391, 438\n"
     ]
    }
   ],
   "source": [
    "# (실습) 마우스 이벤트 처리\n",
    "import cv2\n",
    "\n",
    "def on_mouse(event, x, y, flags, param):\n",
    "    global oldx, oldy\n",
    "    \n",
    "    if event == cv2.EVENT_LBUTTONDOWN:\n",
    "        oldx, oldy = x, y\n",
    "        print('EVENT_LBUTTONDOWN: %d, %d' % (x, y))\n",
    "    \n",
    "    elif event == cv2.EVENT_LBUTTONUP:\n",
    "        print('EVENT_LBUTTONUP: %d, %d' % (x, y))\n",
    "    \n",
    "    elif event == cv2.EVENT_MOUSEMOVE:\n",
    "        if flags & cv2.EVENT_FLAG_LBUTTON:\n",
    "            cv2.line(img, (oldx, oldy), (x, y), (0, 255, 255), 2)\n",
    "            cv2.imshow('img', img) # 아래 함수 밖에서 선언한 img\n",
    "            oldx, oldy = x, y\n",
    "            \n",
    "            \n",
    "img = cv2.imread('images/lenna.bmp') \n",
    "\n",
    "if img is None:\n",
    "    print('Image load failed!')\n",
    "    exit() # 프로그램 전체 종료!\n",
    "    \n",
    "cv2.namedWindow('img')\n",
    "cv2.setMouseCallback('img', on_mouse)\n",
    "\n",
    "cv2.imshow('img', img)\n",
    "cv2.waitKey()\n",
    "cv2.destroyAllWindows()"
   ]
  },
  {
   "cell_type": "code",
   "execution_count": 4,
   "metadata": {},
   "outputs": [],
   "source": [
    "# (실습) 트랙바 사용하기\n",
    "import numpy as np\n",
    "import cv2\n",
    "\n",
    "def saturated(value):\n",
    "    # 0보다 작아지거나 255를 넘어버리면 다른 픽셀 값으로 보이므로 예외처리!\n",
    "    if value > 255:\n",
    "        value = 255\n",
    "    elif value < 0: \n",
    "        value = 0\n",
    "        \n",
    "    return value\n",
    "\n",
    "def on_level_change(pos): # position\n",
    "    img[:] = saturated(pos * 16)\n",
    "    cv2.imshow('image', img)\n",
    "    \n",
    "img = np.zeros((400, 400), np.uint8)\n",
    "\n",
    "cv2.namedWindow('image')\n",
    "cv2.createTrackbar('level', 'image', 0, 16, on_level_change)\n",
    "\n",
    "cv2.imshow('image', img)\n",
    "cv2.waitKey()\n",
    "cv2.destroyAllWindows()"
   ]
  },
  {
   "cell_type": "code",
   "execution_count": null,
   "metadata": {},
   "outputs": [],
   "source": [
    "# (실습) 데이터 파일 저장하기\n"
   ]
  }
 ],
 "metadata": {
  "kernelspec": {
   "display_name": "Python 3",
   "language": "python",
   "name": "python3"
  },
  "language_info": {
   "codemirror_mode": {
    "name": "ipython",
    "version": 3
   },
   "file_extension": ".py",
   "mimetype": "text/x-python",
   "name": "python",
   "nbconvert_exporter": "python",
   "pygments_lexer": "ipython3",
   "version": "3.7.3"
  }
 },
 "nbformat": 4,
 "nbformat_minor": 2
}
