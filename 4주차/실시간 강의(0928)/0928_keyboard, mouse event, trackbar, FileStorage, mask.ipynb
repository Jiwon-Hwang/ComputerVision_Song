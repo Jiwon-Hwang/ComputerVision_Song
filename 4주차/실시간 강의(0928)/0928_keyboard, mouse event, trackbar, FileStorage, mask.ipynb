{
 "cells": [
  {
   "cell_type": "markdown",
   "metadata": {},
   "source": [
    "##  immutable 객체 vs mutable 객체\n",
    "* **immutable** 객체 : **int, string, tuple**\n",
    "> += 와 + 간의 차이 X    \n",
    "* **mutable** 객체 : **np.array, list, dictionary**\n",
    "> += 와 + 간의 차이 ㅇ  \n",
    "  \n",
    "***mutable의 = 의 경우, 연산 결과가 새로운 위치에 저장되고, 원본은 그대로 둔 상태에서 새롭게 기존 객체가 가리키는 곳이 업데이트 된다!***"
   ]
  },
  {
   "cell_type": "markdown",
   "metadata": {},
   "source": [
    "### immutable ex)\n",
    "+= 와 + 간의 차이 없음"
   ]
  },
  {
   "cell_type": "code",
   "execution_count": 1,
   "metadata": {},
   "outputs": [
    {
     "name": "stdout",
     "output_type": "stream",
     "text": [
      "10 140708915483744\n",
      "30 140708915484384\n"
     ]
    }
   ],
   "source": [
    "img = 10\n",
    "print(img, id(img))\n",
    "\n",
    "img += 20\n",
    "print(img, id(img))"
   ]
  },
  {
   "cell_type": "code",
   "execution_count": 2,
   "metadata": {},
   "outputs": [
    {
     "name": "stdout",
     "output_type": "stream",
     "text": [
      "10 140708915483744\n",
      "30 140708915484384\n"
     ]
    }
   ],
   "source": [
    "img = 10\n",
    "print(img, id(img))\n",
    "\n",
    "img = img + 20\n",
    "print(img, id(img))"
   ]
  },
  {
   "cell_type": "markdown",
   "metadata": {},
   "source": [
    "### mutable ex)\n",
    "+= 와 +의 차이 있음"
   ]
  },
  {
   "cell_type": "code",
   "execution_count": 3,
   "metadata": {},
   "outputs": [
    {
     "name": "stdout",
     "output_type": "stream",
     "text": [
      "[1 2 3] 2557799736864\n",
      "[21 22 23] 2557799736864\n"
     ]
    }
   ],
   "source": [
    "import numpy as np\n",
    "\n",
    "img_list = np.array([1, 2, 3])\n",
    "print(img_list, id(img_list))\n",
    "\n",
    "img_list += 20\n",
    "print(img_list, id(img_list)) # += : 같은 공간에 연산 결과 update"
   ]
  },
  {
   "cell_type": "code",
   "execution_count": 4,
   "metadata": {
    "scrolled": true
   },
   "outputs": [
    {
     "name": "stdout",
     "output_type": "stream",
     "text": [
      "[1 2 3] 2557820273968\n",
      "[21 22 23] 2557820274368\n"
     ]
    }
   ],
   "source": [
    "img_list = np.array([1, 2, 3])\n",
    "print(img_list, id(img_list))\n",
    "\n",
    "img_list = img_list + 20\n",
    "print(img_list, id(img_list)) # = : 새로운 공간 생성"
   ]
  },
  {
   "cell_type": "markdown",
   "metadata": {},
   "source": [
    "<hr>"
   ]
  },
  {
   "cell_type": "markdown",
   "metadata": {},
   "source": [
    "# 이벤트 처리\n",
    "* 키보드 이벤트 처리\n",
    "* 마우스 이벤트 처리"
   ]
  },
  {
   "cell_type": "markdown",
   "metadata": {},
   "source": [
    "## 키보드 이벤트 처리"
   ]
  },
  {
   "cell_type": "code",
   "execution_count": 5,
   "metadata": {},
   "outputs": [],
   "source": [
    "import cv2 as cv"
   ]
  },
  {
   "cell_type": "code",
   "execution_count": 6,
   "metadata": {},
   "outputs": [
    {
     "ename": "KeyboardInterrupt",
     "evalue": "",
     "output_type": "error",
     "traceback": [
      "\u001b[1;31m---------------------------------------------------------------------------\u001b[0m",
      "\u001b[1;31mKeyboardInterrupt\u001b[0m                         Traceback (most recent call last)",
      "\u001b[1;32m<ipython-input-6-66586cd66509>\u001b[0m in \u001b[0;36m<module>\u001b[1;34m\u001b[0m\n\u001b[0;32m      1\u001b[0m \u001b[1;31m# 특정 키를 눌렀을 때만 창을 닫게끔 / 지정한 시간 동안 키가 눌리지 않았으면 -1 반환\u001b[0m\u001b[1;33m\u001b[0m\u001b[1;33m\u001b[0m\u001b[1;33m\u001b[0m\u001b[0m\n\u001b[0;32m      2\u001b[0m \u001b[1;32mwhile\u001b[0m\u001b[1;33m(\u001b[0m\u001b[1;32mTrue\u001b[0m\u001b[1;33m)\u001b[0m\u001b[1;33m:\u001b[0m\u001b[1;33m\u001b[0m\u001b[1;33m\u001b[0m\u001b[0m\n\u001b[1;32m----> 3\u001b[1;33m     \u001b[1;32mif\u001b[0m \u001b[1;33m(\u001b[0m\u001b[0mcv\u001b[0m\u001b[1;33m.\u001b[0m\u001b[0mwaitKey\u001b[0m\u001b[1;33m(\u001b[0m\u001b[1;33m)\u001b[0m \u001b[1;33m==\u001b[0m \u001b[1;36m27\u001b[0m\u001b[1;33m)\u001b[0m \u001b[1;33m:\u001b[0m \u001b[1;31m# esc : 27, 다른키 눌렸을 때는 안 꺼지도록 무한 루프\u001b[0m\u001b[1;33m\u001b[0m\u001b[1;33m\u001b[0m\u001b[0m\n\u001b[0m\u001b[0;32m      4\u001b[0m         \u001b[1;32mbreak\u001b[0m\u001b[1;33m\u001b[0m\u001b[1;33m\u001b[0m\u001b[0m\n",
      "\u001b[1;31mKeyboardInterrupt\u001b[0m: "
     ]
    }
   ],
   "source": [
    "# 특정 키를 눌렀을 때만 창을 닫게끔 / 지정한 시간 동안 키가 눌리지 않았으면 -1 반환\n",
    "while(True):\n",
    "    if (cv.waitKey() == 27) : # esc : 27, 다른키 눌렸을 때는 안 꺼지도록 무한 루프\n",
    "        break"
   ]
  },
  {
   "cell_type": "code",
   "execution_count": 8,
   "metadata": {},
   "outputs": [],
   "source": [
    "# (실습) 여러 키 입력에 대해서 서로 다른 처리를 하고 싶은 경우 (i, q)\n",
    "\n",
    "import cv2\n",
    "\n",
    "img = cv2.imread('images/lenna.bmp')\n",
    "if img is None :\n",
    "    print('Image load failed!')\n",
    "    exit()\n",
    "\n",
    "# cf. cv2.namedWindow() : 윈도우를 고정크기로 할지, 사용자가 크기 조절 가능한지 결정\n",
    "cv2.namedWindow('img', cv2.WINDOW_NORMAL) \n",
    "cv2.imshow('img', img)\n",
    "\n",
    "while True:\n",
    "    keycode = cv2.waitKey() # 자체적으로 무한 루프 돌면서 키 입력 받아옴\n",
    "    if keycode == ord('i') or keycode == ord('I'): # i나 I 눌렸을 때\n",
    "        img = ~img # inverse\n",
    "        cv2.imshow('img', img)\n",
    "    elif keycode == 27 or keycode == ord('q') or keycode == ord('Q'): # esc나 q,Q\n",
    "        break # 종료\n",
    "\n",
    "cv2.destroyAllWindows()"
   ]
  },
  {
   "cell_type": "markdown",
   "metadata": {},
   "source": [
    "## 마우스 이벤트 처리\n",
    "* event : MouseEventType으로 정의된 열거형 상수 중 하나 ==> **이벤트 한번**\n",
    "* x, y : 마우스 이벤트가 발생한 위치의 좌표\n",
    "* flags : MouseEventFlags 열거형 상수의 논리합 조합 ==> **뭐가 눌려 있는 상탠지**"
   ]
  },
  {
   "cell_type": "markdown",
   "metadata": {},
   "source": [
    "## (실습) 마우스 이벤트 처리\n",
    "* 마우스 왼쪽 버튼을 누르거나 뗸 좌표를 출력\n",
    "* 왼쪽 버튼을 누른 상태로 마우스를 움직이면 궤적을 따라 영상 위에 노란색으로 표시\n",
    "* **on_Mouse** 함수를 선언하여 **callback 함수로 지정**"
   ]
  },
  {
   "cell_type": "code",
   "execution_count": 9,
   "metadata": {},
   "outputs": [
    {
     "name": "stdout",
     "output_type": "stream",
     "text": [
      "EVENT_LBUTTONDOWN: 147, 80\n",
      "EVENT_LBUTTONUP: 135, 213\n",
      "EVENT_LBUTTONDOWN: 130, 240\n",
      "EVENT_LBUTTONUP: 74, 405\n",
      "EVENT_LBUTTONDOWN: 63, 437\n",
      "EVENT_LBUTTONUP: 58, 519\n",
      "EVENT_LBUTTONDOWN: 386, 508\n",
      "EVENT_LBUTTONUP: 315, 396\n",
      "EVENT_LBUTTONDOWN: 341, 136\n",
      "EVENT_LBUTTONUP: 603, 13\n"
     ]
    }
   ],
   "source": [
    "# (실습) 마우스 이벤트 처리\n",
    "import cv2\n",
    "\n",
    "# on_mouse : callback 함수\n",
    "def on_mouse(event, x, y, flags, param):\n",
    "    global oldx, oldy\n",
    "    \n",
    "    if event == cv2.EVENT_LBUTTONDOWN:\n",
    "        oldx, oldy = x, y\n",
    "        print('EVENT_LBUTTONDOWN: %d, %d' % (x, y))\n",
    "    \n",
    "    elif event == cv2.EVENT_LBUTTONUP:\n",
    "        print('EVENT_LBUTTONUP: %d, %d' % (x, y))\n",
    "    \n",
    "    elif event == cv2.EVENT_MOUSEMOVE: # 마우스를 움직이고 있고\n",
    "        if flags & cv2.EVENT_FLAG_LBUTTON: # 왼쪽 마우스 버튼이 눌린 상태이면\n",
    "            cv2.line(img, (oldx, oldy), (x, y), (0, 255, 255), 2) # 노란선 그리기\n",
    "            cv2.imshow('img', img) # 아래 함수 밖에서 선언한 img\n",
    "            oldx, oldy = x, y\n",
    "            \n",
    "            \n",
    "img = cv2.imread('images/lenna.bmp') \n",
    "\n",
    "if img is None:\n",
    "    print('Image load failed!')\n",
    "    exit() # 프로그램 전체 종료!\n",
    "    \n",
    "cv2.namedWindow('img')\n",
    "cv2.setMouseCallback('img', on_mouse) # on_mouse()를 마우스 콜백함수로 지정\n",
    "\n",
    "cv2.imshow('img', img)\n",
    "cv2.waitKey() # 키보드 입력이 있을 때에만 창 종료\n",
    "cv2.destroyAllWindows()"
   ]
  },
  {
   "cell_type": "markdown",
   "metadata": {},
   "source": [
    "## 트랙바 사용하기\n",
    "* 영상 출력 창의 **상단**에 부착됨\n",
    "* 필요한 경우 하나에 여러 개의 트랙바 생성 가능\n",
    "* 각각의 트랙바에 **고유한 이름** 지정해야 함 (트랙바 왼쪽에 이름 나타남)\n",
    "* **cv2.createTrackbar(트랙바 이름, 트랙바 생성할 창 이름, 시작 위치, 최대 위치, 콜백함수명)**\n",
    "* cv2.getTrackbarPos() : 트랙바의 현재 위치\n",
    "* cv2.setTrackbarPos() : 트랙바의 위치를 강제로 특정 위치로 옮기고 싶을 경우"
   ]
  },
  {
   "cell_type": "markdown",
   "metadata": {},
   "source": [
    "## (실습) 트랙바 사용하기\n",
    "* 그레이스케일 레벨을 16단계로 보여주기\n",
    "* 트랙바 위치 (pos)에 16을 곱한 결과를 전체 픽셀 값으로 설정"
   ]
  },
  {
   "cell_type": "code",
   "execution_count": 11,
   "metadata": {},
   "outputs": [],
   "source": [
    "# (실습) 트랙바 사용하기\n",
    "import numpy as np\n",
    "import cv2\n",
    "\n",
    "def saturated(value):\n",
    "    # 0보다 작아지거나 255를 넘어버리면 다른 픽셀 값으로 보이므로 예외처리!\n",
    "    if value > 255:\n",
    "        value = 255\n",
    "    elif value < 0: \n",
    "        value = 0\n",
    "        \n",
    "    return value\n",
    "\n",
    "# 트랙바 콜백 함수\n",
    "def on_level_change(pos): # position (현재 트랙바의 위치)\n",
    "    img[:] = saturated(pos * 16) # numpy 배열의 모든 요소값들은 saturated reuturn값으로\n",
    "    cv2.imshow('image', img)\n",
    "    \n",
    "    \n",
    "img = np.zeros((400, 400), np.uint8)\n",
    "\n",
    "cv2.namedWindow('image') # 창 이름 설정\n",
    "cv2.createTrackbar('level', 'image', 0, 16, on_level_change) # 0 : pos 시작 위치\n",
    "# 0을 4로 바꾸면 트랙바 위치가 4부터 시작함 (단, 항상 최솟값은 0)\n",
    "\n",
    "cv2.imshow('image', img)\n",
    "cv2.waitKey()\n",
    "cv2.destroyAllWindows()"
   ]
  },
  {
   "cell_type": "markdown",
   "metadata": {},
   "source": [
    "# OpenCV 데이터 파일 입출력\n",
    "* imwrite() : **uint8(0~255)** 자료형의 데이터만 저장 가능\n",
    "* 이외에 int, float, double 등의 자료형을 사용하는 일반적인 행렬 ==> **영상 파일로 저장 불가!**\n",
    "* 이러한 **일반적인 행렬** ==> XML, YAML, JSON 등으로 **저장(write)**하고 **불러오는(read)** 기능 제공 (OpenCV)\n",
    "    * **FileStorage()** 클래스!"
   ]
  },
  {
   "cell_type": "markdown",
   "metadata": {},
   "source": [
    "## FileStorage 클래스\n",
    "* 데이터 파일 입출력 기능들 제공\n",
    "* **FileStorage 객체**를 생성하여 데이터를 **저장하거나 읽어 옴**\n",
    "* 생성자의 두 번째 인자 **flags** : **파일 열기 모드** 결정\n",
    "    * ex) cv2.FILE_STORAGE_READ : 읽기 모드\n",
    "* isOpened() : 파일이 정상적으로 열렸는지 확인 (T/F)\n",
    "* release() : 사용 중인 파일 닫고 메모리 버퍼 해제\n",
    "> 저장이든 읽기든, FileStorage 객체 다 사용했으면 꼭 **release()** 해주기!!!"
   ]
  },
  {
   "cell_type": "markdown",
   "metadata": {},
   "source": [
    "## (실습) 데이터 파일 저장하기 (write)\n",
    "* fs = cv2.FileStorage(filename, **cv2.FILE_STORAGE_WRITE**) ==> **쓰기모드로 열기**\n",
    "* **fs.write()**"
   ]
  },
  {
   "cell_type": "code",
   "execution_count": 18,
   "metadata": {},
   "outputs": [],
   "source": [
    "import numpy as np\n",
    "import cv2\n",
    "\n",
    "filename = 'mydata.json' # json 형식으로 저장하기\n",
    "# filename = 'mydata.xml'\n",
    "# filename = 'mydata.yml'\n",
    "\n",
    "def writeData():\n",
    "    name = 'Jane'\n",
    "    age = 10\n",
    "    pt1 = (100, 200)\n",
    "    scores = (80, 90, 50)\n",
    "    mat1 = np.array([[1.0, 1.5], [2.0, 3.2]], dtype = np.float32)\n",
    "    # uint8만 저장 가능한 imwrite()와 달리, 이번엔 float32 자료형도 저장 가능~!(json)\n",
    "    \n",
    "    fs = cv2.FileStorage(filename, cv2.FILE_STORAGE_WRITE) # 쓰기 모드 (생성자)\n",
    "    \n",
    "    if not fs.isOpened():\n",
    "        print('File open failed!')\n",
    "        return\n",
    "    \n",
    "    # (key, value) ==> json 문법\n",
    "    fs.write('name', name)\n",
    "    fs.write('age', age)\n",
    "    fs.write('point', pt1)\n",
    "    fs.write('scores', scores)\n",
    "    fs.write('data', mat1)\n",
    "    \n",
    "    fs.release() # ***FileStorage 객체 다 사용했으면 꼭 메모리 해제해주기!!***\n",
    "    \n",
    "writeData() # mydata.json 생성"
   ]
  },
  {
   "cell_type": "markdown",
   "metadata": {},
   "source": [
    "## (실습) 데이터 파일 불러오기\n",
    "* fs = cv2.FileStorage(filename, **cv2.FILE_STORAGE_READ**) ==> **읽기모드로 열기**\n",
    "* 읽기모드로 열면 파일 전체를 분석하여 계층적 구조를 갖는 노드(node) 집합 구성\n",
    "    * **노드(node)** : (key, value) 쌍\n",
    "    * **getNode()**로 특정 이름으로 저장되어 있는 Node에 접근"
   ]
  },
  {
   "cell_type": "code",
   "execution_count": 34,
   "metadata": {},
   "outputs": [
    {
     "name": "stdout",
     "output_type": "stream",
     "text": [
      "<FileNode 0000025388F87E68>\n",
      "10.0\n",
      "[[100.]\n",
      " [200.]]\n",
      "\n",
      "name: Jane\n",
      "age: 10\n",
      "point: (100, 200)\n",
      "scores: (80.0, 90.0, 50.0)\n",
      "data:\n",
      "[[1.  1.5]\n",
      " [2.  3.2]]\n"
     ]
    }
   ],
   "source": [
    "def readData():    \n",
    "    fs = cv2.FileStorage(filename, cv2.FILE_STORAGE_READ) # 읽기 모드 (생성자)\n",
    "    \n",
    "    if not fs.isOpened():\n",
    "        print('File open failed!')\n",
    "        return\n",
    "    \n",
    "    name = fs.getNode('name').string() # 그냥 객체(노드)의 string 값 가져오기\n",
    "    age = int(fs.getNode('age').real())\n",
    "    pt1 = tuple(fs.getNode('point').mat().astype(np.int32).flatten())\n",
    "    scores = tuple(fs.getNode('scores').mat().flatten())\n",
    "    mat1 = fs.getNode('data').mat()\n",
    "    \n",
    "    print(fs.getNode('name')) # 뒤에 .string() 안해주면 객체 정보 출력됨\n",
    "    print(fs.getNode('age').real()) # int로 형변환 안해주면 실수형으로 출력됨(10.0)\n",
    "    print(fs.getNode('point').mat()) # astype이랑 flatten() 안해주면 2차원 실수 배열\n",
    "    print()\n",
    "    \n",
    "    fs.release() # ***FileStorage 객체 다 사용했으면 꼭 메모리 해제해주기!!***\n",
    "    \n",
    "    print('name:', name)\n",
    "    print('age:', age)\n",
    "    print('point:', pt1)\n",
    "    print('scores:', scores)\n",
    "    print('data:')\n",
    "    print(mat1)\n",
    "\n",
    "filename = 'mydata.json'\n",
    "readData()"
   ]
  },
  {
   "cell_type": "markdown",
   "metadata": {},
   "source": [
    "# 유용한 OpenCV 기능\n",
    "* 마스크 연산\n",
    "* 연산 시간 측정\n",
    "* NumPy의 sum(), mean(), minMaxLoc(), normalize(), round()"
   ]
  },
  {
   "cell_type": "markdown",
   "metadata": {},
   "source": [
    "## 마스크 연산\n",
    "* 임의의 모양을 갖는 ROI(Region-of-Interest) 설정을 위해 마스크 연산\n",
    "* 보통 입력영상과 크기 같고, **CV_8U (uint8)** 형태로 마스크 지정됨 (0~255)\n",
    "    * 보통 0 아니면 255 (흑백영상)"
   ]
  },
  {
   "cell_type": "markdown",
   "metadata": {},
   "source": [
    "## (실습) 마스크 영상\n",
    "* 영상의 일부 영역에 대해서만 픽셀 값을 노란색으로 설정"
   ]
  },
  {
   "cell_type": "code",
   "execution_count": 36,
   "metadata": {},
   "outputs": [],
   "source": [
    "def mask_setTo():\n",
    "    src = cv2.imread('images/lenna.bmp', cv2.IMREAD_COLOR)\n",
    "    mask = cv2.imread('images/mask_smile.bmp', cv2.IMREAD_GRAYSCALE)\n",
    "    \n",
    "    if src is None or mask is None :\n",
    "        print('Image load failed!')\n",
    "        return\n",
    "    \n",
    "    src[mask > 0] = (0, 255, 255) # (B, G, R) ==> 노란색 (흰부분만 노란색으로)\n",
    "    \n",
    "    cv2.imshow('src', src)\n",
    "    cv2.imshow('mask', mask)\n",
    "    cv2.waitKey()\n",
    "    cv2.destroyAllWindows()\n",
    "\n",
    "mask_setTo()"
   ]
  }
 ],
 "metadata": {
  "kernelspec": {
   "display_name": "Python 3",
   "language": "python",
   "name": "python3"
  },
  "language_info": {
   "codemirror_mode": {
    "name": "ipython",
    "version": 3
   },
   "file_extension": ".py",
   "mimetype": "text/x-python",
   "name": "python",
   "nbconvert_exporter": "python",
   "pygments_lexer": "ipython3",
   "version": "3.7.3"
  }
 },
 "nbformat": 4,
 "nbformat_minor": 2
}
