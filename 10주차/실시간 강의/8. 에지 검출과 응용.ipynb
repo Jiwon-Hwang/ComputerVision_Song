{
 "cells": [
  {
   "cell_type": "markdown",
   "metadata": {},
   "source": [
    "## 소벨(Sobel) 필터\n",
    "* OpenCV에서 제공하는 소벨 마스크를 이용한 **영상 미분 함수** (**[1, 2, 1]**)\n",
    "* **dst = cv2.Sobel(src, ddepth, dx, dy)**\n",
    "    * dst : src를 편미분한 결과\n",
    "    * ddepth : dst 영상의 **자료형** (**-1** : src와 같은 타입의 영상 생성)\n",
    "    * dx, dy : x방향, y방향으로의 편미분 차수 (대부분 1차 미분)"
   ]
  },
  {
   "cell_type": "markdown",
   "metadata": {},
   "source": [
    "## 샤르(Scharr) 필터\n",
    "* 3x3 소벨 마스크보다 정확한 미분 계산 수행 (**[3, 10, 3]**)\n",
    "* **cv2.Scharr(src, ddepth, dx, dy)**\n",
    "\n",
    "  \n",
    "> **cv2.magnitude(x벡터, y벡터) : 벡터의 크기 계산 (그래디언트 크기)**  \n",
    "![](magnitude.png)\n",
    "> **cv2.phase(x벡터, y벡터, T/F) : 벡터의 각도 계산 (그래디언트 방향)**\n",
    "![](angle.png)  \n",
    "* atan : 아크탄젠트 (y/x값을 통해 세타 값 구하기)  \n",
    "* T : degree 단위 / F : radian 단위"
   ]
  },
  {
   "cell_type": "markdown",
   "metadata": {},
   "source": [
    "## (실습) 마스크 기반 에지 검출\n",
    "레나 영상에 대해 **x축 방향과 y축 방향으로 1차 미분 후, [그래디언트 크기 > T]**인 픽셀을 에지로 검출  \n",
    "> * **np.clip(fmag, 0, 255)** : 0~255를 벗어나는 값은 0과 255로 처리  \n",
    "> * **np.uint8()** : float형을 unsigned int형으로 변환\n",
    "\n",
    "### ※(소벨) 마스크 기반 에지 검출기 : 그래디언트 '크기'만 고려!※"
   ]
  },
  {
   "cell_type": "code",
   "execution_count": 1,
   "metadata": {},
   "outputs": [],
   "source": [
    "import cv2\n",
    "import numpy as np\n",
    "\n",
    "def sobel_edge():\n",
    "    src = cv2.imread('lenna.bmp', cv2.IMREAD_GRAYSCALE)\n",
    "    \n",
    "    dx = cv2.Sobel(src, cv2.CV_32F, 1, 0) # x로 편미분 (x축으로만 1차미분)\n",
    "    dy = cv2.Sobel(src, cv2.CV_32F, 0, 1) # y로 편미분 (y축으로만 1차미분)\n",
    "    \n",
    "    fmag = cv2.magnitude(dx, dy) # 그래디언트 크기 계산\n",
    "    mag = np.uint8(np.clip(fmag, 0, 255)) # 0~255를 벗어나는 값은 0과 255로 처리\n",
    "    _, edge = cv2.threshold(mag, 150, 255, cv2.THRESH_BINARY) # 이진화(T:150, 최대값:255)\n",
    "    \n",
    "    cv2.imshow('src', src)\n",
    "    cv2.imshow('mag', mag)\n",
    "    cv2.imshow('edge', edge)\n",
    "    cv2.waitKey()\n",
    "    cv2.destroyAllWindows()\n",
    "    \n",
    "sobel_edge()"
   ]
  },
  {
   "cell_type": "markdown",
   "metadata": {},
   "source": [
    "![](sobel_result.png)"
   ]
  },
  {
   "cell_type": "markdown",
   "metadata": {},
   "source": [
    "## 캐니 에지 검출기\n",
    "* 소벨 에지 검출 방법의 단점 해결\n",
    "* **좋은 에지 검출기의 조건 3가지** (만족 : 캐니 에지 검출기)\n",
    "    1. 정확한 검출 : 에지를 검출하지 못하거나, 에지가 아닌 것을 에지로 검출할 확률 최소화\n",
    "    2. 정확한 위치 : 실제 에지의 중심을 찾아야 함\n",
    "    3. 단일 에지 : 하나의 에지는 하나의 점을 표현되어야 함 (하나의 점들의 집합)  \n",
    "  \n",
    "    \n",
    "* **서로 '연결'되어 있는 가능성을 고려하여 그래디언트 크기 약한 에지도 놓치지 않고 찾을 수 있음!!**\n",
    "\n",
    "### ※캐니 에지 검출기 : 그래디언트의 '크기'와 '방향' 모두 고려!※\n",
    "소벨, 샤르 필터(마스크) 기반 에지 검출기 : **'크기'**만 고려 후 T 이상 값으로"
   ]
  },
  {
   "cell_type": "markdown",
   "metadata": {},
   "source": [
    "* 캐니 에지 검출기의 4개의 연산 과정\n",
    "    1. 가우시안 필터링 (for. 노이즈 제거)\n",
    "    2. 그래디언트 계산\n",
    "    3. 비최대 억제\n",
    "    4. 이중 임계값을 이용한 히스테리시스 에지 트래킹"
   ]
  },
  {
   "cell_type": "markdown",
   "metadata": {},
   "source": [
    "## (1) 가우시안 필터링\n",
    "for 잡음 제거 (노이즈가 심하지 않으면 생략 가능)"
   ]
  },
  {
   "cell_type": "markdown",
   "metadata": {},
   "source": [
    "## (2) 그래디언트 계산\n",
    "* 보통 3x3 소벨 마스크 사용하여 그래디언트 계산\n",
    "* 가로, 세로 방향으로 각각 소벨 마스크 필터링 수행 후 크기, 방향 모두 계산\n",
    "* L2놈 or L1놈 형태로 계산 (디폴트 : L1)\n",
    "    * || f || = |fx| + |fy|"
   ]
  },
  {
   "cell_type": "markdown",
   "metadata": {},
   "source": [
    "## (3) 비최대 억제 (non-maximum suppression)\n",
    "* 최대가 아닌 것은 억제하는 것\n",
    "* 에지 근방의, 에지가 아닌 여러 픽셀들이 한꺼번에 에지로 선택되는 것을 방지! (두껍지 않게)\n",
    "* 그래디언트 벡터와 **같은 방향에 있는 인접 픽셀끼리만 국지적 최대 검사 수행**\n",
    "    * 결과적으로 **가장 변화율이 큰** 위치의 픽셀만 에지로 검색됨"
   ]
  },
  {
   "cell_type": "markdown",
   "metadata": {},
   "source": [
    "## (4) 이중 임계값을 이용한 히스테리시스 에지 트래킹\n",
    "* 하나의 T(임계값)을 사용할 경우 환경변화에 민감해지는 것을 보완 \n",
    "> 따라서 **2개의 임계값** 사용!  \n",
    "* 픽셀값 > T high : 강한 에지\n",
    "* 픽셀값 < T low : 에지가 아님\n",
    "* T low < 픽셀값 < T high : **약한 에지**\n",
    "    * **Tlow와 Thigh 사이**인 픽셀은 추가적인 검사 수행 ==> **히스테리시스 에지 트래킹!**  \n",
    "> if) 약한 에지 & 강한 에지 픽셀과 서로 **연결**되어 있다 ==> **에지**로 판단  \n",
    "> if) 강한 에지와 **연결되어 있지 않은** 약한 에지 ==> **에지가 아니다**로 판단 "
   ]
  },
  {
   "cell_type": "markdown",
   "metadata": {},
   "source": [
    "![](canny_edge(4).png)\n",
    "(a) : 모든 약한 에지 부분이 강한 에지와 연결되어 있으므로 모두 에지로 판단  \n",
    "(b) : 강한 에지와 연결된 부분이 없으므로 전부 에지가 아님\n",
    "(c) : 강한 에지와 에지가 아닌 부분 모두 연결되어있는 부분은, 강한 에지와 연결되어있는 부분까지만 에지로 판단"
   ]
  },
  {
   "cell_type": "markdown",
   "metadata": {},
   "source": [
    "## (실습) 캐니 에지 검출기\n",
    "* (50, 100) : 임계값이 비교적 낮으므로, 좀 더 많은 에지들까지도 검출됨\n",
    "* (50, 150) : 임계값이 비교적 높으므로, 좀 더 적은 에지들만 검출됨"
   ]
  },
  {
   "cell_type": "code",
   "execution_count": 2,
   "metadata": {},
   "outputs": [],
   "source": [
    "def canny_edge():\n",
    "    src = cv2.imread('lenna.bmp', cv2.IMREAD_GRAYSCALE)\n",
    "    \n",
    "    dst1 = cv2.Canny(src, 50, 100) # T low = 50, T high = 100\n",
    "    dst2 = cv2.Canny(src, 50, 150)\n",
    "    \n",
    "    cv2.imshow('src', src)\n",
    "    cv2.imshow('dst1', dst1) \n",
    "    cv2.imshow('dst2', dst2)\n",
    "    cv2.waitKey()\n",
    "    cv2.destroyAllWindows()\n",
    "    \n",
    "canny_edge()"
   ]
  },
  {
   "cell_type": "markdown",
   "metadata": {},
   "source": [
    "![](canny_result.png)"
   ]
  },
  {
   "cell_type": "markdown",
   "metadata": {},
   "source": [
    "<hr>"
   ]
  },
  {
   "cell_type": "markdown",
   "metadata": {},
   "source": [
    "# 직선 검출과 원 검출"
   ]
  },
  {
   "cell_type": "markdown",
   "metadata": {},
   "source": [
    "## 허프 변환 직선 검출 (hough transform)\n",
    "* 우선 에지를 찾아내고, 에지 픽셀들이 일직선상에 배열되어 있는지 확인해야 함\n",
    "* 허프 변환 : 2차원 xy좌표상의 직선의 방정식 --> **파라미터 공간(a,b)**으로 변환\n",
    "> y = ax + b --> b = -xa + y"
   ]
  },
  {
   "cell_type": "markdown",
   "metadata": {},
   "source": [
    "![](xyab.png)\n",
    "두 점 (x0, y0), (x1, y1) 각각을 지나는 무수한 직선들 중 일치하는 직선일 때   \n",
    "> ==> ab평면으로 변환했을 때의 **(a0, b0)**"
   ]
  }
 ],
 "metadata": {
  "kernelspec": {
   "display_name": "Python 3",
   "language": "python",
   "name": "python3"
  },
  "language_info": {
   "codemirror_mode": {
    "name": "ipython",
    "version": 3
   },
   "file_extension": ".py",
   "mimetype": "text/x-python",
   "name": "python",
   "nbconvert_exporter": "python",
   "pygments_lexer": "ipython3",
   "version": "3.7.3"
  }
 },
 "nbformat": 4,
 "nbformat_minor": 2
}
