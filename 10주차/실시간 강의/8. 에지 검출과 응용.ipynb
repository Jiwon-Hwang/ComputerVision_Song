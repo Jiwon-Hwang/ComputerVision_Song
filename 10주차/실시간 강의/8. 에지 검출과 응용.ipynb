{
 "cells": [
  {
   "cell_type": "markdown",
   "metadata": {},
   "source": [
    "## 소벨(Sobel) 필터\n",
    "* OpenCV에서 제공하는 소벨 마스크를 이용한 영상 미분 함수\n",
    "* **dst = cv2.Sobel(src, ddepth, dx, dy)**\n",
    "    * dst : src를 편미분한 결과\n",
    "    * ddepth : dst 영상의 **자료형** (**-1** : src와 같은 타입의 영상 생성)\n",
    "    * dx, dy : x방향, y방향으로의 편미분 차수 (대부분 1차 미분)"
   ]
  },
  {
   "cell_type": "markdown",
   "metadata": {},
   "source": [
    "## 샤르(Scharr) 필터\n",
    "3x3 소벨 마스크보다 정확한 미분 계산 수행"
   ]
  },
  {
   "cell_type": "markdown",
   "metadata": {},
   "source": [
    "## (실습) 마스크 기반 에지 검출"
   ]
  },
  {
   "cell_type": "code",
   "execution_count": 2,
   "metadata": {},
   "outputs": [],
   "source": [
    "import cv2\n",
    "import numpy as np\n",
    "\n",
    "def sobel_edge():\n",
    "    src = cv2.imread('lenna.bmp', cv2.IMREAD_GRAYSCALE)\n",
    "    \n",
    "    dx = cv2.Sobel(src, cv2.CV_32F, 1, 0)\n",
    "    dy = cv2.Sobel(src, cv2.CV_32F, 0, 1)\n",
    "    \n",
    "    fmag = cv2.magnitude(dx, dy)\n",
    "    mag = np.uint8(np.clip(fmag, 0, 255))\n",
    "    _, edge = cv2.threshold(mag, 150, 255, cv2.THRESH_BINARY)\n",
    "    \n",
    "    cv2.imshow('src', src)\n",
    "    cv2.imshow('mag', mag)\n",
    "    cv2.imshow('edge', edge)\n",
    "    cv2.waitKey()\n",
    "    cv2.destroyAllWindows()\n",
    "    \n",
    "sobel_edge()"
   ]
  },
  {
   "cell_type": "markdown",
   "metadata": {},
   "source": [
    "![](sobel_result.png)"
   ]
  }
 ],
 "metadata": {
  "kernelspec": {
   "display_name": "Python 3",
   "language": "python",
   "name": "python3"
  },
  "language_info": {
   "codemirror_mode": {
    "name": "ipython",
    "version": 3
   },
   "file_extension": ".py",
   "mimetype": "text/x-python",
   "name": "python",
   "nbconvert_exporter": "python",
   "pygments_lexer": "ipython3",
   "version": "3.7.3"
  }
 },
 "nbformat": 4,
 "nbformat_minor": 2
}
