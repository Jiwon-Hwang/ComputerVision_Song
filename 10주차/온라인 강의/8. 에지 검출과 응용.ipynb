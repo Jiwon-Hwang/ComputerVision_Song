{
 "cells": [
  {
   "cell_type": "markdown",
   "metadata": {},
   "source": [
    "# 에지 검출과 응용\n",
    "* 에지 검출\n",
    "* 직선 검출과 원 검출"
   ]
  },
  {
   "cell_type": "markdown",
   "metadata": {},
   "source": [
    "# 에지 검출"
   ]
  },
  {
   "cell_type": "markdown",
   "metadata": {},
   "source": [
    "## 미분과 그래디언트\n",
    "* 에지 검출? ==> 픽셀 값의 **변화율**이 큰 픽셀! (급격한 밝기 변화)\n",
    "> **(순간)변화율 == 미분(derivative)**\n",
    "* f'(x) 값이 0보다 훨씬 크거나 훨씬 작은 위치 ==> 급격한 밝기 값 변화 ==> 에지!"
   ]
  },
  {
   "cell_type": "markdown",
   "metadata": {},
   "source": [
    "![](f'(x).png)  \n",
    "여기서 a, b, c 지점에서 각각 에지 가능성 높음"
   ]
  },
  {
   "cell_type": "markdown",
   "metadata": {},
   "source": [
    "**영상으로부터 미분 계산 시 고려할 사항 2가지**\n",
    "* 영상은, 2차원 평면에서 정의된 **함수**이다. (영상 == f(x))\n",
    "* 영상은, 정수 단위 좌표 위치에 픽셀이 나열되어 있는 **이산함수**이다.  \n",
    "> 따라서, **미분 근사화 방법** 이용해서 변화량 측정!  \n",
    "(미분 근사화 방법 : 1차원 이산함수에서 미분 구하는 방법)"
   ]
  },
  {
   "cell_type": "markdown",
   "metadata": {},
   "source": [
    "## 미분 근사\n",
    "h = 1 (픽셀 간격의 최소 단위)\n",
    "* 전진 차분(forward difference) : ( I(x+h) - I(x) )  / h\n",
    "* 후진 차분(backward difference) : ( I(x) - I(x-h) )  / h\n",
    "* **중앙 차분(centered difference) : ( I(x+h) - I(x-h) )  / 2h**\n",
    "> 중앙 차분 방법이 가장 good"
   ]
  },
  {
   "cell_type": "markdown",
   "metadata": {},
   "source": [
    "## 2차원 평면에서의 미분\n",
    "* 영상을 가로방향(Ix), 세로방향(Iy) **각각 편미분** 해줘야 함  \n",
    "![](2차원미분.png)\n",
    "* 미분 값의 상대적 크기 비교만 하면 되므로, 1/2는 해주지 않고 마스크 사용 (-1, 0, 1)\n",
    "* 미분 결과 영상에서,\n",
    "    * 흰색 부분 : 픽셀 값이 급격하게 증가하는 부분\n",
    "    * 검은색 부분 : 픽셀 값이 급격하게 감소하는 부분"
   ]
  },
  {
   "cell_type": "markdown",
   "metadata": {},
   "source": [
    "## 그래디언트 (gradient)\n",
    "* f(x, y)의 x축 방향 미분과 y축 방향 미분을 **한꺼번에 벡터로** 표현한 것\n",
    "    * 그래디언트 방향(phase) : 변화 정도가 가장 큰 방향 (*밝기 가장 밝아지는 방향*)\n",
    "    * 그래디언트 크기(magnitude) : 변화율 세기 ==> **|| df ||**  \n",
    "    \n",
    "> 밝기 차이가 클수록(c) 그래디언트 벡터의 크기 커짐! (더 긴 화살표)  \n",
    "![](그래디언트.png)  \n",
    "여기서 **빨간색** 화살표 : **그래디언트 벡터** / **노란색** 화살표 : **에지!** (그래디언트와 수직)  \n",
    "* ***그래디언트 벡터(빨간색)*** : fx(x축 변화율)와 fy(y축 변화율)를 통해서 구할 수 있음  \n",
    "* cf. ***c점에서, f(x+1) - f(x-1) < 0 이므로 왼쪽(서쪽)으로 fx 나타남***\n",
    "\n",
    "* 에지의 방향 ==> 그래디언트 벡터와 수직 방향 (크기는 같음, 즉 변화율 세기로 에지 검출)"
   ]
  },
  {
   "cell_type": "markdown",
   "metadata": {},
   "source": [
    "## 마스크 기반 에지 검출\n",
    "* 3x3 소벨 마스크 : 마스크 요소 합 = 0\n",
    "* 소벨 마스크로 현재 행뿐만 아니라 **이웃 행에서도** 마스크 연산 하는 이유?\n",
    "    * **잡음의 영향을 줄이기 위해!** (현재 행 & 이웃 행에서의 픽셀 값 변화가 유사하므로)\n",
    "    > * 가운데(현재) 행 : [-2, 0, 2]와 같이 중앙 차분 연산(-1, 0, 1) 두 번씩!\n",
    "    > * 양 옆 이웃 행들 : [-1, 0, 1] 한 번씩 연산 수행하여, 주변부도 같이 고려!"
   ]
  },
  {
   "cell_type": "markdown",
   "metadata": {},
   "source": [
    "## (실습) 마스크 기반 에지 검출"
   ]
  },
  {
   "cell_type": "code",
   "execution_count": null,
   "metadata": {},
   "outputs": [],
   "source": [
    "import cv2\n",
    "import numpy as np\n",
    "\n",
    "def sobel_derivative():\n",
    "    src = cv2.imread('lenna.bmp', cv2.IMREAD_GRAYSCALE)\n",
    "    \n",
    "    # x방향, y방향 마스크 필터 정의\n",
    "    mx = np.array([[-1, 0, 1],\n",
    "                   [-2, 0, 2],\n",
    "                   [-1, 0, 1]], dtype=np.float32)\n",
    "    my = np.array([[-1, -2, -1],\n",
    "                   [0, 0, 0],\n",
    "                   [1, 2, 1]], dtype=np.float32)\n",
    "    \n",
    "    # 소벨 마스크로 미분 연산 수행 (= 마스크(컨볼루션) 연산 = 필터링 = 에지 검출!)\n",
    "    dx = cv2.filter2D(src, -1, mx, delta=128) # 128 : 값이 음수로 튀는 경우 방지\n",
    "    dy = cv2.filter2D(src, -1, my, delta=128)\n",
    "    \n",
    "    cv2.imshow('src', src)\n",
    "    cv2.imshow('dx', dx)\n",
    "    cv2.imshow('dy', dy)\n",
    "    cv2.waitKey()\n",
    "    cv2.destroyAllWindows()\n",
    "    \n",
    "sobel_derivative()"
   ]
  },
  {
   "cell_type": "markdown",
   "metadata": {},
   "source": [
    "![](mask_edge_result.png)"
   ]
  },
  {
   "cell_type": "markdown",
   "metadata": {},
   "source": [
    "## 소벨(Sobel) 필터\n",
    "* OpenCV에서 제공하는 소벨 마스크를 이용한 영상 미분 함수\n",
    "* **dst = cv2.Sobel(src, ddepth, dx, dy)**\n",
    "    * dst : src를 편미분한 결과\n",
    "    * ddepth : dst 영상의 **자료형** (**-1** : src와 같은 타입의 영상 생성)\n",
    "    * dx, dy : x방향, y방향으로의 편미분 차수 (대부분 1차 미분)"
   ]
  }
 ],
 "metadata": {
  "kernelspec": {
   "display_name": "Python 3",
   "language": "python",
   "name": "python3"
  },
  "language_info": {
   "codemirror_mode": {
    "name": "ipython",
    "version": 3
   },
   "file_extension": ".py",
   "mimetype": "text/x-python",
   "name": "python",
   "nbconvert_exporter": "python",
   "pygments_lexer": "ipython3",
   "version": "3.7.3"
  }
 },
 "nbformat": 4,
 "nbformat_minor": 2
}
