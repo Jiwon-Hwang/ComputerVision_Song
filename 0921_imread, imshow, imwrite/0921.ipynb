{
 "cells": [
  {
   "cell_type": "code",
   "execution_count": 2,
   "metadata": {
    "scrolled": true
   },
   "outputs": [
    {
     "name": "stdout",
     "output_type": "stream",
     "text": [
      "4.2.0\n"
     ]
    }
   ],
   "source": [
    "import cv2 as cv\n",
    "print(cv.__version__)"
   ]
  },
  {
   "cell_type": "code",
   "execution_count": 1,
   "metadata": {},
   "outputs": [
    {
     "data": {
      "text/plain": [
       "-1"
      ]
     },
     "execution_count": 1,
     "metadata": {},
     "output_type": "execute_result"
    }
   ],
   "source": [
    "import cv2 as cv\n",
    "\n",
    "img = cv.imread('Images/lenna.bmp')\n",
    "if img is None:\n",
    "    print('Image load failed!')\n",
    "    exit()\n",
    "\n",
    "cv.imshow('image', img)\n",
    "cv.waitKey()"
   ]
  },
  {
   "cell_type": "code",
   "execution_count": 2,
   "metadata": {},
   "outputs": [
    {
     "name": "stdout",
     "output_type": "stream",
     "text": [
      "type(img1): <class 'numpy.ndarray'>\n",
      "img1.shape: (480, 640)\n",
      "img1 is a grayscale image\n"
     ]
    }
   ],
   "source": [
    "# 이미지 타입 확인하기\n",
    "import numpy as np\n",
    "import cv2 as cv\n",
    "\n",
    "def func1():\n",
    "    img1 = cv.imread('Images/cat.bmp', cv.IMREAD_GRAYSCALE)\n",
    "    \n",
    "    if img1 is None:\n",
    "        print('Image load failed!')\n",
    "        return\n",
    "\n",
    "    print('type(img1):', type(img1))\n",
    "    print('img1.shape:', img1.shape)\n",
    "    \n",
    "    if len(img1.shape) == 2: # (480, 640) ==> 1채널 grayscale ==> 따라서 len == 2 (w, h)\n",
    "        print('img1 is a grayscale image') \n",
    "    elif len(img1.shape) == 3:\n",
    "        print('img1 is a truecolor image')\n",
    "    \n",
    "    cv.imshow('img1', img1)\n",
    "    cv.waitKey()\n",
    "    cv.destroyAllWindows()\n",
    "\n",
    "func1()"
   ]
  }
 ],
 "metadata": {
  "kernelspec": {
   "display_name": "Python 3",
   "language": "python",
   "name": "python3"
  },
  "language_info": {
   "codemirror_mode": {
    "name": "ipython",
    "version": 3
   },
   "file_extension": ".py",
   "mimetype": "text/x-python",
   "name": "python",
   "nbconvert_exporter": "python",
   "pygments_lexer": "ipython3",
   "version": "3.7.3"
  }
 },
 "nbformat": 4,
 "nbformat_minor": 2
}
