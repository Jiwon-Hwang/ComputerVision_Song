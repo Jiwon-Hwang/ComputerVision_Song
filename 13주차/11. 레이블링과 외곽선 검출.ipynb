{
 "cells": [
  {
   "cell_type": "markdown",
   "metadata": {},
   "source": [
    "# 레이블링과 외곽선 검출\n",
    "* 레이블링\n",
    "* 외곽선 검출"
   ]
  },
  {
   "cell_type": "markdown",
   "metadata": {},
   "source": [
    "## 레이블링의 이해\n",
    "*  \n",
    "* **cnt, labels = cv2.connectedComponents()** : 레이블 수행\n",
    "* **cv2.connectedComponentsWithStats()** : + 통계 정보"
   ]
  },
  {
   "cell_type": "markdown",
   "metadata": {},
   "source": [
    "## (실습) 레이블링"
   ]
  },
  {
   "cell_type": "markdown",
   "metadata": {},
   "source": [
    "![](labeling.png)"
   ]
  },
  {
   "cell_type": "markdown",
   "metadata": {},
   "source": [
    "## (실습) 레이블링 응용\n",
    "키보드에서 흰색 글자만을 찾아서 노란색 사각형으로 표시"
   ]
  },
  {
   "cell_type": "markdown",
   "metadata": {},
   "source": [
    "![](labeling2.png)"
   ]
  },
  {
   "cell_type": "markdown",
   "metadata": {},
   "source": [
    "<hr>"
   ]
  },
  {
   "cell_type": "markdown",
   "metadata": {},
   "source": [
    "## 외곽선 검출\n",
    "* (if, hole이 있는 객체의 경우) 안쪽 홀 외곽선과 객체 바깥쪽 외곽선으로 구분\n",
    "* **contours, _ = cv2.findContours()** : 외곽선 검출 함수\n",
    "    * mode : 검출 모드 (RETR_EXTERNAL, RETR_LIST, RETR_CCOMP, RETR_TREE)\n",
    "    * method : 검출된 외곽선 점들의 좌표를 근사회하는 방법\n",
    "* **cv2.drawContours()** : 검출한 외곽선 정보를 이용해 영상 위에 외곽선 그리기"
   ]
  },
  {
   "cell_type": "markdown",
   "metadata": {},
   "source": [
    "## 외곽선 계층 구조\n",
    "* 외곽선의 포함 관계에 의해 결정되는 구조 (부모 외곽선, 자식 외곽선 관계)"
   ]
  },
  {
   "cell_type": "markdown",
   "metadata": {},
   "source": [
    "![](draw_c.png)"
   ]
  },
  {
   "cell_type": "markdown",
   "metadata": {},
   "source": [
    "![](mode.png)"
   ]
  },
  {
   "cell_type": "markdown",
   "metadata": {},
   "source": [
    "## (실습) 외곽선 검출"
   ]
  }
 ],
 "metadata": {
  "kernelspec": {
   "display_name": "Python 3",
   "language": "python",
   "name": "python3"
  },
  "language_info": {
   "codemirror_mode": {
    "name": "ipython",
    "version": 3
   },
   "file_extension": ".py",
   "mimetype": "text/x-python",
   "name": "python",
   "nbconvert_exporter": "python",
   "pygments_lexer": "ipython3",
   "version": "3.7.3"
  }
 },
 "nbformat": 4,
 "nbformat_minor": 2
}
