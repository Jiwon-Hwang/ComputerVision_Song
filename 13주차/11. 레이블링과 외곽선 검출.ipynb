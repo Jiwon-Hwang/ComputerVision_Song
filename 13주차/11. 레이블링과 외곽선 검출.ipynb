{
 "cells": [
  {
   "cell_type": "markdown",
   "metadata": {},
   "source": [
    "# 레이블링과 외곽선 검출\n",
    "* 레이블링\n",
    "* 외곽선 검출"
   ]
  },
  {
   "cell_type": "markdown",
   "metadata": {},
   "source": [
    "## 레이블링의 이해\n",
    "*  \n",
    "* **cnt, labels = cv2.connectedComponents(src)** : 레이블 수행\n",
    "* **cv2.connectedComponentsWithStats()** : + 통계 정보"
   ]
  },
  {
   "cell_type": "markdown",
   "metadata": {},
   "source": [
    "## (실습) 레이블링"
   ]
  },
  {
   "cell_type": "code",
   "execution_count": 2,
   "metadata": {},
   "outputs": [
    {
     "name": "stdout",
     "output_type": "stream",
     "text": [
      "src :\n",
      "[[  0   0 255 255   0   0   0   0]\n",
      " [255 255 255 255   0   0 255   0]\n",
      " [255 255 255 255   0   0   0   0]\n",
      " [  0   0   0   0   0 255 255   0]\n",
      " [  0   0   0 255 255 255 255   0]\n",
      " [  0   0   0 255   0   0 255   0]\n",
      " [  0   0 255 255 255 255 255   0]\n",
      " [  0   0   0   0   0   0   0   0]]\n",
      "labels :\n",
      "[[0 0 1 1 0 0 0 0]\n",
      " [1 1 1 1 0 0 2 0]\n",
      " [1 1 1 1 0 0 0 0]\n",
      " [0 0 0 0 0 3 3 0]\n",
      " [0 0 0 3 3 3 3 0]\n",
      " [0 0 0 3 0 0 3 0]\n",
      " [0 0 3 3 3 3 3 0]\n",
      " [0 0 0 0 0 0 0 0]]\n",
      "number of labels : 4\n"
     ]
    }
   ],
   "source": [
    "import cv2\n",
    "import numpy as np\n",
    "\n",
    "def labeling_basic():\n",
    "    src = np.array([[0, 0, 1, 1, 0, 0, 0, 0],\n",
    "                    [1, 1, 1, 1, 0, 0, 1, 0],\n",
    "                    [1, 1, 1, 1, 0, 0, 0, 0],\n",
    "                    [0, 0, 0, 0, 0, 1, 1, 0],\n",
    "                    [0, 0, 0, 1, 1, 1, 1, 0],\n",
    "                    [0, 0, 0, 1, 0, 0, 1, 0],\n",
    "                    [0, 0, 1, 1, 1, 1, 1, 0],\n",
    "                    [0, 0, 0, 0, 0, 0, 0, 0]]).astype(np.uint8)\n",
    "    \n",
    "    src = src * 255\n",
    "    \n",
    "    cnt, labels = cv2.connectedComponents(src)\n",
    "    \n",
    "    print('src :'),\n",
    "    print(src)\n",
    "    print('labels :')\n",
    "    print(labels)\n",
    "    print('number of labels :', cnt)\n",
    "    \n",
    "labeling_basic()"
   ]
  },
  {
   "cell_type": "markdown",
   "metadata": {},
   "source": [
    "## 레이블링 응용\n",
    "* **cv2.connectedComponentsWithStats(src_bin)** : 레이블 수행 + 통계 정보"
   ]
  },
  {
   "cell_type": "markdown",
   "metadata": {},
   "source": [
    "![](labeling.png)"
   ]
  },
  {
   "cell_type": "markdown",
   "metadata": {},
   "source": [
    "## (실습) 레이블링 응용\n",
    "키보드에서 흰색 글자만을 찾아서 노란색 사각형으로 표시"
   ]
  },
  {
   "cell_type": "code",
   "execution_count": 4,
   "metadata": {},
   "outputs": [],
   "source": [
    "def labeling_stats():\n",
    "    src = cv2.imread('keyboard.png', cv2.IMREAD_GRAYSCALE)\n",
    "    \n",
    "    _, src_bin = cv2.threshold(src, 0, 255, cv2.THRESH_BINARY | cv2.THRESH_OTSU)\n",
    "    \n",
    "    cnt, labels, stats, centroids = cv2.connectedComponentsWithStats(src_bin)\n",
    "    \n",
    "    dst = cv2.cvtColor(src, cv2.COLOR_GRAY2BGR)\n",
    "    \n",
    "    for i in range(1, cnt):\n",
    "        (x, y, w, h, area) = stats[i]\n",
    "        \n",
    "        if area < 20 :\n",
    "            continue\n",
    "            \n",
    "        pt1 = (x, y)\n",
    "        pt2 = (x+w, y+h)\n",
    "        cv2.rectangle(dst, pt1, pt2, (0, 255, 255))\n",
    "        \n",
    "    cv2.imshow('src', src)\n",
    "    cv2.imshow('dst', dst)\n",
    "    cv2.waitKey()\n",
    "    cv2.destroyAllWindows()\n",
    "    \n",
    "labeling_stats()"
   ]
  },
  {
   "cell_type": "markdown",
   "metadata": {},
   "source": [
    "![](labeling2.png)"
   ]
  },
  {
   "cell_type": "markdown",
   "metadata": {},
   "source": [
    "<hr>"
   ]
  },
  {
   "cell_type": "markdown",
   "metadata": {},
   "source": [
    "## 외곽선 검출\n",
    "* (if, hole이 있는 객체의 경우) 안쪽 홀 외곽선과 객체 바깥쪽 외곽선으로 구분\n",
    "* **contours, _ = cv2.findContours()** : 외곽선 검출 함수 (외곽선 정보 return)\n",
    "    * mode : 검출 모드 (RETR_EXTERNAL, RETR_LIST, RETR_CCOMP, RETR_TREE)\n",
    "    * method : 검출된 외곽선 점들의 좌표를 근사회하는 방법\n",
    "* **cv2.drawContours()** : 검출한 외곽선 정보를 이용해 영상 위에 외곽선 그리기"
   ]
  },
  {
   "cell_type": "markdown",
   "metadata": {},
   "source": [
    "## 외곽선 계층 구조\n",
    "* 외곽선의 포함 관계에 의해 결정되는 구조 (부모 외곽선, 자식 외곽선 관계)"
   ]
  },
  {
   "cell_type": "markdown",
   "metadata": {},
   "source": [
    "![](draw_c.png)"
   ]
  },
  {
   "cell_type": "markdown",
   "metadata": {},
   "source": [
    "![](mode.png)"
   ]
  },
  {
   "cell_type": "markdown",
   "metadata": {},
   "source": [
    "## (실습) 외곽선 검출 - RETR_LIST 검출모드\n",
    "* 이진 영상에서 모든 외곽선을 찾아 각기 다른 색상으로 외곽선 그리기\n",
    "* 모든 객체의 바깥쪽과 안쪽 홀 외곽선을 모두 검출\n",
    "* 부모, 자식 간의 계층 정보는 X!"
   ]
  },
  {
   "cell_type": "code",
   "execution_count": 7,
   "metadata": {},
   "outputs": [],
   "source": [
    "def contours_basic():\n",
    "    src = cv2.imread('contours.png', cv2.IMREAD_GRAYSCALE)\n",
    "    \n",
    "    contours, _ = cv2.findContours(src, cv2.RETR_LIST, cv2.CHAIN_APPROX_NONE)\n",
    "    \n",
    "    dst = cv2.cvtColor(src, cv2.COLOR_GRAY2BGR)\n",
    "    \n",
    "    for i in range(len(contours)):\n",
    "        c = (np.random.randint(0, 255), np.random.randint(0, 255), np.random.randint(0, 255))\n",
    "        cv2.drawContours(dst, contours, i, c, 2)\n",
    "        \n",
    "    cv2.imshow('src', src)\n",
    "    cv2.imshow('dst', dst)\n",
    "    cv2.waitKey()\n",
    "    cv2.destroyAllWindows()\n",
    "    \n",
    "contours_basic()"
   ]
  },
  {
   "cell_type": "markdown",
   "metadata": {},
   "source": [
    "![](draw_contours.png)"
   ]
  },
  {
   "cell_type": "markdown",
   "metadata": {},
   "source": [
    "## (실습) 외곽선 검출 - RETR_CCOMP 검출모드\n",
    "2단계로 구성된 계층 구조 생성"
   ]
  },
  {
   "cell_type": "code",
   "execution_count": 8,
   "metadata": {},
   "outputs": [],
   "source": [
    "def contours_hier():\n",
    "    src = cv2.imread('contours.png', cv2.IMREAD_GRAYSCALE)\n",
    "    \n",
    "    contours, hierarchy = cv2.findContours(src, cv2.RETR_CCOMP, cv2.CHAIN_APPROX_SIMPLE)\n",
    "    \n",
    "    dst = cv2.cvtColor(src, cv2.COLOR_GRAY2BGR)\n",
    "    \n",
    "    idx = 0\n",
    "    while idx >= 0:\n",
    "        c = (np.random.randint(0, 255), np.random.randint(0, 255), np.random.randint(0, 255))\n",
    "        cv2.drawContours(dst, contours, idx, c, -1, cv2.LINE_8, hierarchy)\n",
    "        idx = hierarchy[0, idx, 0]\n",
    "        \n",
    "    cv2.imshow('src', src)\n",
    "    cv2.imshow('dst', dst)\n",
    "    cv2.waitKey()\n",
    "    cv2.destroyAllWindows()\n",
    "    \n",
    "contours_hier()"
   ]
  },
  {
   "cell_type": "markdown",
   "metadata": {},
   "source": [
    "![](hier.png)"
   ]
  },
  {
   "cell_type": "markdown",
   "metadata": {},
   "source": [
    "## (실습) 외곽선 처리 함수\n",
    "* 입력 영상을 이진화하여 객체 영역 모두 검출\n",
    "* 검출한 객체의 외곽선 정보를 이용해, 삼각형, 사각형, 원을 판단하여 화면에 표시 (객체의 외곽선 주변에 바운딩 박스 그리기)"
   ]
  },
  {
   "cell_type": "code",
   "execution_count": 13,
   "metadata": {},
   "outputs": [],
   "source": [
    "import math\n",
    "\n",
    "def setLabel(img, pts, label):\n",
    "    (x, y, w, h) = cv2.boundingRect(pts)\n",
    "    pt1 = (x, y)\n",
    "    pt2 = (x+w, y+h)\n",
    "    cv2.rectangle(img, pt1, pt2, (0, 0, 255), 1)\n",
    "    cv2.putText(img, label, pt1, cv2.FONT_HERSHEY_PLAIN, 1, (0, 0, 255))\n",
    "    \n",
    "def main():\n",
    "    img = cv2.imread('polygons.jpg', cv2.IMREAD_COLOR)\n",
    "    \n",
    "    gray = cv2.cvtColor(img, cv2.COLOR_BGR2GRAY)\n",
    "    _, img_bin = cv2.threshold(gray, 0, 255, cv2.THRESH_BINARY_INV | cv2.THRESH_OTSU)\n",
    "    contours, _ = cv2.findContours(img_bin, cv2.RETR_EXTERNAL, cv2.CHAIN_APPROX_NONE)\n",
    "    \n",
    "    for pts in contours:\n",
    "        if cv2.contourArea(pts) < 400:\n",
    "            continue\n",
    "            \n",
    "        approx = cv2.approxPolyDP(pts, cv2.arcLength(pts, True)*0.02, True)\n",
    "        \n",
    "        vtc = len(approx)\n",
    "        \n",
    "        if vtc == 3:\n",
    "            setLabbel(img, pts, 'TRI')\n",
    "        elif vtc == 4:\n",
    "            setLabel(img, pts, 'RECT')\n",
    "        else:\n",
    "            lenth = cv2.arcLength(pts, True)\n",
    "            area = cv2.contourArea(pts)\n",
    "            ratio = 4. * math.pi * area / (lenth*lenth)\n",
    "            \n",
    "            if ratio > 0.85:\n",
    "                setLabel(img, pts, 'CIR')\n",
    "                \n",
    "    cv2.imshow('img', img)\n",
    "    cv2.waitKey()\n",
    "    cv2.destroyAllWindows()\n",
    "        \n",
    "main()"
   ]
  },
  {
   "cell_type": "markdown",
   "metadata": {},
   "source": [
    "![](polygons_result.png)"
   ]
  }
 ],
 "metadata": {
  "kernelspec": {
   "display_name": "Python 3",
   "language": "python",
   "name": "python3"
  },
  "language_info": {
   "codemirror_mode": {
    "name": "ipython",
    "version": 3
   },
   "file_extension": ".py",
   "mimetype": "text/x-python",
   "name": "python",
   "nbconvert_exporter": "python",
   "pygments_lexer": "ipython3",
   "version": "3.7.3"
  }
 },
 "nbformat": 4,
 "nbformat_minor": 2
}
