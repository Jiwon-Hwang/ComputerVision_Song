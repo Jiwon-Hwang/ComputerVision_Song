{
 "cells": [
  {
   "cell_type": "markdown",
   "metadata": {},
   "source": [
    "# 직선 검출과 원 검출"
   ]
  },
  {
   "cell_type": "markdown",
   "metadata": {},
   "source": [
    "## 허프 변환 직선 검출 (hough transform)\n",
    "![](xyab.png)\n",
    "* xy 공간에서 에지로 판별된 모든 점을 이용하여 ab공간에 직선을 표현  \n",
    "> **직선이 많이 교차되는 좌표**를 모두 찾아야 함!  \n",
    "> * 이 때, **축적 배열** 사용 (직선이 지나가는 부분마다 배열값 1씩 증가)\n",
    "> * 축적 배열(ab공간)에서의 최대값의 좌표 (a, b) ==> 검출된 직선의 매개변수!  \n",
    "\n",
    "* 실제 허프 변환 구현 시, **극좌표계 형태**의 직선의 방정식 사용!  \n",
    "    * for 무한대의 기울기 a값을 표현할 수 없기 때문\n",
    "    * 축적 배열에서 국지적 최대값이 발생하는 위치에서의 rho(p)와 theta 찾기! ==> 직선\n",
    "    ![](cossin.png)  \n",
    "    ![](p.png)"
   ]
  },
  {
   "cell_type": "markdown",
   "metadata": {},
   "source": [
    "## (실습) 허프 변환 직선 검출\n",
    "* **cv2.Canny()** : 에지 영상 구하기 (미분 영상) ==> HoughLines()의 입력\n",
    "* **cv2.HoughLines()** : 반환값인 직선 파라미터 정보(rho, theta)를 이용해 빨간 직선 그리기"
   ]
  },
  {
   "cell_type": "code",
   "execution_count": 4,
   "metadata": {},
   "outputs": [],
   "source": [
    "import cv2\n",
    "import numpy as np\n",
    "import math\n",
    "\n",
    "def hough_lines():\n",
    "    src = cv2.imread('building.png', cv2.IMREAD_GRAYSCALE)\n",
    "    \n",
    "    edge = cv2.Canny(src, 50, 150)\n",
    "    lines = cv2.HoughLines(edge, 1, math.pi / 180, 114)\n",
    "    \n",
    "    dst = cv2.cvtColor(edge, cv2.COLOR_GRAY2BGR)\n",
    "    \n",
    "    if lines is not None:\n",
    "        for i in range(lines.shape[0]):\n",
    "            rho = lines[i][0][0]\n",
    "            theta = lines[i][0][1]\n",
    "            cos_t = math.cos(theta)\n",
    "            sin_t = math.sin(theta)\n",
    "            x0, y0 = rho * cos_t, rho * sin_t\n",
    "            alpha = 1000\n",
    "            pt1 = (int(x0 - alpha * sin_t), int(y0 + alpha * cos_t))\n",
    "            pt2 = (int(x0 + alpha * sin_t), int(y0 - alpha * cos_t))\n",
    "            cv2.line(dst, pt1, pt2, (0, 0, 255), 2, cv2.LINE_AA)\n",
    "            \n",
    "    cv2.imshow('src', src)\n",
    "    cv2.imshow('dst', dst)\n",
    "    cv2.waitKey()\n",
    "    cv2.destroyAllWindows()\n",
    "        \n",
    "hough_lines()"
   ]
  },
  {
   "cell_type": "markdown",
   "metadata": {},
   "source": [
    "![](hough_lines_T250.png)\n",
    "![](hough_lines_T114.png)"
   ]
  }
 ],
 "metadata": {
  "kernelspec": {
   "display_name": "Python 3",
   "language": "python",
   "name": "python3"
  },
  "language_info": {
   "codemirror_mode": {
    "name": "ipython",
    "version": 3
   },
   "file_extension": ".py",
   "mimetype": "text/x-python",
   "name": "python",
   "nbconvert_exporter": "python",
   "pygments_lexer": "ipython3",
   "version": "3.7.3"
  }
 },
 "nbformat": 4,
 "nbformat_minor": 2
}
