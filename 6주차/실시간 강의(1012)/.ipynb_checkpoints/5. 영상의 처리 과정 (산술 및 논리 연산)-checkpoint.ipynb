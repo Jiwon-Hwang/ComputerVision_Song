{
 "cells": [
  {
   "cell_type": "markdown",
   "metadata": {},
   "source": [
    "## 영상의 산술 연산\n",
    "* 여러 영상들(2차원 행렬)의 **덧셈 및 뺄셈** 연산 ==> 새로운 결과 영상 생성\n",
    "* 255 넘는 값들은 **포화연산(saturate())** \n",
    "* **cv2.add()** 이용 (덧셈 시, 전반적으로 밝게 포화되는 부분 많게 됨)\n",
    "* 따라서 보통 **각 영상에 대해 a, b로 가중치** 부여!\n",
    "    > **dst = saturate(a * src1 + b * src2 + r)**  (보통, **a + b = 1**)\n",
    "* **cv2.addWeighted(src1, a, src2, b, r)** : 가중치 합 구하기 함수\n",
    "    > **감마(r)** 인자를 통해 가중치의 합에 추가적인 덧셈까지 한번에 가능"
   ]
  },
  {
   "cell_type": "code",
   "execution_count": 3,
   "metadata": {},
   "outputs": [],
   "source": [
    "# cv2.addWeighted()\n",
    "\n",
    "import cv2\n",
    "import numpy as np\n",
    "\n",
    "src1 = cv2.imread('airplane.bmp')\n",
    "src2 = cv2.imread('field.bmp')\n",
    "\n",
    "dst = np.empty(src1.shape, src1.dtype)\n",
    "\n",
    "cv2.addWeighted(src1, 0.5, src2, 0.5, 0, dst) # 평균 밝기 유지됨\n",
    "\n",
    "cv2.imshow('dst', dst)\n",
    "cv2.imwrite('addWeighted.png', dst)\n",
    "cv2.waitKey()\n",
    "cv2.destroyAllWindows()"
   ]
  },
  {
   "cell_type": "markdown",
   "metadata": {},
   "source": [
    "![img](addWeighted.png)"
   ]
  },
  {
   "cell_type": "markdown",
   "metadata": {},
   "source": [
    "* 덧셈 연산과 달리, 뺄셈 순서에 따라 결과 달라짐\n",
    "* if) 뺄셈 순서에 상관 없이 차이 연산을 구하고 싶다면? ==> **차영상(difference image)**\n",
    "> **dst = |src1 - src2|** \n",
    "* ex) 틀린 그림 찾기"
   ]
  }
 ],
 "metadata": {
  "kernelspec": {
   "display_name": "Python 3",
   "language": "python",
   "name": "python3"
  },
  "language_info": {
   "codemirror_mode": {
    "name": "ipython",
    "version": 3
   },
   "file_extension": ".py",
   "mimetype": "text/x-python",
   "name": "python",
   "nbconvert_exporter": "python",
   "pygments_lexer": "ipython3",
   "version": "3.7.3"
  }
 },
 "nbformat": 4,
 "nbformat_minor": 2
}
