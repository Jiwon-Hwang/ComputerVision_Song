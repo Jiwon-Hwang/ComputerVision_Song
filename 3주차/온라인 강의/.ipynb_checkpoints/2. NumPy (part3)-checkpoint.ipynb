{
 "cells": [
  {
   "cell_type": "markdown",
   "metadata": {},
   "source": [
    "## NumPy 배열의 분할\n",
    "* vsplit()\n",
    "* hsplit()"
   ]
  },
  {
   "cell_type": "code",
   "execution_count": 3,
   "metadata": {},
   "outputs": [
    {
     "name": "stdout",
     "output_type": "stream",
     "text": [
      "[[0 1 2 3]]\n",
      "[[ 4  5  6  7]\n",
      " [ 8  9 10 11]\n",
      " [12 13 14 15]]\n",
      "2\n",
      "1\n"
     ]
    }
   ],
   "source": [
    "# vsplit() ==> axis=0 (2차원 배열에서 수직, 행) 축을 따라 가면서 분할\n",
    "\n",
    "import numpy as np\n",
    "grid = np.arange(16).reshape(4, 4)\n",
    "upper, lower = np.vsplit(grid, [1])\n",
    "print(upper)\n",
    "print(lower)\n",
    "\n",
    "print(upper.ndim) # 2차원\n",
    "print(np.array([1,2,3]).ndim) # 1차원"
   ]
  },
  {
   "cell_type": "code",
   "execution_count": 4,
   "metadata": {},
   "outputs": [
    {
     "name": "stdout",
     "output_type": "stream",
     "text": [
      "[[ 0]\n",
      " [ 4]\n",
      " [ 8]\n",
      " [12]]\n",
      "[[ 1  2  3]\n",
      " [ 5  6  7]\n",
      " [ 9 10 11]\n",
      " [13 14 15]]\n"
     ]
    }
   ],
   "source": [
    "# hsplit() ==> axis=1 (2차원 배열에서 수평, 열) 축을 따라 가면서 분할\n",
    "\n",
    "left, right = np.hsplit(grid, [1])\n",
    "print(left)\n",
    "print(right)"
   ]
  },
  {
   "cell_type": "markdown",
   "metadata": {},
   "source": [
    "## 유니버셜 함수 (UFuncs)\n",
    "* 벡터화 연산 : 배열의 각 요소에 연산을 수행"
   ]
  },
  {
   "cell_type": "code",
   "execution_count": 6,
   "metadata": {},
   "outputs": [
    {
     "name": "stdout",
     "output_type": "stream",
     "text": [
      "[37, 26, 21, 32, 43]\n"
     ]
    }
   ],
   "source": [
    "# (실습 예제) 화씨 온도 자료들을 섭씨로 바꾸기 ==> 파이썬 list & 인덱스 접근 방식...\n",
    "\n",
    "arr = [100, 80, 70, 90, 110]\n",
    "\n",
    "for i in range(len(arr)):\n",
    "    arr[i] = (arr[i] - 32) * 5 // 9  # 몫 연산자\n",
    "    \n",
    "print(arr)"
   ]
  },
  {
   "cell_type": "code",
   "execution_count": 8,
   "metadata": {},
   "outputs": [
    {
     "name": "stdout",
     "output_type": "stream",
     "text": [
      "[37.77777778 26.66666667 21.11111111 32.22222222 43.33333333]\n"
     ]
    }
   ],
   "source": [
    "# (실습 예제)\n",
    "\n",
    "arr = [100, 80, 70, 90, 110]\n",
    "\n",
    "narr = np.array(arr)\n",
    "print((narr - 32) * 5 / 9)"
   ]
  },
  {
   "cell_type": "markdown",
   "metadata": {},
   "source": [
    "## 배열의 산술 연산 & 브로드캐스팅\n",
    "* 두 연산 대상인 **두 배열**들의 차원이 같으면 **각 요소 단위로** 연산 수행\n",
    "* 두 연산 대상 중 **하나가 스칼라** 값인 경우, 배열로 확장 혹은 복제 후 처리"
   ]
  },
  {
   "cell_type": "code",
   "execution_count": 9,
   "metadata": {},
   "outputs": [
    {
     "name": "stdout",
     "output_type": "stream",
     "text": [
      "[0 2 4]\n",
      "[5 6 7]\n"
     ]
    }
   ],
   "source": [
    "a = np.array([0, 1, 2])\n",
    "b = np.array([0, 1, 2])\n",
    "print(a + b)\n",
    "\n",
    "a = np.array([0, 1, 2])\n",
    "b = 5\n",
    "print(a + b)"
   ]
  },
  {
   "cell_type": "code",
   "execution_count": 10,
   "metadata": {},
   "outputs": [
    {
     "name": "stdout",
     "output_type": "stream",
     "text": [
      "[[1. 0. 0. 0.]\n",
      " [0. 1. 0. 0.]\n",
      " [0. 0. 1. 0.]\n",
      " [0. 0. 0. 1.]]\n",
      "\n",
      "[1. 1. 1. 1.]\n",
      "\n",
      "[[1.01 0.01 0.01 0.01]\n",
      " [0.01 1.01 0.01 0.01]\n",
      " [0.01 0.01 1.01 0.01]\n",
      " [0.01 0.01 0.01 1.01]]\n"
     ]
    }
   ],
   "source": [
    "noise = np.eye(4) + 0.01 * np.ones(4, ) # 2단계 브로드캐스팅\n",
    "print(np.eye(4))\n",
    "print()\n",
    "print(np.ones(4, )) # 1. 행은 1개고 열만 4개로 채워진 배열 ==> (1, 4)로 브로드캐스팅\n",
    "print()\n",
    "print(noise) # 2. (1, 4)가 (4, 4) 꼴로 브로드캐스팅"
   ]
  },
  {
   "cell_type": "code",
   "execution_count": 11,
   "metadata": {
    "scrolled": true
   },
   "outputs": [
    {
     "name": "stdout",
     "output_type": "stream",
     "text": [
      "[[0 1 2]\n",
      " [1 2 3]\n",
      " [2 3 4]]\n"
     ]
    }
   ],
   "source": [
    "print(np.arange(3).reshape(3, 1) + np.arange(3))\n",
    "# [[0, 0, 0], [1, 1, 1], [2, 2, 2]] + [[0, 1, 2], [0, 1, 2], [0, 1, 2]]"
   ]
  },
  {
   "cell_type": "code",
   "execution_count": 17,
   "metadata": {},
   "outputs": [
    {
     "name": "stdout",
     "output_type": "stream",
     "text": [
      "[[1. 1.]\n",
      " [1. 1.]\n",
      " [1. 1.]]\n",
      "\n",
      "[0 1 2]\n",
      "\n",
      "(3, 2)\n",
      "(3,)\n"
     ]
    }
   ],
   "source": [
    "# 브로드캐스팅이 되지 않는 경우\n",
    "\n",
    "M = np.ones((3, 2)) # np.ones(tuple shape)\n",
    "a = np.arange(3)\n",
    "print(M)\n",
    "print()\n",
    "print(a)\n",
    "print()\n",
    "print(M.shape)\n",
    "print(a.shape)\n",
    "\n",
    "# (3, 2)와 (3, 3)은 브로드캐스팅이 되지 않아서 연산할 수 없음!"
   ]
  },
  {
   "cell_type": "markdown",
   "metadata": {},
   "source": [
    "## 기타 유니버셜 함수들\n",
    "* 절댓값 함수 : abs(), np.absolute()\n",
    "* 사칙연산 : add(), multiply(), negative(), exp(), log(), sqrt()\n",
    "* 삼각함수 : sin(), cos(), hypot()\n",
    "* 비트 단위 : bitwise_and(), left_shift()\n",
    "* 기타 : maximum(), minimum()"
   ]
  },
  {
   "cell_type": "code",
   "execution_count": 18,
   "metadata": {},
   "outputs": [
    {
     "name": "stdout",
     "output_type": "stream",
     "text": [
      "[0 1 2]\n"
     ]
    }
   ],
   "source": [
    "# abs() ==> 절댓값 함수 (파이썬 내장 함수)\n",
    "\n",
    "a = np.array([0, -1, 2])\n",
    "print(abs(a))"
   ]
  },
  {
   "cell_type": "code",
   "execution_count": 19,
   "metadata": {
    "scrolled": true
   },
   "outputs": [
    {
     "name": "stdout",
     "output_type": "stream",
     "text": [
      "[0 1 2]\n"
     ]
    }
   ],
   "source": [
    "# np.absolute() ==> NumPy 모듈의 함수 (복소수도 연산 가능, 절대값 == 크기 return)\n",
    "\n",
    "print(np.absolute(a))"
   ]
  },
  {
   "cell_type": "markdown",
   "metadata": {},
   "source": [
    "## 배열의 집계 함수\n",
    "* 원소 전체의 합계 구하기 : sum() ==> python 내장 함수와는 차이 존재!\n",
    "* 최솟값과 최댓값 : min(), max()\n",
    "* 평균, 표준편차, 분산, 중앙값, 백분위수 : mean(), std(), var(), median(), ..."
   ]
  },
  {
   "cell_type": "code",
   "execution_count": 20,
   "metadata": {},
   "outputs": [
    {
     "name": "stdout",
     "output_type": "stream",
     "text": [
      "3.0\n"
     ]
    }
   ],
   "source": [
    "# (실습) 배열의 모든 요소의 평균 구하기\n",
    "\n",
    "grid = np.array([[1, 2, 3], [4, 6, 2]])\n",
    "print(np.mean(grid))"
   ]
  },
  {
   "cell_type": "code",
   "execution_count": 24,
   "metadata": {},
   "outputs": [
    {
     "name": "stdout",
     "output_type": "stream",
     "text": [
      "[[1 2 3]\n",
      " [4 6 2]]\n",
      "\n",
      "[2.5 4.  2.5]\n",
      "\n",
      "[2. 4.]\n"
     ]
    }
   ],
   "source": [
    "# (실습) 배열의 각 행 or 각 열의 평균 구하기 ==> axis 지정\n",
    "\n",
    "print(grid)\n",
    "print()\n",
    "print(np.mean(grid, axis = 0)) # 0번 축 : 행 방향 (↓)으로 진행하며 평균 구하기\n",
    "print()\n",
    "print(np.mean(grid, axis = 1)) # 1번 축 : 열 방향 (→)으로 진행하며 평균 구하기"
   ]
  },
  {
   "cell_type": "markdown",
   "metadata": {},
   "source": [
    "## Boolean 배열\n",
    "* <, >, <=, >=, ==, !=\n",
    "* NumPy 배열의 각 요소에 대해서 참/거짓 판단 후 True/False 값 각각 배열로 return"
   ]
  },
  {
   "cell_type": "code",
   "execution_count": 25,
   "metadata": {},
   "outputs": [
    {
     "name": "stdout",
     "output_type": "stream",
     "text": [
      "[ True  True False False False]\n",
      "[False False  True  True  True]\n",
      "[False False  True False False]\n",
      "[ True  True False  True  True]\n"
     ]
    }
   ],
   "source": [
    "x = np.array([1, 2, 3, 4, 5])\n",
    "print(x < 3)\n",
    "print(x >= 3)\n",
    "print(x == 3)\n",
    "print(x != 3)"
   ]
  },
  {
   "cell_type": "code",
   "execution_count": 29,
   "metadata": {},
   "outputs": [
    {
     "name": "stdout",
     "output_type": "stream",
     "text": [
      "<mtrand.RandomState object at 0x000001B14033D7E0>\n",
      "\n",
      "[[5 0 3 3]\n",
      " [7 9 3 5]\n",
      " [2 4 7 6]]\n",
      "\n",
      "[[ True  True  True  True]\n",
      " [False False  True  True]\n",
      " [ True  True False False]]\n"
     ]
    }
   ],
   "source": [
    "# 2차원 배열에도 적용 가능\n",
    "\n",
    "rng = np.random.RandomState(0) # seed값을 0으로 고정 ==> 실행할 때마다 같은 난수 발생\n",
    "print(rng)\n",
    "print()\n",
    "x = rng.randint(10, size=(3, 4))\n",
    "print(x)\n",
    "print()\n",
    "print(x < 6)"
   ]
  },
  {
   "cell_type": "code",
   "execution_count": 33,
   "metadata": {},
   "outputs": [
    {
     "name": "stdout",
     "output_type": "stream",
     "text": [
      "[[3 4 0 9]\n",
      " [6 5 1 1]\n",
      " [9 0 6 8]]\n"
     ]
    }
   ],
   "source": [
    "# 난수 seed 설정하지 않았을 떄 ==> 실행할 때마다 다른 난수 배열 생성\n",
    "\n",
    "print(np.random.randint(10, size=(3, 4)))"
   ]
  },
  {
   "cell_type": "markdown",
   "metadata": {},
   "source": [
    "## NumPy 함수의 활용\n",
    "* np.count_nonzero(조건문) : True의 개수 파악\n",
    "* np.sum() : **True인 값들만 다 더함**\n",
    "* np.any() : 값 중 하나라도 참이 있는지 확인\n",
    "* np.all() : 모든 값이 참인지 확인\n"
   ]
  },
  {
   "cell_type": "code",
   "execution_count": 36,
   "metadata": {},
   "outputs": [
    {
     "name": "stdout",
     "output_type": "stream",
     "text": [
      "[[5 0 3 3]\n",
      " [7 9 3 5]\n",
      " [2 4 7 6]]\n",
      "\n",
      "8\n"
     ]
    }
   ],
   "source": [
    "# (실습) Boolean 배열의 활용 ==> 6보다 작은 값이 몇 개인지 찾기 (count_nonzero() 이용)\n",
    "\n",
    "print(x)\n",
    "print()\n",
    "print(np.count_nonzero(x < 6)) # True의 숫자 파악"
   ]
  },
  {
   "cell_type": "code",
   "execution_count": 37,
   "metadata": {},
   "outputs": [
    {
     "name": "stdout",
     "output_type": "stream",
     "text": [
      "[[ True  True  True  True]\n",
      " [False False  True  True]\n",
      " [ True  True False False]]\n",
      "\n",
      "8\n"
     ]
    }
   ],
   "source": [
    "# (실습) 동일한 원리로 sum() 함수 활용 가능 ==> True들의 합계 == 6보다 작은 값들의 수\n",
    "\n",
    "print(x < 6) # Boolean 배열로 return\n",
    "print() \n",
    "print(np.sum(x < 6)) # 위의 Boolean 배열의 각 요소들의 총 합 (True == 1의 개수)"
   ]
  },
  {
   "cell_type": "code",
   "execution_count": 38,
   "metadata": {},
   "outputs": [
    {
     "name": "stdout",
     "output_type": "stream",
     "text": [
      "[[5 0 3 3]\n",
      " [7 9 3 5]\n",
      " [2 4 7 6]]\n",
      "\n",
      "[4 2 2]\n"
     ]
    }
   ],
   "source": [
    "# (실습) 각 행 별로 6보다 작은 값은 몇 개가 있는지 구해보기\n",
    "\n",
    "rng = np.random.RandomState(0)\n",
    "x = rng.randint(10, size = (3, 4))\n",
    "print(x)\n",
    "print()\n",
    "print(np.sum(x < 6, axis = 1)) # axis = 1 : 열 방향으로 나아가며 각 행별로 sum 구함\n",
    "\n",
    "# 0행 : 6보다 작은 요소 개수 4개 ==> np.sum() : 4\n",
    "# 1행 : 6보다 작은 요소 개수 2개 ==> np.sum() : 2"
   ]
  },
  {
   "cell_type": "code",
   "execution_count": 39,
   "metadata": {
    "scrolled": true
   },
   "outputs": [
    {
     "name": "stdout",
     "output_type": "stream",
     "text": [
      "[[5 0 3 3]\n",
      " [7 9 3 5]\n",
      " [2 4 7 6]]\n",
      "\n",
      "True\n",
      "\n",
      "[ True False False]\n"
     ]
    }
   ],
   "source": [
    "# (실습) np.any() & np.all()\n",
    "\n",
    "print(x)\n",
    "print()\n",
    "print(np.any(x > 8)) # x의 모든 값들 중 하나라도 참이 있는지 확인\n",
    "print()\n",
    "print(np.all(x < 6, axis = 1)) # 열 방향으로 나아가며 각 행별로 np.all() 확인"
   ]
  },
  {
   "cell_type": "markdown",
   "metadata": {},
   "source": [
    "## Boolean 배열과 bool 연산자\n",
    "* & (bitwise and)\n",
    "* | (bitwise or)\n",
    "* ^ (bitwise xor)\n",
    "* ~ (bitwise not)"
   ]
  },
  {
   "cell_type": "code",
   "execution_count": 40,
   "metadata": {},
   "outputs": [
    {
     "name": "stdout",
     "output_type": "stream",
     "text": [
      "[[5 0 3 3]\n",
      " [7 9 3 5]\n",
      " [2 4 7 6]]\n",
      "\n",
      "6\n"
     ]
    }
   ],
   "source": [
    "# (실습) 3이상 and 6미만인 값이 몇 개인지 찾기\n",
    "\n",
    "print(x)\n",
    "print()\n",
    "print(np.sum((x >= 3) & (x < 6)))"
   ]
  },
  {
   "cell_type": "code",
   "execution_count": 41,
   "metadata": {},
   "outputs": [
    {
     "name": "stdout",
     "output_type": "stream",
     "text": [
      "7\n"
     ]
    }
   ],
   "source": [
    "# ***주의*** : np.sum(조건문) 시, \n",
    "# 요소들의 value들을 더하는 것이 아닌, True(1)들을 더하는 것!\n",
    "# 즉, 조건에 맞는 요소의 개수들을 return!\n",
    "\n",
    "print(np.sum(x > 3)) # 조건에 맞는 요소 개수가 총 7개"
   ]
  },
  {
   "cell_type": "markdown",
   "metadata": {},
   "source": [
    "## Boolean 배열과 마스킹 연산"
   ]
  },
  {
   "cell_type": "code",
   "execution_count": 42,
   "metadata": {},
   "outputs": [
    {
     "name": "stdout",
     "output_type": "stream",
     "text": [
      "[0 3 3 3 2 4]\n"
     ]
    }
   ],
   "source": [
    "# 조건에 맞는 값들로 채워진 1차원 배열 도출 ==> ***이러면 True 개수 세는 거 X!***\n",
    "\n",
    "print(x[x < 5])"
   ]
  },
  {
   "cell_type": "code",
   "execution_count": 44,
   "metadata": {},
   "outputs": [
    {
     "name": "stdout",
     "output_type": "stream",
     "text": [
      "[[5 0 3 3]\n",
      " [7 9 3 5]\n",
      " [2 4 7 6]]\n",
      "[]\n"
     ]
    }
   ],
   "source": [
    "print(x)\n",
    "print(x[False])"
   ]
  },
  {
   "cell_type": "markdown",
   "metadata": {},
   "source": [
    "## 구조화된 NumPy 배열 생성\n",
    "* 서로 관련된 이종 데이터를 구조화하여 저장 가능\n",
    "* (step 1) 저장할 공간 생성 -> (step 2) 생성 공간에 데이터 대입"
   ]
  },
  {
   "cell_type": "code",
   "execution_count": 45,
   "metadata": {},
   "outputs": [
    {
     "name": "stdout",
     "output_type": "stream",
     "text": [
      "[('', 0, 0.) ('', 0, 0.) ('', 0, 0.) ('', 0, 0.)]\n"
     ]
    }
   ],
   "source": [
    "# step1 : 저장 공간 생성\n",
    "\n",
    "name = ['Alice', 'Bob', 'Cathy', 'Doug']\n",
    "age = [25, 45, 37, 19]\n",
    "weight = [55.0, 85.5, 68.0, 61.5]\n",
    "data = np.zeros(4, dtype={'names' : ('name', 'age', 'weight'), 'formats': ('U10', 'i4', 'f8')})\n",
    "\n",
    "print(data) # 'U10' : 10글자 들어가는 char / 'i4' : 4개 int / 'f8' : 8개 float"
   ]
  },
  {
   "cell_type": "code",
   "execution_count": 46,
   "metadata": {},
   "outputs": [
    {
     "name": "stdout",
     "output_type": "stream",
     "text": [
      "[('Alice', 25, 55. ) ('Bob', 45, 85.5) ('Cathy', 37, 68. )\n",
      " ('Doug', 19, 61.5)]\n"
     ]
    }
   ],
   "source": [
    "# step2 : 데이터 대입 \n",
    "\n",
    "data['name'] = name\n",
    "data['age'] = age\n",
    "data['weight'] = weight\n",
    "print(data)\n",
    "\n",
    "# 위에서 공간 할당 시 dtype의 'names'에 ('name', 'age', 'weight') 지정해놨으므로\n",
    "# 각각의 위치에 데이터(각각의 파이썬 리스트 3개) 저장됨 (자동 매칭)"
   ]
  },
  {
   "cell_type": "code",
   "execution_count": 56,
   "metadata": {},
   "outputs": [
    {
     "name": "stdout",
     "output_type": "stream",
     "text": [
      "['Alice' 'Bob' 'Cathy' 'Doug']\n",
      "('Alice', 25, 55.)\n",
      "Doug\n"
     ]
    }
   ],
   "source": [
    "print(data['name'])\n",
    "print(data[0])\n",
    "print(data[-1]['name'])"
   ]
  },
  {
   "cell_type": "code",
   "execution_count": 55,
   "metadata": {},
   "outputs": [
    {
     "name": "stdout",
     "output_type": "stream",
     "text": [
      "<class 'numpy.ndarray'>\n",
      "<class 'numpy.void'>\n"
     ]
    }
   ],
   "source": [
    "print(type(data)) # 구조화된 numpy 배열!\n",
    "print(type(data[0]))"
   ]
  },
  {
   "cell_type": "code",
   "execution_count": 57,
   "metadata": {},
   "outputs": [
    {
     "name": "stdout",
     "output_type": "stream",
     "text": [
      "['Alice' 'Doug']\n",
      "[('Alice', 25, 55. ) ('Doug', 19, 61.5)]\n",
      "2\n"
     ]
    }
   ],
   "source": [
    "# 구조화된 NumPy 배열의 활용 (2) ==> Boolean 배열을 같이 활용 가능\n",
    "\n",
    "print(data[data['age'] < 30]['name'])\n",
    "print(data[data['age'] < 30])\n",
    "print(len(data[data['age'] < 30]))"
   ]
  },
  {
   "cell_type": "code",
   "execution_count": 61,
   "metadata": {},
   "outputs": [
    {
     "name": "stdout",
     "output_type": "stream",
     "text": [
      "['Bob']\n"
     ]
    }
   ],
   "source": [
    "# (실습) 구조화된 NumPY 배열\n",
    "# 나이가 30보다 많고, 체중이 80보다 많은 사람의 이름 출력\n",
    "\n",
    "print(data[(data['age'] > 30) & (data['weight'] > 80)]['name']) \n",
    "# bitwise and (&)로 써줘야함!!! 그리고 두 조건 이을 때 괄호!! () & ()"
   ]
  },
  {
   "cell_type": "code",
   "execution_count": 64,
   "metadata": {},
   "outputs": [
    {
     "ename": "ValueError",
     "evalue": "The truth value of an array with more than one element is ambiguous. Use a.any() or a.all()",
     "output_type": "error",
     "traceback": [
      "\u001b[1;31m---------------------------------------------------------------------------\u001b[0m",
      "\u001b[1;31mValueError\u001b[0m                                Traceback (most recent call last)",
      "\u001b[1;32m<ipython-input-64-cd289809fa91>\u001b[0m in \u001b[0;36m<module>\u001b[1;34m\u001b[0m\n\u001b[0;32m      1\u001b[0m \u001b[1;31m# 그냥 and는 오류!\u001b[0m\u001b[1;33m\u001b[0m\u001b[1;33m\u001b[0m\u001b[1;33m\u001b[0m\u001b[0m\n\u001b[0;32m      2\u001b[0m \u001b[1;33m\u001b[0m\u001b[0m\n\u001b[1;32m----> 3\u001b[1;33m \u001b[0mprint\u001b[0m\u001b[1;33m(\u001b[0m\u001b[0mdata\u001b[0m\u001b[1;33m[\u001b[0m\u001b[1;33m(\u001b[0m\u001b[0mdata\u001b[0m\u001b[1;33m[\u001b[0m\u001b[1;34m'age'\u001b[0m\u001b[1;33m]\u001b[0m \u001b[1;33m>\u001b[0m \u001b[1;36m30\u001b[0m\u001b[1;33m)\u001b[0m \u001b[1;32mand\u001b[0m \u001b[1;33m(\u001b[0m\u001b[0mdata\u001b[0m\u001b[1;33m[\u001b[0m\u001b[1;34m'weight'\u001b[0m\u001b[1;33m]\u001b[0m \u001b[1;33m>\u001b[0m \u001b[1;36m80\u001b[0m\u001b[1;33m)\u001b[0m\u001b[1;33m]\u001b[0m\u001b[1;33m[\u001b[0m\u001b[1;34m'name'\u001b[0m\u001b[1;33m]\u001b[0m\u001b[1;33m)\u001b[0m\u001b[1;33m\u001b[0m\u001b[1;33m\u001b[0m\u001b[0m\n\u001b[0m",
      "\u001b[1;31mValueError\u001b[0m: The truth value of an array with more than one element is ambiguous. Use a.any() or a.all()"
     ]
    }
   ],
   "source": [
    "# 그냥 and는 오류!\n",
    "\n",
    "print(data[(data['age'] > 30) and (data['weight'] > 80)]['name']) "
   ]
  },
  {
   "cell_type": "code",
   "execution_count": 62,
   "metadata": {},
   "outputs": [
    {
     "name": "stdout",
     "output_type": "stream",
     "text": [
      "False\n"
     ]
    }
   ],
   "source": [
    "print(True and False) # and"
   ]
  },
  {
   "cell_type": "code",
   "execution_count": 63,
   "metadata": {},
   "outputs": [
    {
     "name": "stdout",
     "output_type": "stream",
     "text": [
      "False\n"
     ]
    }
   ],
   "source": [
    "print(True & False) # bitwise and"
   ]
  }
 ],
 "metadata": {
  "kernelspec": {
   "display_name": "Python 3",
   "language": "python",
   "name": "python3"
  },
  "language_info": {
   "codemirror_mode": {
    "name": "ipython",
    "version": 3
   },
   "file_extension": ".py",
   "mimetype": "text/x-python",
   "name": "python",
   "nbconvert_exporter": "python",
   "pygments_lexer": "ipython3",
   "version": "3.7.3"
  }
 },
 "nbformat": 4,
 "nbformat_minor": 2
}
