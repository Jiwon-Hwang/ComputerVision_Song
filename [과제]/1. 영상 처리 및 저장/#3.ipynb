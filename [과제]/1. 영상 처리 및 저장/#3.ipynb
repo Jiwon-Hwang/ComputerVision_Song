{
 "cells": [
  {
   "cell_type": "code",
   "execution_count": 3,
   "metadata": {},
   "outputs": [],
   "source": [
    "import cv2\n",
    "import numpy as np\n",
    "\n",
    "cap = cv2.VideoCapture('stopwatch.avi')\n",
    "if not cap.isOpened():\n",
    "    print(\"Video open failed!\")\n",
    "    exit()\n",
    "    \n",
    "w = round(cap.get(cv2.CAP_PROP_FRAME_WIDTH))\n",
    "h = round(cap.get(cv2.CAP_PROP_FRAME_HEIGHT))\n",
    "fps = cap.get(cv2.CAP_PROP_FPS)\n",
    "\n",
    "delay = round(1000 / fps)\n",
    "fourcc = cv2.VideoWriter_fourcc(*'DIVX') # int\n",
    "\n",
    "\n",
    "outputVideo = cv2.VideoWriter('stopwatch_inv.avi', fourcc, fps, (w,h))\n",
    "if not outputVideo.isOpened():\n",
    "    print('File open failed!')\n",
    "    exit()\n",
    "    \n",
    "while True:\n",
    "    ret, frame = cap.read()\n",
    "    if not ret:\n",
    "        break\n",
    "    \n",
    "    inversed = np.array(frame)\n",
    "    if cap.get(cv2.CAP_PROP_POS_MSEC) >= 10000: # 비디오 파일에서 현재 위치 (밀리초)\n",
    "        inversed[h//2:, w//2:] = np.array(~frame)[h//2:, w//2:]\n",
    "        \n",
    "    outputVideo.write(inversed)\n",
    "    \n",
    "    cv2.imshow('frame', frame)\n",
    "    cv2.imshow('inversed', inversed)\n",
    "    \n",
    "    if cv2.waitKey(delay) == 27:\n",
    "        break\n",
    "\n",
    "cv2.destroyAllWindows()"
   ]
  }
 ],
 "metadata": {
  "kernelspec": {
   "display_name": "Python 3",
   "language": "python",
   "name": "python3"
  },
  "language_info": {
   "codemirror_mode": {
    "name": "ipython",
    "version": 3
   },
   "file_extension": ".py",
   "mimetype": "text/x-python",
   "name": "python",
   "nbconvert_exporter": "python",
   "pygments_lexer": "ipython3",
   "version": "3.7.3"
  }
 },
 "nbformat": 4,
 "nbformat_minor": 2
}
