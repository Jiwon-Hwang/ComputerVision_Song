{
 "cells": [
  {
   "cell_type": "markdown",
   "metadata": {},
   "source": [
    "## cv2 vs numpy"
   ]
  },
  {
   "cell_type": "markdown",
   "metadata": {},
   "source": [
    "**0과 255의 범위를 초과**하는 값을 다루는 방식이 모듈 numpy와 cv2 사이에 **차이점**이 있다.  \n",
    "  \n",
    "ex) **-1 (0 미만 값)**의 경우,  \n",
    "* numpy : **255**로 처리\n",
    "* cv2 : **0**으로 처리  \n",
    "  \n",
    "ex) **256 (255 초과 값)**의 경우, (**overflow**)     \n",
    "* numpy : **0**로 처리\n",
    "* cv2 : **255**으로 처리  \n",
    "  \n",
    "  \n",
    "> 따라서, np.array()에 50을 더해서 255를 초과하면 numpy에서 0으로 처리하므로, np.min()을 찍어보면 0이 생긴다. "
   ]
  },
  {
   "cell_type": "code",
   "execution_count": 12,
   "metadata": {},
   "outputs": [
    {
     "name": "stdout",
     "output_type": "stream",
     "text": [
      "[[255]]\n",
      "[4]\n"
     ]
    }
   ],
   "source": [
    "import cv2\n",
    "import numpy as np\n",
    "\n",
    "x = np.uint8([250]) # cv2.imread 시 uint8 범위 (0~255)\n",
    "y = np.uint8([10]) \n",
    "\n",
    "print(cv2.add(x,y)) # 250 + 10 = 260 => 255\n",
    "print(x+y)          # 250 + 10 = 260 => 260 % 256 = 4"
   ]
  },
  {
   "cell_type": "markdown",
   "metadata": {},
   "source": [
    "## cf. np.where과 cv2.add ==> 1ms 차이"
   ]
  },
  {
   "cell_type": "code",
   "execution_count": 15,
   "metadata": {
    "scrolled": true
   },
   "outputs": [
    {
     "name": "stdout",
     "output_type": "stream",
     "text": [
      "22 239\n",
      "22 255\n",
      "73 255\n",
      "[[120 114 125 ...  94  94  93]\n",
      " [113 115 126 ...  96  95  96]\n",
      " [124 128 131 ...  94  99 108]\n",
      " ...\n",
      " [ 86  93  89 ... 158 166 155]\n",
      " [ 95  91  88 ... 166 162 160]\n",
      " [ 97  98  90 ... 161 162 168]]\n",
      "np.where time : 10.228900000000001\n"
     ]
    }
   ],
   "source": [
    "# sol1) np.where 이용\n",
    "\n",
    "import numpy as np\n",
    "import cv2\n",
    "\n",
    "tm = cv2.TickMeter()\n",
    "tm.start()\n",
    "\n",
    "img = cv2.imread('lenna.bmp', cv2.IMREAD_GRAYSCALE)\n",
    "print(np.min(img), np.max(img))\n",
    "\n",
    "img2 = img.copy()\n",
    "\n",
    "img3 = img2[200:400, 200:400] # 별개의 주소\n",
    "\n",
    "img2[200:400, 200:400] = np.where(img3 > 205, 255, img3 + 50)\n",
    "print(np.min(img2), np.max(img2))\n",
    "print(np.min(img2[200:400, 200:400]), np.max(img2[200:400, 200:400]))\n",
    "\n",
    "cv2.imwrite('lenna_50_1.bmp', img2)\n",
    "print(img2[200:400, 200:400])\n",
    "\n",
    "tm.stop()\n",
    "print('np.where time :', tm.getTimeMilli())"
   ]
  },
  {
   "cell_type": "code",
   "execution_count": 16,
   "metadata": {},
   "outputs": [
    {
     "name": "stdout",
     "output_type": "stream",
     "text": [
      "22 239\n",
      "22 255\n",
      "73 255\n",
      "[[120 114 125 ...  94  94  93]\n",
      " [113 115 126 ...  96  95  96]\n",
      " [124 128 131 ...  94  99 108]\n",
      " ...\n",
      " [ 86  93  89 ... 158 166 155]\n",
      " [ 95  91  88 ... 166 162 160]\n",
      " [ 97  98  90 ... 161 162 168]]\n",
      "np.where time : 9.389700000000001\n"
     ]
    }
   ],
   "source": [
    "# sol2) cv2.add() 이용\n",
    "\n",
    "import numpy as np\n",
    "import cv2\n",
    "\n",
    "tm = cv2.TickMeter()\n",
    "tm.start()\n",
    "\n",
    "img = cv2.imread('lenna.bmp', cv2.IMREAD_GRAYSCALE)\n",
    "print(np.min(img), np.max(img))\n",
    "\n",
    "img2 = img.copy()\n",
    "\n",
    "img2[200:400, 200:400] = cv2.add(img2[200:400, 200:400], 50)\n",
    "print(np.min(img2), np.max(img2))\n",
    "print(np.min(img2[200:400, 200:400]), np.max(img2[200:400, 200:400]))\n",
    "\n",
    "cv2.imwrite('lenna_50_2.bmp', img2)\n",
    "print(img2[200:400, 200:400])\n",
    "\n",
    "tm.stop()\n",
    "print('np.where time :', tm.getTimeMilli())"
   ]
  },
  {
   "cell_type": "code",
   "execution_count": 3,
   "metadata": {},
   "outputs": [
    {
     "data": {
      "text/plain": [
       "True"
      ]
     },
     "execution_count": 3,
     "metadata": {},
     "output_type": "execute_result"
    }
   ],
   "source": [
    "# sol2) cv2.add() 이용 ==> 제출용\n",
    "\n",
    "import cv2\n",
    "\n",
    "img = cv2.imread('lenna.bmp', cv2.IMREAD_GRAYSCALE)\n",
    "img2 = img.copy()\n",
    "img2[200:400, 200:400] = cv2.add(img2[200:400, 200:400], 50)\n",
    "cv2.imwrite('lenna_50.bmp', img2)"
   ]
  },
  {
   "cell_type": "markdown",
   "metadata": {},
   "source": [
    "## 깊은 복사 vs 얕은 복사"
   ]
  },
  {
   "cell_type": "code",
   "execution_count": 20,
   "metadata": {},
   "outputs": [
    {
     "name": "stdout",
     "output_type": "stream",
     "text": [
      "[[1 2 3]\n",
      " [4 5 6]]\n",
      "\n",
      "[[2 3]\n",
      " [5 6]]\n",
      "\n",
      "[[12 13]\n",
      " [15 16]]\n",
      "\n",
      "[[11 12 13]\n",
      " [14 15 16]]\n",
      "[[12 13]\n",
      " [15 16]]\n"
     ]
    }
   ],
   "source": [
    "arr = np.array([[1, 2, 3], [4,5,6]])\n",
    "print(arr)\n",
    "\n",
    "print()\n",
    "\n",
    "arr2 = arr[:, 1:].copy()\n",
    "print(arr2)\n",
    "\n",
    "print()\n",
    "\n",
    "arr2 += 10\n",
    "print(arr2)\n",
    "\n",
    "print()\n",
    "\n",
    "arr += 10\n",
    "print(arr)\n",
    "print(arr2)\n",
    "# arr과 arr2는 별개! (copy() 했으므로)"
   ]
  },
  {
   "cell_type": "code",
   "execution_count": 7,
   "metadata": {},
   "outputs": [
    {
     "name": "stdout",
     "output_type": "stream",
     "text": [
      "2017283151312 2017283151232 2017283151312\n"
     ]
    }
   ],
   "source": [
    "arr = np.array([1,2,3])\n",
    "arr1 = arr[:2] # 이건 다른 주소\n",
    "arr2 = arr # 이건 같은 주소\n",
    "\n",
    "print(id(arr), id(arr1), id(arr2))"
   ]
  }
 ],
 "metadata": {
  "kernelspec": {
   "display_name": "Python 3",
   "language": "python",
   "name": "python3"
  },
  "language_info": {
   "codemirror_mode": {
    "name": "ipython",
    "version": 3
   },
   "file_extension": ".py",
   "mimetype": "text/x-python",
   "name": "python",
   "nbconvert_exporter": "python",
   "pygments_lexer": "ipython3",
   "version": "3.7.3"
  }
 },
 "nbformat": 4,
 "nbformat_minor": 2
}
