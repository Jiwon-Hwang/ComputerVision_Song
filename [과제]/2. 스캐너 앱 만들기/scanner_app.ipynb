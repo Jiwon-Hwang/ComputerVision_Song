{
 "cells": [
  {
   "cell_type": "markdown",
   "metadata": {},
   "source": [
    "* 비율은 200, 300으로\n",
    "* sol1) 그레이스케일 -> 이진화 -> (필요시) 침식, 팽창 -> 허프 변환 직선 검출 -> 네 모서리 좌표 -> getPerspectiveTransform, warpPerspective\n",
    "* sol2) 허프 변환 직선 검출 -> 네 모서리 좌표 -> getPerspectiveTransform, warpPerspective"
   ]
  },
  {
   "cell_type": "code",
   "execution_count": 1,
   "metadata": {},
   "outputs": [],
   "source": [
    "# sol2로 했을 때\n",
    "\n",
    "import cv2\n",
    "import numpy as np\n",
    "import math\n",
    "\n",
    "def hough_lines():\n",
    "    src = cv2.imread('test_resize.png', cv2.IMREAD_GRAYSCALE)\n",
    "    \n",
    "    edge = cv2.Canny(src, 50, 150)\n",
    "    lines = cv2.HoughLines(edge, 1, math.pi / 180, 250)\n",
    "    \n",
    "    dst = cv2.cvtColor(edge, cv2.COLOR_GRAY2BGR)\n",
    "    \n",
    "    if lines is not None:\n",
    "        for i in range(lines.shape[0]):\n",
    "            rho = lines[i][0][0]\n",
    "            theta = lines[i][0][1]\n",
    "            cos_t = math.cos(theta)\n",
    "            sin_t = math.sin(theta)\n",
    "            x0, y0 = rho * cos_t, rho * sin_t\n",
    "            alpha = 1000\n",
    "            pt1 = (int(x0 - alpha * sin_t), int(y0 + alpha * cos_t))\n",
    "            pt2 = (int(x0 + alpha * sin_t), int(y0 - alpha * cos_t))\n",
    "            cv2.line(dst, pt1, pt2, (0, 0, 255), cv2.LINE_AA)\n",
    "            \n",
    "    cv2.imshow('src', src)\n",
    "    cv2.imshow('dst', dst)\n",
    "    cv2.waitKey()\n",
    "    cv2.destroyAllWindows()\n",
    "        \n",
    "hough_lines()"
   ]
  },
  {
   "cell_type": "markdown",
   "metadata": {},
   "source": [
    "![](result1.png)"
   ]
  },
  {
   "cell_type": "code",
   "execution_count": 2,
   "metadata": {},
   "outputs": [],
   "source": [
    "# 적응형 이진화 => 여기서 팽창, 침식 적용해도 될듯!\n",
    "\n",
    "import cv2\n",
    "import numpy as np\n",
    "import math\n",
    "\n",
    "def on_trackbar(pos):\n",
    "    bsize = pos\n",
    "    if bsize % 2 == 0: bsize = bsize - 1\n",
    "    if bsize < 3 : bsize = 3\n",
    "        \n",
    "    dst = cv2.adaptiveThreshold(src, 255, cv2.ADAPTIVE_THRESH_GAUSSIAN_C,\n",
    "                               cv2.THRESH_BINARY, bsize, 5)\n",
    "    \n",
    "    cv2.imshow('dst', dst)\n",
    "    \n",
    "    \n",
    "src = cv2.imread('test_resize.png', cv2.IMREAD_GRAYSCALE)\n",
    "\n",
    "cv2.imshow('src', src)\n",
    "\n",
    "cv2.namedWindow('dst')\n",
    "cv2.createTrackbar('Block Size', 'dst', 0, 750, on_trackbar) # bisze = 749!\n",
    "cv2.setTrackbarPos('Block Size', 'dst', 11)\n",
    "\n",
    "cv2.waitKey()\n",
    "cv2.destroyAllWindows()"
   ]
  },
  {
   "cell_type": "markdown",
   "metadata": {},
   "source": [
    "![](result2.png)"
   ]
  },
  {
   "cell_type": "code",
   "execution_count": 3,
   "metadata": {},
   "outputs": [],
   "source": [
    "# Otsu 방식\n",
    "\n",
    "import cv2\n",
    "\n",
    "src = cv2.imread('test_resize.png', cv2.IMREAD_GRAYSCALE)\n",
    "\n",
    "cv2.imshow('src', src)\n",
    "\n",
    "ret, otsu = cv2.threshold(src, 0, 255, cv2.THRESH_BINARY + cv2.THRESH_OTSU)\n",
    "\n",
    "cv2.imshow('otsu', otsu)\n",
    "\n",
    "cv2.waitKey()\n",
    "cv2.destroyAllWindows()"
   ]
  },
  {
   "cell_type": "markdown",
   "metadata": {},
   "source": [
    "![](result3.png)"
   ]
  },
  {
   "cell_type": "code",
   "execution_count": 4,
   "metadata": {},
   "outputs": [],
   "source": [
    "# Otsu 후 침식, 팽창\n",
    "\n",
    "import cv2\n",
    "\n",
    "# 1. Otsu\n",
    "src = cv2.imread('test_resize.png', cv2.IMREAD_GRAYSCALE)\n",
    "cv2.imshow('src', src)\n",
    "\n",
    "ret, otsu = cv2.threshold(src, 0, 255, cv2.THRESH_BINARY + cv2.THRESH_OTSU)\n",
    "cv2.imshow('otsu', otsu)\n",
    "\n",
    "# 2. Morphology\n",
    "mask = cv2.getStructuringElement(cv2.MORPH_RECT, (3, 3))\n",
    "erode = cv2.erode(otsu, mask, iterations = 1)\n",
    "dilate = cv2.dilate(erode, mask, iterations = 1)\n",
    "cv2.imshow('erode', erode)\n",
    "cv2.imshow('dilate', dilate)\n",
    "\n",
    "cv2.waitKey()\n",
    "cv2.destroyAllWindows()"
   ]
  },
  {
   "cell_type": "markdown",
   "metadata": {},
   "source": [
    "![](result4.png)"
   ]
  },
  {
   "cell_type": "code",
   "execution_count": 34,
   "metadata": {
    "scrolled": true
   },
   "outputs": [
    {
     "name": "stdout",
     "output_type": "stream",
     "text": [
      "[[[-162.           2.5481806]]\n",
      "\n",
      " [[ -31.           2.9321532]]\n",
      "\n",
      " [[ 352.           1.2566371]]\n",
      "\n",
      " [[  82.           1.3613569]]]\n",
      "yes!\n"
     ]
    }
   ],
   "source": [
    "# Otsu -> 침식, 팽창 -> 허프 직선 검출1\n",
    "\n",
    "import cv2\n",
    "import numpy as np\n",
    "import math\n",
    "\n",
    "# 1. Otsu\n",
    "src = cv2.imread('test_resize.png', cv2.IMREAD_GRAYSCALE)\n",
    "cv2.imshow('src', src)\n",
    "\n",
    "ret, otsu = cv2.threshold(src, 0, 255, cv2.THRESH_BINARY + cv2.THRESH_OTSU)\n",
    "cv2.imshow('otsu', otsu)\n",
    "\n",
    "# 2. Morphology\n",
    "mask = cv2.getStructuringElement(cv2.MORPH_RECT, (3, 3))\n",
    "erode = cv2.erode(otsu, mask, iterations = 1)\n",
    "dilate = cv2.dilate(erode, mask, iterations = 2) # 한번 더 팽창해서 중간 구멍 제거\n",
    "cv2.imshow('erode', erode)\n",
    "cv2.imshow('dilate', dilate)\n",
    "\n",
    "# 3. hough line detection (hough_lines(), p.73)\n",
    "edge = cv2.Canny(dilate, 50, 150)\n",
    "lines = cv2.HoughLines(edge, 1, math.pi / 180, 114) # threshold를 250 -> 114로!!\n",
    "\n",
    "print(lines) # 직선정보(rho, theta)를 저장할 출력 벡터! (네점의 좌표 X)\n",
    "\n",
    "dst = cv2.cvtColor(edge, cv2.COLOR_GRAY2BGR)\n",
    "\n",
    "if lines is not None:\n",
    "    print('yes!') # Q. 왜 여기도 안들어감....? => 위에 threshold 수정하기!\n",
    "    for i in range(lines.shape[0]):\n",
    "        rho = lines[i][0][0]\n",
    "        theta = lines[i][0][1]\n",
    "        cos_t = math.cos(theta)\n",
    "        sin_t = math.sin(theta)\n",
    "        x0, y0 = rho * cos_t, rho * sin_t\n",
    "        alpha = 1000\n",
    "        pt1 = (int(x0 - alpha * sin_t), int(y0 + alpha * cos_t))\n",
    "        pt2 = (int(x0 + alpha * sin_t), int(y0 - alpha * cos_t))\n",
    "        cv2.line(dst, pt1, pt2, (0, 0, 255), cv2.LINE_AA) # 빨간색!\n",
    "        \n",
    "cv2.imshow('dst', dst)\n",
    "\n",
    "cv2.waitKey()\n",
    "cv2.destroyAllWindows()"
   ]
  },
  {
   "cell_type": "markdown",
   "metadata": {},
   "source": [
    "1. threshold = 250 일때 (**lines == None**)\n",
    "![](result5.png)\n",
    "2. threshold = 100 일때 (**lines != None**)\n",
    "![](result6.png)"
   ]
  },
  {
   "cell_type": "code",
   "execution_count": 39,
   "metadata": {},
   "outputs": [
    {
     "name": "stdout",
     "output_type": "stream",
     "text": [
      "[[[221  39 362 248]]\n",
      "\n",
      " [[ 49  78 103 334]]\n",
      "\n",
      " [[110 334 356 254]]\n",
      "\n",
      " [[ 50  73 193  43]]]\n",
      "yes!\n"
     ]
    }
   ],
   "source": [
    "# Otsu -> 침식, 팽창 -> 허프 직선 검출2\n",
    "\n",
    "import cv2\n",
    "import numpy as np\n",
    "import math\n",
    "\n",
    "# 1. Otsu\n",
    "src = cv2.imread('test_resize.png', cv2.IMREAD_GRAYSCALE)\n",
    "cv2.imshow('src', src)\n",
    "\n",
    "ret, otsu = cv2.threshold(src, 0, 255, cv2.THRESH_BINARY + cv2.THRESH_OTSU)\n",
    "cv2.imshow('otsu', otsu)\n",
    "\n",
    "# 2. Morphology\n",
    "mask = cv2.getStructuringElement(cv2.MORPH_RECT, (3, 3))\n",
    "erode = cv2.erode(otsu, mask, iterations = 1)\n",
    "dilate = cv2.dilate(erode, mask, iterations = 2) # 한번 더 팽창해서 중간 구멍 제거\n",
    "cv2.imshow('erode', erode)\n",
    "cv2.imshow('dilate', dilate)\n",
    "\n",
    "# 3. hough line detection (hough_line_segments(), p.79)\n",
    "edge = cv2.Canny(dilate, 50, 150)\n",
    "# ***여기가 다름***\n",
    "lines = cv2.HoughLinesP(edge, 1, math.pi / 180, 114, minLineLength=50, maxLineGap=100)\n",
    "    \n",
    "dst = cv2.cvtColor(edge, cv2.COLOR_GRAY2BGR)\n",
    "print(lines)\n",
    "if lines is not None:\n",
    "    print('yes!')\n",
    "    for i in range(lines.shape[0]):\n",
    "        pt1 = (lines[i][0][0], lines[i][0][1])\n",
    "        pt2 = (lines[i][0][2], lines[i][0][3])\n",
    "        cv2.line(dst, pt1, pt2, (0, 0, 255), 2, cv2.LINE_AA) # 2!!\n",
    "        \n",
    "cv2.imshow('dst', dst)\n",
    "        \n",
    "cv2.waitKey()\n",
    "cv2.destroyAllWindows()"
   ]
  },
  {
   "cell_type": "markdown",
   "metadata": {},
   "source": [
    "![](result7.png)"
   ]
  },
  {
   "cell_type": "code",
   "execution_count": 41,
   "metadata": {},
   "outputs": [
    {
     "name": "stdout",
     "output_type": "stream",
     "text": [
      "[[[-162.           2.5481806]]\n",
      "\n",
      " [[ -31.           2.9321532]]\n",
      "\n",
      " [[ 352.           1.2566371]]\n",
      "\n",
      " [[  82.           1.3613569]]]\n",
      "[[-43, -353], [103, 335], [2547, -457], [220, 37]]\n"
     ]
    }
   ],
   "source": [
    "# Otsu -> 침식, 팽창 -> 직접 직선의방정식으로부터 네 꼭지점 좌표 구하기..!ㅠㅠ\n",
    "# 이 방법 X! (음수 좌표 나옴...)\n",
    "\n",
    "import cv2\n",
    "import numpy as np\n",
    "import math\n",
    "\n",
    "# 1. Otsu\n",
    "src = cv2.imread('test_resize.png', cv2.IMREAD_GRAYSCALE)\n",
    "cv2.imshow('src', src)\n",
    "\n",
    "ret, otsu = cv2.threshold(src, 0, 255, cv2.THRESH_BINARY + cv2.THRESH_OTSU)\n",
    "cv2.imshow('otsu', otsu)\n",
    "\n",
    "# 2. Morphology\n",
    "mask = cv2.getStructuringElement(cv2.MORPH_RECT, (3, 3))\n",
    "erode = cv2.erode(otsu, mask, iterations = 1)\n",
    "dilate = cv2.dilate(erode, mask, iterations = 2) # 한번 더 팽창해서 중간 구멍 제거\n",
    "cv2.imshow('erode', erode)\n",
    "cv2.imshow('dilate', dilate)\n",
    "\n",
    "# 3\n",
    "edge = cv2.Canny(dilate, 50, 150)\n",
    "lines = cv2.HoughLines(edge, 1, math.pi / 180, 114) # threshold를 250 -> 114로!!\n",
    "\n",
    "print(lines) # 직선정보(rho, theta)를 저장할 출력 벡터! (네점의 좌표 X)\n",
    "\n",
    "points = []\n",
    "\n",
    "if lines is not None:\n",
    "    for i in range(lines.shape[0]):\n",
    "        c1 = lines[(i+4)%4][0][0] # rho1 \n",
    "        c2 = lines[(i+5)%4][0][0] # rho2\n",
    "        theta1 = lines[(i+4)%4][0][1]\n",
    "        theta2 = lines[(i+5)%4][0][1]\n",
    "        a1 = math.cos(theta1)\n",
    "        a2 = math.cos(theta2)\n",
    "        b1 = math.sin(theta1)\n",
    "        b2 = math.sin(theta2)\n",
    "        \n",
    "        x = int((b2*c1 - b1*c2) / (a1*b2 - a2*b1))\n",
    "        y = int((c1 - a1*x) / b1)\n",
    "        \n",
    "        points.append([x, y])\n",
    "\n",
    "print(points)\n",
    "        \n",
    "cv2.waitKey()\n",
    "cv2.destroyAllWindows()"
   ]
  },
  {
   "cell_type": "markdown",
   "metadata": {},
   "source": [
    "### 성공! (각 꼭지점 좌표 구해서 투시 변환)"
   ]
  },
  {
   "cell_type": "code",
   "execution_count": 5,
   "metadata": {
    "scrolled": true
   },
   "outputs": [
    {
     "name": "stdout",
     "output_type": "stream",
     "text": [
      "[[[221  39 362 248]]\n",
      "\n",
      " [[ 49  78 103 334]]\n",
      "\n",
      " [[110 334 356 254]]\n",
      "\n",
      " [[ 50  73 193  43]]]\n",
      "yes!\n",
      "[[ 49.  78.]\n",
      " [221.  39.]\n",
      " [362. 248.]\n",
      " [103. 334.]]\n"
     ]
    }
   ],
   "source": [
    "# Otsu -> 침식, 팽창 -> HoughLinesP & 직접 좌표값들 보고 꼭지점 좌표 선택하기 ==> < 성공 >\n",
    "# 이 다음에 두 수평선 그룹으로 나눠서 교점 좌표 구하는 방식으로 해보기!\n",
    "\n",
    "import cv2\n",
    "import numpy as np\n",
    "import math\n",
    "\n",
    "# 1. Otsu\n",
    "src = cv2.imread('test_resize.png', cv2.IMREAD_GRAYSCALE)\n",
    "cv2.imshow('src', src)\n",
    "\n",
    "ret, otsu = cv2.threshold(src, 0, 255, cv2.THRESH_BINARY + cv2.THRESH_OTSU)\n",
    "cv2.imshow('otsu', otsu)\n",
    "\n",
    "# 2. Morphology\n",
    "mask = cv2.getStructuringElement(cv2.MORPH_RECT, (3, 3))\n",
    "erode = cv2.erode(otsu, mask, iterations = 1)\n",
    "dilate = cv2.dilate(erode, mask, iterations = 2) # 한번 더 팽창해서 중간 구멍 제거\n",
    "cv2.imshow('erode', erode)\n",
    "cv2.imshow('dilate', dilate)\n",
    "\n",
    "# 3. hough line detection (hough_line_segments(), p.79)\n",
    "edge = cv2.Canny(dilate, 50, 150)\n",
    "# ***여기가 다름***\n",
    "lines = cv2.HoughLinesP(edge, 1, math.pi / 180, 114, minLineLength=50, maxLineGap=100)\n",
    "    \n",
    "dst = cv2.cvtColor(edge, cv2.COLOR_GRAY2BGR)\n",
    "print(lines)\n",
    "if lines is not None:\n",
    "    print('yes!')\n",
    "    for i in range(lines.shape[0]):\n",
    "        pt1 = (lines[i][0][0], lines[i][0][1])\n",
    "        pt2 = (lines[i][0][2], lines[i][0][3])\n",
    "        cv2.line(dst, pt1, pt2, (0, 0, 255), 2, cv2.LINE_AA) # 2!!\n",
    "        \n",
    "cv2.imshow('dst', dst)\n",
    "\n",
    "# 4. 네 모서리 좌표들 직접 넣기 ==> ***src_pts = np.zeros([4, 2], dtype = np.float32)\n",
    "points = np.zeros([4, 2], dtype = np.float32)\n",
    "\n",
    "points[0, :] = np.array([lines[1][0][0], lines[1][0][1]]).astype(np.float32) # 좌상단\n",
    "points[1, :] = np.array([lines[0][0][0], lines[0][0][1]]).astype(np.float32) # 우상단\n",
    "points[2, :] = np.array([lines[0][0][2], lines[0][0][3]]).astype(np.float32) # 우하단\n",
    "points[3, :] = np.array([lines[1][0][2], lines[1][0][3]]).astype(np.float32) # 좌하단\n",
    "\n",
    "print(points)\n",
    "\n",
    "cv2.circle(src, (lines[1][0][0], lines[1][0][1]), 5, (0, 0, 255), -1)\n",
    "cv2.circle(src, (lines[0][0][0], lines[0][0][1]), 5, (0, 0, 255), -1)\n",
    "cv2.circle(src, (lines[0][0][2], lines[0][0][3]), 5, (0, 0, 255), -1)\n",
    "cv2.circle(src, (lines[1][0][2], lines[1][0][3]), 5, (0, 0, 255), -1)\n",
    "cv2.imshow('circle', src)\n",
    "\n",
    "# 5. 투시 변환\n",
    "w = 400 # dst 크기 사전에 지정\n",
    "h = 600\n",
    "            \n",
    "# 좌상단부터 시계 방향으로 처리\n",
    "dst_pts = np.array([[0, 0],\n",
    "                    [w - 1, 0],\n",
    "                    [w - 1, h - 1],\n",
    "                    [0, h - 1]]).astype(np.float32)\n",
    "            \n",
    "pers_mat = cv2.getPerspectiveTransform(points, dst_pts) # M 구하기\n",
    "\n",
    "src = cv2.imread('test_resize.png')\n",
    "\n",
    "result = cv2.warpPerspective(src, pers_mat, (w, h)) # M 이용해 투시 변환\n",
    "            \n",
    "cv2.imshow('result', result)\n",
    "\n",
    "\n",
    "cv2.waitKey()\n",
    "cv2.destroyAllWindows()"
   ]
  },
  {
   "cell_type": "markdown",
   "metadata": {},
   "source": [
    "![](result8.png)"
   ]
  },
  {
   "cell_type": "markdown",
   "metadata": {},
   "source": [
    "### 성공! (평행선 그룹 간 intersections 자동으로 구해서 4방향 구분) ==> 함수로 쪼개기\n",
    "참고 코드 : https://java2020.com/q/ktdcksju"
   ]
  },
  {
   "cell_type": "code",
   "execution_count": 1,
   "metadata": {},
   "outputs": [
    {
     "name": "stdout",
     "output_type": "stream",
     "text": [
      "[[[-162.           2.5481806]]\n",
      "\n",
      " [[ -31.           2.9321532]]\n",
      "\n",
      " [[ 352.           1.2566371]]\n",
      "\n",
      " [[  82.           1.3613569]]]\n",
      "[[-43, -353], [103, 335], [2547, -457], [220, 37]]\n"
     ]
    }
   ],
   "source": [
    "import cv2\n",
    "import numpy as np\n",
    "import math\n",
    "\n",
    "# 1. Otsu\n",
    "src = cv2.imread('test_resize.png', cv2.IMREAD_GRAYSCALE)\n",
    "cv2.imshow('src', src)\n",
    "\n",
    "ret, otsu = cv2.threshold(src, 0, 255, cv2.THRESH_BINARY + cv2.THRESH_OTSU)\n",
    "cv2.imshow('otsu', otsu)\n",
    "\n",
    "# 2. Morphology\n",
    "mask = cv2.getStructuringElement(cv2.MORPH_RECT, (3, 3))\n",
    "erode = cv2.erode(otsu, mask, iterations = 1)\n",
    "dilate = cv2.dilate(erode, mask, iterations = 2) # 한번 더 팽창해서 중간 구멍 제거\n",
    "cv2.imshow('erode', erode)\n",
    "cv2.imshow('dilate', dilate)\n",
    "\n",
    "# 3\n",
    "edge = cv2.Canny(dilate, 50, 150)\n",
    "lines = cv2.HoughLines(edge, 1, math.pi / 180, 114) # threshold를 250 -> 114로!!\n",
    "\n",
    "print(lines) # 직선정보(rho, theta)를 저장할 출력 벡터! (네점의 좌표 X)\n",
    "\n",
    "points = []\n",
    "\n",
    "if lines is not None:\n",
    "    for i in range(lines.shape[0]):\n",
    "        c1 = lines[(i+4)%4][0][0] # rho1 \n",
    "        c2 = lines[(i+5)%4][0][0] # rho2\n",
    "        theta1 = lines[(i+4)%4][0][1]\n",
    "        theta2 = lines[(i+5)%4][0][1]\n",
    "        a1 = math.cos(theta1)\n",
    "        a2 = math.cos(theta2)\n",
    "        b1 = math.sin(theta1)\n",
    "        b2 = math.sin(theta2)\n",
    "        \n",
    "        x = int((b2*c1 - b1*c2) / (a1*b2 - a2*b1))\n",
    "        y = int((c1 - a1*x) / b1)\n",
    "        \n",
    "        points.append([x, y])\n",
    "\n",
    "print(points)\n",
    "\n",
    "cv2.waitKey()\n",
    "cv2.destroyAllWindows()"
   ]
  },
  {
   "cell_type": "code",
   "execution_count": 2,
   "metadata": {},
   "outputs": [],
   "source": [
    "from collections import defaultdict\n",
    "def segment_by_angle_kmeans(lines, k=2, **kwargs):\n",
    "    \"\"\"Groups lines based on angle with k-means.\n",
    "\n",
    "    Uses k-means on the coordinates of the angle on the unit circle \n",
    "    to segment `k` angles inside `lines`.\n",
    "    \"\"\"\n",
    "\n",
    "    # Define criteria = (type, max_iter, epsilon)\n",
    "    default_criteria_type = cv2.TERM_CRITERIA_EPS + cv2.TERM_CRITERIA_MAX_ITER\n",
    "    criteria = kwargs.get('criteria', (default_criteria_type, 10, 1.0))\n",
    "    flags = kwargs.get('flags', cv2.KMEANS_RANDOM_CENTERS)\n",
    "    attempts = kwargs.get('attempts', 10)\n",
    "\n",
    "    # returns angles in [0, pi] in radians\n",
    "    angles = np.array([line[0][1] for line in lines])\n",
    "    # multiply the angles by two and find coordinates of that angle\n",
    "    pts = np.array([[np.cos(2*angle), np.sin(2*angle)]\n",
    "                    for angle in angles], dtype=np.float32)\n",
    "\n",
    "    # run kmeans on the coords\n",
    "    labels, centers = cv2.kmeans(pts, k, None, criteria, attempts, flags)[1:]\n",
    "    labels = labels.reshape(-1)  # transpose to row vec\n",
    "\n",
    "    # segment lines based on their kmeans label\n",
    "    segmented = defaultdict(list)\n",
    "    for i, line in zip(range(len(lines)), lines):\n",
    "        segmented[labels[i]].append(line)\n",
    "    segmented = list(segmented.values())\n",
    "    return segmented"
   ]
  },
  {
   "cell_type": "code",
   "execution_count": 3,
   "metadata": {},
   "outputs": [
    {
     "name": "stdout",
     "output_type": "stream",
     "text": [
      "[[array([[-162.       ,    2.5481806]], dtype=float32), array([[-31.       ,   2.9321532]], dtype=float32)], [array([[352.       ,   1.2566371]], dtype=float32), array([[82.       ,  1.3613569]], dtype=float32)]]\n"
     ]
    }
   ],
   "source": [
    "segmented = segment_by_angle_kmeans(lines)\n",
    "print(segmented)"
   ]
  },
  {
   "cell_type": "code",
   "execution_count": 4,
   "metadata": {},
   "outputs": [],
   "source": [
    "def intersection(line1, line2):\n",
    "    \"\"\"Finds the intersection of two lines given in Hesse normal form.\n",
    "\n",
    "    Returns closest integer pixel locations.\n",
    "    See https://stackoverflow.com/a/383527/5087436\n",
    "    \"\"\"\n",
    "    rho1, theta1 = line1[0]\n",
    "    rho2, theta2 = line2[0]\n",
    "    A = np.array([\n",
    "        [np.cos(theta1), np.sin(theta1)],\n",
    "        [np.cos(theta2), np.sin(theta2)]\n",
    "    ])\n",
    "    b = np.array([[rho1], [rho2]])\n",
    "    x0, y0 = np.linalg.solve(A, b)\n",
    "    x0, y0 = int(np.round(x0)), int(np.round(y0))\n",
    "    return [[x0, y0]]\n",
    "\n",
    "\n",
    "def segmented_intersections(lines):\n",
    "    \"\"\"Finds the intersections between groups of lines.\"\"\"\n",
    "\n",
    "    intersections = []\n",
    "    for i, group in enumerate(lines[:-1]):\n",
    "        for next_group in lines[i+1:]:\n",
    "            for line1 in group:\n",
    "                for line2 in next_group:\n",
    "                    intersections.append(intersection(line1, line2)) \n",
    "\n",
    "    return intersections"
   ]
  },
  {
   "cell_type": "code",
   "execution_count": 5,
   "metadata": {
    "scrolled": true
   },
   "outputs": [
    {
     "name": "stdout",
     "output_type": "stream",
     "text": [
      "[[[365, 252]], [[220, 37]], [[103, 337]], [[47, 74]]]\n"
     ]
    }
   ],
   "source": [
    "intersections = segmented_intersections(segmented)\n",
    "print(intersections) # intersections[0][0] = [365, 252]"
   ]
  },
  {
   "cell_type": "code",
   "execution_count": 6,
   "metadata": {},
   "outputs": [
    {
     "name": "stdout",
     "output_type": "stream",
     "text": [
      "[[[220, 37]], [[47, 74]], [[365, 252]], [[103, 337]]]\n",
      "[[[47, 74]], [[103, 337]], [[220, 37]], [[365, 252]]]\n"
     ]
    }
   ],
   "source": [
    "# y값 기준 오름차순 정렬\n",
    "intersections.sort(key = lambda x : x[0][1])\n",
    "print(intersections)\n",
    "\n",
    "# x값 기준 오름차순 정렬\n",
    "intersections.sort(key = lambda x : x[0][0])\n",
    "print(intersections)"
   ]
  },
  {
   "cell_type": "code",
   "execution_count": 7,
   "metadata": {},
   "outputs": [
    {
     "name": "stdout",
     "output_type": "stream",
     "text": [
      "[[ 47.  74.]\n",
      " [220.  37.]\n",
      " [365. 252.]\n",
      " [103. 337.]]\n"
     ]
    }
   ],
   "source": [
    "# 시계 방향으로 좌표 정렬 (반으로 나눠서 크기 비교 두번씩)\n",
    "intersections_sorted = np.zeros([4, 2], dtype = np.float32)\n",
    "intersections.sort(key = lambda x : x[0][1]) # y값 기준 오름차순 정렬\n",
    "\n",
    "if intersections[0][0][0] < intersections[1][0][0]:\n",
    "    lu = intersections[0][0]\n",
    "    ru = intersections[1][0]\n",
    "else:\n",
    "    lu = intersections[1][0]\n",
    "    ru = intersections[0][0]\n",
    "    \n",
    "if intersections[2][0][0] < intersections[3][0][0]:\n",
    "    rd = intersections[3][0]\n",
    "    ld = intersections[2][0]\n",
    "else:\n",
    "    rd = intersections[2][0]\n",
    "    ld = intersections[3][0]\n",
    "    \n",
    "    \n",
    "intersections_sorted[0, :] = np.array(lu).astype(np.float32)\n",
    "intersections_sorted[1, :] = np.array(ru).astype(np.float32)\n",
    "intersections_sorted[2, :] = np.array(rd).astype(np.float32)\n",
    "intersections_sorted[3, :] = np.array(ld).astype(np.float32)\n",
    "\n",
    "print(intersections_sorted)"
   ]
  },
  {
   "cell_type": "code",
   "execution_count": 9,
   "metadata": {},
   "outputs": [],
   "source": [
    "# 점으로 각 꼭지점 표시\n",
    "for i in range(4):\n",
    "    cv2.circle(src, (intersections_sorted[i][0], intersections_sorted[i][1]), 5, (0, 0, 255), -1) # 클릭 시 빨간색 원\n",
    "    \n",
    "cv2.imshow('circle', src)\n",
    "cv2.waitKey()\n",
    "cv2.destroyAllWindows()"
   ]
  },
  {
   "cell_type": "markdown",
   "metadata": {},
   "source": [
    "![](result9.png)"
   ]
  },
  {
   "cell_type": "code",
   "execution_count": 10,
   "metadata": {},
   "outputs": [],
   "source": [
    "# 5. 투시 변환\n",
    "w = 400 # dst 크기 사전에 지정\n",
    "h = 600\n",
    "            \n",
    "# 좌상단부터 시계 방향으로 처리\n",
    "dst_pts = np.array([[0, 0],\n",
    "                    [w - 1, 0],\n",
    "                    [w - 1, h - 1],\n",
    "                    [0, h - 1]]).astype(np.float32)\n",
    "            \n",
    "pers_mat = cv2.getPerspectiveTransform(intersections_sorted, dst_pts) # M 구하기\n",
    "\n",
    "src = cv2.imread('test_resize.png')\n",
    "\n",
    "result = cv2.warpPerspective(src, pers_mat, (w, h)) # M 이용해 투시 변환\n",
    "            \n",
    "cv2.imshow('result', result)\n",
    "\n",
    "\n",
    "cv2.waitKey()\n",
    "cv2.destroyAllWindows()"
   ]
  },
  {
   "cell_type": "markdown",
   "metadata": {},
   "source": [
    "![](result10.png)"
   ]
  },
  {
   "cell_type": "markdown",
   "metadata": {},
   "source": [
    "<hr>"
   ]
  }
 ],
 "metadata": {
  "kernelspec": {
   "display_name": "Python 3",
   "language": "python",
   "name": "python3"
  },
  "language_info": {
   "codemirror_mode": {
    "name": "ipython",
    "version": 3
   },
   "file_extension": ".py",
   "mimetype": "text/x-python",
   "name": "python",
   "nbconvert_exporter": "python",
   "pygments_lexer": "ipython3",
   "version": "3.7.3"
  }
 },
 "nbformat": 4,
 "nbformat_minor": 2
}
