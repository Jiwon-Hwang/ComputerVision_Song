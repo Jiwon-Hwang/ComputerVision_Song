{
 "cells": [
  {
   "cell_type": "markdown",
   "metadata": {},
   "source": [
    "# 어파인 변환\n",
    "* 이동 변환 (translation, shift)\n",
    "* 전단 변환 (shear)\n",
    "* 크기 변환 (scale)\n",
    "* 회전 변환 (rotation)\n",
    "* 대칭 변환 (flip)"
   ]
  },
  {
   "cell_type": "markdown",
   "metadata": {},
   "source": [
    "## 이동 변환(Translation Transformation)\n",
    "* x' = x + a\n",
    "* y' = y + b"
   ]
  },
  {
   "cell_type": "markdown",
   "metadata": {},
   "source": [
    "![](translation.png)\n",
    "![](translation_M.png) \n",
    "즉, [x' y'] = M * [x y 1]  \n",
    ">(**M** : **cv2.warpAffine() 함수의 인자**. **무조건 2x3 실수 행렬**)"
   ]
  },
  {
   "cell_type": "markdown",
   "metadata": {},
   "source": [
    "## (실습) 이동 변환\n",
    "x축 방향으로 150, y축 방향으로 100만큼 이동"
   ]
  },
  {
   "cell_type": "code",
   "execution_count": 2,
   "metadata": {},
   "outputs": [],
   "source": [
    "import cv2\n",
    "import numpy as np\n",
    "\n",
    "def affine_translation():\n",
    "    src = cv2.imread('tekapo.bmp')\n",
    "    \n",
    "    M = np.array([[1, 0, 150], [0, 1, 100]]).astype(np.float32)\n",
    "    \n",
    "    dst = cv2.warpAffine(src, M, (0, 0)) # (0, 0) : 원본 크기 유지 (dst 크기 신경 x)\n",
    "    \n",
    "    cv2.imshow('src', src)\n",
    "    cv2.imshow('dst', dst)\n",
    "    cv2.waitKey()\n",
    "    cv2.destroyAllWindows()\n",
    "    \n",
    "affine_translation()"
   ]
  },
  {
   "cell_type": "markdown",
   "metadata": {},
   "source": [
    "![](translation_result.png)"
   ]
  },
  {
   "cell_type": "markdown",
   "metadata": {},
   "source": [
    "## 전단 변환(Shear Transformation)\n",
    "직사각형 영상을 한쪽 방향으로 밀어 평행사변형으로 변형 (층밀림 변환)"
   ]
  },
  {
   "cell_type": "markdown",
   "metadata": {},
   "source": [
    "![](shear_x.png)\n",
    "* x축 방향(가로 방향)으로 밀었을 때, y 좌표가 증가함에 따라 x값 바뀜 (*y값은 동일*)   \n",
    "![](shear_y.png)\n",
    "* y축 방향(세로 방향)으로 밀었을 때, x 좌표가 증가함에 따라 y값 바뀜 (*x값은 동일*)  "
   ]
  },
  {
   "cell_type": "markdown",
   "metadata": {},
   "source": [
    "![](shear_M.png)\n",
    "> **M은 무조건 2x3 크기**여야 하므로, 뒤에 [0 0]을 더하더라도 M에 포함시켜야 함!"
   ]
  },
  {
   "cell_type": "markdown",
   "metadata": {},
   "source": [
    "## (실습) 전단 변환"
   ]
  },
  {
   "cell_type": "code",
   "execution_count": 3,
   "metadata": {},
   "outputs": [],
   "source": [
    "def affine_shear():\n",
    "    src = cv2.imread('tekapo.bmp')\n",
    "    \n",
    "    rows = src.shape[0]\n",
    "    cols = src.shape[1]\n",
    "    \n",
    "    mx = 0.3 # x축 방향(가로 방향)으로 전단 변환, y값의 0.3배만큼씩 밀기\n",
    "    M = np.array([[1, mx, 0], [0, 1, 0]]).astype(np.float32)\n",
    "    \n",
    "    # y값이 증가함에 따라, 아래로 내려갈수록 x축으로 더 많이 밀림\n",
    "    dst = cv2.warpAffine(src, M, (int(cols + rows * mx), rows)) # cv는 (w, h) 순서!!\n",
    "    \n",
    "    cv2.imshow('src', src)\n",
    "    cv2.imshow('dst', dst)\n",
    "    cv2.waitKey()\n",
    "    cv2.destroyAllWindows()\n",
    "    \n",
    "affine_shear()"
   ]
  },
  {
   "cell_type": "markdown",
   "metadata": {},
   "source": [
    "![](shear_result.png)\n",
    "> cf. ***세로 방향으로도 해볼 것!***"
   ]
  },
  {
   "cell_type": "markdown",
   "metadata": {},
   "source": [
    "## 크기 변환 (Scale Transformation)\n",
    "[크기 변환 2가지 방법]\n",
    "* 1. 어파인 변환 행렬 M 생성 후, cv2.warpAffine() 함수를 이용한다.\n",
    "* 2. **cv2.resize() 함수에 interpolation**을 지정한다. (크기를 줄이거나 늘리므로)\n",
    "    * dst = cv2.resize(src, dsize, fx, fy, interpolation)\n",
    "    > cf. dsize(dst size) = (round(rows * fx), round(cols * fy))"
   ]
  },
  {
   "cell_type": "markdown",
   "metadata": {},
   "source": [
    "![](scale.png)\n",
    "![](scale_M.png)\n",
    "(이것보단 주로 2번 방법인 **resize() 함수로 크기 변환**)"
   ]
  },
  {
   "cell_type": "markdown",
   "metadata": {},
   "source": [
    "* INTER_LINEAR : 연산 속도 빠르고, 화질도 충분히 좋음 (default)\n",
    "* INTER_CUBIC, INTER_LANCZOS4 : INTER_LINEAR 보다 더 좋은 화질\n",
    "* INTER_AREA : 영상 축소시 유리"
   ]
  },
  {
   "cell_type": "markdown",
   "metadata": {},
   "source": [
    "## (실습) 크기 변환"
   ]
  },
  {
   "cell_type": "code",
   "execution_count": 5,
   "metadata": {},
   "outputs": [],
   "source": [
    "def affine_scale():\n",
    "    src = cv2.imread('rose.bmp')\n",
    "    \n",
    "    dst1 = cv2.resize(src, (0, 0), fx=4, fy=4, interpolation = cv2.INTER_NEAREST)\n",
    "    dst2 = cv2.resize(src, (1920, 1280)) # 디폴트 : INTER_LINEAR\n",
    "    dst3 = cv2.resize(src, (1920, 1280), interpolation = cv2.INTER_CUBIC)\n",
    "    dst4 = cv2.resize(src, (1920, 1280), interpolation = cv2.INTER_LANCZOS4)\n",
    "    \n",
    "    cv2.imshow('src', src)\n",
    "    cv2.imshow('dst1', dst1[400:800, 500:900])\n",
    "    cv2.imshow('dst2', dst2[400:800, 500:900])\n",
    "    cv2.imshow('dst3', dst3[400:800, 500:900])\n",
    "    cv2.imshow('dst4', dst4[400:800, 500:900])\n",
    "    cv2.waitKey()\n",
    "    cv2.destroyAllWindows()\n",
    "    \n",
    "affine_scale() \n",
    "\n",
    "# dst1 -> dst4로 갈수록 점점 화질 좋아짐"
   ]
  },
  {
   "cell_type": "markdown",
   "metadata": {},
   "source": [
    "![](scale_result1.png)"
   ]
  },
  {
   "cell_type": "markdown",
   "metadata": {},
   "source": [
    "## 회전 변환(Rotation Transformation)\n",
    "원점을 기준으로 영상을 **반시계 방향**으로 **세타**만큼 회전하는 변환  \n",
    "\n",
    "\n",
    "[회전 변환 2가지 방법]\n",
    "* 1. 직접 **cos(), sin()** 으로 아래의 회전 변환 행렬 M 만들고 cv2.warpAffine()\n",
    "* 2. **cv2.getRotationMatrix2D()** 로 M 만들고 cv2.warpAffine()  \n",
    "> **cv2.getRotationMatrix2D()** : 원점뿐만 아니라 **특정 좌표 기준으로 회전** 가능, **크기 변환**까지도 함께 수행 가능한 어파인 변환 행렬 return\n",
    "  \n",
    "  \n",
    "![](rotation.png)\n",
    "> cf. 여기서 왜 cos **-sin sin** cos 가 아니라, cos **sin -sin** cos 일까?!"
   ]
  },
  {
   "cell_type": "markdown",
   "metadata": {},
   "source": [
    "## (참고) 회전 변환 행렬 : \"좌표계\"의 차이!\n",
    "* 일반 좌표계 : 회전각이 양수일 때 **반시계** 방향 (우상단이 1사분면)\n",
    "* in **그래픽스** : 회전각이 양수일 때 **시계** 방향!\n",
    "> 따라서, **반시계 방향으로 맞춰주기 위해서 \"- 세타\"** 로 처리!   \n",
    "\n",
    "![](rotation_M.png)  \n",
    "회전 변환 행렬 M을 구하는 2가지 방법\n",
    "* **cos()와 sin()함수** 이용\n",
    "* OpenCV에서 **cv2.getRotationMatrix2D()** 함수도 제공!  \n",
    "(위처럼 cos()와 sin()를 이용해서 2x3짜리 M 행렬 만들어도 상관 x)  \n",
    "> **cv2.getRotationMatrix2D(center, angle, scale)**"
   ]
  },
  {
   "cell_type": "markdown",
   "metadata": {},
   "source": [
    "![](rotation2.png)\n",
    "***수식 이해하기...!***"
   ]
  },
  {
   "cell_type": "markdown",
   "metadata": {},
   "source": [
    "## (실습) 회전 변환\n",
    "src의 **중심을 기준으로 반시계 방향으로 20도** 회전"
   ]
  },
  {
   "cell_type": "code",
   "execution_count": 6,
   "metadata": {},
   "outputs": [],
   "source": [
    "def affine_rotation():\n",
    "    src = cv2.imread('tekapo.bmp')\n",
    "    \n",
    "    cp = (src.shape[1] / 2, src.shape[0] / 2) # cp : center point\n",
    "    M = cv2.getRotationMatrix2D(cp, 20, 1) # (center, angle, scale)\n",
    "    \n",
    "    dst = cv2.warpAffine(src, M, (0, 0))\n",
    "    \n",
    "    cv2.imshow('src', src)\n",
    "    cv2.imshow('dst', dst)\n",
    "    cv2.waitKey()\n",
    "    cv2.destroyAllWindows()\n",
    "    \n",
    "affine_rotation()"
   ]
  },
  {
   "cell_type": "markdown",
   "metadata": {},
   "source": [
    "![](rotation_result.png)"
   ]
  },
  {
   "cell_type": "markdown",
   "metadata": {},
   "source": [
    "## 대칭 변환 (Flip Transformation)\n",
    "**좌우** 대칭 변환\n",
    "* x' = **w - 1 - x !!**\n",
    "* y' = y\n",
    "![](flip.png)  \n",
    "![](flip_lr.png)  \n",
    "  \n",
    "**상하** 대칭 변환\n",
    "* x' = x\n",
    "* y' = **h - 1 - y !!**\n",
    "![](flip_ud.png)  \n"
   ]
  },
  {
   "cell_type": "markdown",
   "metadata": {},
   "source": [
    "* **cv2.flip(src, flipCode)** 이용\n",
    "    * flipCode > 0 : 좌우 대칭\n",
    "    * flipCode = 0 : 상하 대칭\n",
    "    * flipCode < 0 : 상하, 좌우 대칭 모두 수행"
   ]
  },
  {
   "cell_type": "markdown",
   "metadata": {},
   "source": [
    "## (실습) 대칭 변환"
   ]
  },
  {
   "cell_type": "code",
   "execution_count": 7,
   "metadata": {},
   "outputs": [],
   "source": [
    "def affine_flip():\n",
    "    src = cv2.imread('eastsea.bmp')\n",
    "    cv2.imshow('src', src)\n",
    "    \n",
    "    for flip_code in [1, 0, -1]:\n",
    "        dst = cv2.flip(src, flip_code)\n",
    "        \n",
    "        desc = 'flipCode : %d' % flip_code\n",
    "        cv2.putText(dst, desc, (10, 30), cv2.FONT_HERSHEY_SIMPLEX, 1.0, (255, 0, 0), 1, cv2.LINE_AA)\n",
    "        \n",
    "        cv2.imshow('dst', dst)\n",
    "        cv2.waitKey()\n",
    "        \n",
    "    cv2.destroyAllWindows()\n",
    "    \n",
    "affine_flip()"
   ]
  },
  {
   "cell_type": "markdown",
   "metadata": {},
   "source": [
    "![](flip_result.png)"
   ]
  },
  {
   "cell_type": "markdown",
   "metadata": {},
   "source": [
    "<hr>"
   ]
  },
  {
   "cell_type": "markdown",
   "metadata": {},
   "source": [
    "# 투시 변환 (Projective Transformation)\n",
    "어파인 변환보다 **자유도가 높은** 영상의 기하학적 변환\n",
    "* 직선의 평행 관계 유지 X\n",
    "* 점 4개가 자유롭게 이동\n",
    "* 점 하나의 이동 관계 ==> x좌표에 대한 방정식 & y좌표에 대한 방정식 (2개의 방정식)\n",
    "    * 따라서, **총 8개의 방정식** 얻을 수 있음  \n",
    "\n",
    "  \n",
    "* Mp(투시변환 행렬) : 8개의 파라미터로 표현 가능. But, **계산의 편의상(여러 변환 행렬의 곱 미리 수행) 9개의 원소를 갖는 3x3 행렬** 사용  \n",
    "![](perspective.png)"
   ]
  },
  {
   "cell_type": "markdown",
   "metadata": {},
   "source": [
    "### cf. 동차 좌표계 (homogeneous coordinate)\n",
    "입력 및 출력 좌표를 (x, y, 1), (wx', wy', w) 형태로 표현한 것 (**for. 좌표 계산의 편의!**)\n",
    "![](pers_w.png)"
   ]
  },
  {
   "cell_type": "markdown",
   "metadata": {},
   "source": [
    "* **cv2.getPerspectiveTransform()** : 투시 변환 행렬 M 구하는 함수"
   ]
  },
  {
   "cell_type": "markdown",
   "metadata": {},
   "source": [
    "## (실습) 투시 변환"
   ]
  },
  {
   "cell_type": "code",
   "execution_count": null,
   "metadata": {},
   "outputs": [],
   "source": []
  }
 ],
 "metadata": {
  "kernelspec": {
   "display_name": "Python 3",
   "language": "python",
   "name": "python3"
  },
  "language_info": {
   "codemirror_mode": {
    "name": "ipython",
    "version": 3
   },
   "file_extension": ".py",
   "mimetype": "text/x-python",
   "name": "python",
   "nbconvert_exporter": "python",
   "pygments_lexer": "ipython3",
   "version": "3.7.3"
  }
 },
 "nbformat": 4,
 "nbformat_minor": 2
}
