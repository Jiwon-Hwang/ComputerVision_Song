{
 "cells": [
  {
   "cell_type": "markdown",
   "metadata": {},
   "source": [
    "# 영상의 기하학적 변환\n",
    "1. 어파인 변환 (Affine Transformation)\n",
    "2. 투시 변환 (Projective Transformation)"
   ]
  },
  {
   "cell_type": "markdown",
   "metadata": {},
   "source": [
    "# 어파인 변환\n",
    "* **평행 이동, 회전, 크기 변환, 전단 변환(밀기)** 등\n",
    "* 6개의 파라미터를 이용한 수식 ==> 따라서 **총 세 점의 이동 관계** 알아야 행렬 구함! (식 6개 필요)\n",
    "    * x' = f1(x, y) = ax + by + c (c * 1)\n",
    "    * y' = f2(x, y) = dx + ey + f (f * 1)\n",
    "    \n",
    "> **행렬의 곱셈, 덧셈**으로 표현 가능  \n",
    "  \n",
    "* if) 행렬의 덧셈을 제거하고, **하나의 행렬 곱셈 형태**로 나타내려면?  \n",
    "  \n",
    "> 가상의 좌표 1 추가! ==> **(x, y, 1)**"
   ]
  },
  {
   "cell_type": "markdown",
   "metadata": {},
   "source": [
    "**어파인 변환 행렬 (affine transformation matrix) : 2x3 행렬**  \n",
    "> **cv2.warpAffine()** 은, 무조건 **2x3 크기의 어파인 변환 행렬 M**을 인자로 받음!!  \n",
    "\n",
    "![img](affine_matrix.png)"
   ]
  },
  {
   "cell_type": "markdown",
   "metadata": {},
   "source": [
    "* **M = cv2.getAffineTransform(pts1, pts2)** : 어파인 변환 행렬 구하기\n",
    "* **dst = cv2.warpAffine(img, M, (cols,rows))** : 어파인 변환 적용\n",
    "> (cols, rows)에 **(0, 0)** ==> 크기 지정 신경 안쓰고 자동으로 나오는대로..."
   ]
  },
  {
   "cell_type": "markdown",
   "metadata": {},
   "source": [
    "## (실습) 어파인 변환\n",
    "호수 영상을 평행사변형 형태로 변환 (세 점 : 좌상단, 우상단, 우하단)"
   ]
  },
  {
   "cell_type": "code",
   "execution_count": 1,
   "metadata": {},
   "outputs": [],
   "source": [
    "import cv2\n",
    "import numpy as np\n",
    "\n",
    "def affine_transform():\n",
    "    src = cv2.imread('lenna.bmp')\n",
    "    \n",
    "    rows = src.shape[0]\n",
    "    cols = src.shape[1]\n",
    "    \n",
    "    # (x, y) : 좌상단(0, 0), 우상단(col-1, 0), 우하단(cols-1, rows-1)\n",
    "    src_pts = np.array([[0, 0], \n",
    "                        [cols - 1, 0], \n",
    "                        [cols - 1, rows - 1]]).astype(np.float32)\n",
    "    dst_pts = np.array([[50, 50], \n",
    "                        [cols - 100, 100], \n",
    "                        [cols - 50, rows - 50]]).astype(np.float32)\n",
    "    \n",
    "    affine_mat = cv2.getAffineTransform(src_pts, dst_pts) # 1. 어파인 변환 행렬 얻기\n",
    "    \n",
    "    dst = cv2.warpAffine(src, affine_mat, (0, 0)) # 2. 원본에 어파인 변환 적용\n",
    "    \n",
    "    cv2.imshow('src', src)\n",
    "    cv2.imshow('dst', dst)\n",
    "    cv2.waitKey()\n",
    "    cv2.destroyAllWindows()\n",
    "    \n",
    "affine_transform()"
   ]
  },
  {
   "cell_type": "markdown",
   "metadata": {},
   "source": [
    "![](affine_transform.png)"
   ]
  }
 ],
 "metadata": {
  "kernelspec": {
   "display_name": "Python 3",
   "language": "python",
   "name": "python3"
  },
  "language_info": {
   "codemirror_mode": {
    "name": "ipython",
    "version": 3
   },
   "file_extension": ".py",
   "mimetype": "text/x-python",
   "name": "python",
   "nbconvert_exporter": "python",
   "pygments_lexer": "ipython3",
   "version": "3.7.3"
  }
 },
 "nbformat": 4,
 "nbformat_minor": 2
}
