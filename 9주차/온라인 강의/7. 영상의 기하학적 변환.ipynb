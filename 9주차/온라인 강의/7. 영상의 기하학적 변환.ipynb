{
 "cells": [
  {
   "cell_type": "markdown",
   "metadata": {},
   "source": [
    "# 영상의 기하학적 변환\n",
    "1. 어파인 변환 (Affine Transformation)\n",
    "2. 투시 변환 (Projective Transformation)"
   ]
  },
  {
   "cell_type": "markdown",
   "metadata": {},
   "source": [
    "# 어파인 변환\n",
    "* 평행 이동, 회전, 크기 변환, 전단 변환(밀기) 등\n",
    "* 6개의 파라미터를 이용한 수식\n",
    "    * x' = f1(x, y) = ax + by + c\n",
    "    * y' = f2(x, y) = dx + ey + f  \n",
    "    \n",
    "> **행렬의 곱셈, 덧셈**으로 표현 가능  \n",
    "  \n",
    "* if) 행렬의 덧셈을 제거하고, **하나의 행렬 곱셈 형태**로 나타내려면?  \n",
    "  \n",
    "> 가상의 좌표 1 추가! ==> **(x, y, 1)**"
   ]
  },
  {
   "cell_type": "markdown",
   "metadata": {},
   "source": [
    "![]()"
   ]
  }
 ],
 "metadata": {
  "kernelspec": {
   "display_name": "Python 3",
   "language": "python",
   "name": "python3"
  },
  "language_info": {
   "codemirror_mode": {
    "name": "ipython",
    "version": 3
   },
   "file_extension": ".py",
   "mimetype": "text/x-python",
   "name": "python",
   "nbconvert_exporter": "python",
   "pygments_lexer": "ipython3",
   "version": "3.7.3"
  }
 },
 "nbformat": 4,
 "nbformat_minor": 2
}
