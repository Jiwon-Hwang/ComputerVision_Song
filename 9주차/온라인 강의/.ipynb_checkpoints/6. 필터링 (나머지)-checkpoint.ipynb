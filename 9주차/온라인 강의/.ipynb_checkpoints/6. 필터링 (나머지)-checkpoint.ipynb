{
 "cells": [
  {
   "cell_type": "markdown",
   "metadata": {},
   "source": [
    "## 미디언 필터\n",
    "* 입력 영상에서 자기 자신 & 주변 픽셀 값 중에서 **중간값(median)** 을 선택하는 필터링\n",
    "* 행렬곱 연산 X ==> **픽셀 값 정렬 후 중간값 선택**\n",
    "* 특히 잡음 픽셀 값 & 주변 픽셀 값 차이 클 경우에 효과적\n",
    "> ex. **소금(255) & 후추(0) 잡음** (**salt & pepper noise**) ==> 효과적으로 제거 가능 (*가우시안 필터링으로는 잘 해결 안됨*)   \n",
    "* **cv2.medianBlur()**\n",
    "* 다채널 영상일 경우, 각 채널별로 필터링 수행\n",
    "* BORDER_REPLICATE 방식으로 가장자리 픽셀 값 설정 (중간값의 영향을 덜 받게 하기 위해)"
   ]
  },
  {
   "cell_type": "markdown",
   "metadata": {},
   "source": [
    "## (실습) 미디언 필터\n",
    "* filter_median() : 입력 영상 크기의 10%에 해당하는 픽셀에 소금&후추 잡음 추가 후, 가우시안 필터와 미디언 필터 수행 결과 비교"
   ]
  },
  {
   "cell_type": "code",
   "execution_count": 1,
   "metadata": {},
   "outputs": [],
   "source": [
    "import cv2\n",
    "import numpy as np\n",
    "\n",
    "def filter_median():\n",
    "    src = cv2.imread('lenna.bmp', cv2.IMREAD_GRAYSCALE)\n",
    "    \n",
    "    # 랜덤하게 잡음 생성\n",
    "    for i in range(0, int(src.size / 10)):\n",
    "        x = np.random.randint(0, src.shape[1] - 1)\n",
    "        y = np.random.randint(0, src.shape[0] - 1)\n",
    "        src[x, y] = (i % 2) * 255 # i가 짝수, 홀수인지에 따라 0, 255 잡음 생성\n",
    "        \n",
    "    dst1 = cv2.GaussianBlur(src, (0, 0), 1) # 가우시안 필터링\n",
    "    dst2 = cv2.medianBlur(src, 3) # 미디언 필터링\n",
    "    \n",
    "    cv2.imshow('src', src)\n",
    "    cv2.imshow('dst1', dst1) # 소금&후추 잡음 제거 잘 안됨\n",
    "    cv2.imshow('dst2', dst2) # 소금&후추 잡음 제거 잘 됨\n",
    "    cv2.waitKey()\n",
    "    cv2.destroyAllWindows()\n",
    "    \n",
    "filter_median()"
   ]
  }
 ],
 "metadata": {
  "kernelspec": {
   "display_name": "Python 3",
   "language": "python",
   "name": "python3"
  },
  "language_info": {
   "codemirror_mode": {
    "name": "ipython",
    "version": 3
   },
   "file_extension": ".py",
   "mimetype": "text/x-python",
   "name": "python",
   "nbconvert_exporter": "python",
   "pygments_lexer": "ipython3",
   "version": "3.7.3"
  }
 },
 "nbformat": 4,
 "nbformat_minor": 2
}
