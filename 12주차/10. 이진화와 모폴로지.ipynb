{
 "cells": [
  {
   "cell_type": "markdown",
   "metadata": {},
   "source": [
    "# 영상의 이진화"
   ]
  },
  {
   "cell_type": "markdown",
   "metadata": {},
   "source": [
    "## 이진화 (Binarization)\n",
    "* 영상에서 관심 영역(ROI, Region Of Interest)과 그렇지 않은 비관심 영역으로 구분하는 것\n",
    "* **cv2.threshold(src, thresh, maxVal, type)** : 임계값을 이용한 다양한 연산 지원 함수\n",
    "    * maxVal : 이진화 적용 후 결과 영상의 최대 값 (보통 255)\n",
    "    * type : 임계값 연산 방법 (ex. THRESH_BINARY, THRESH_INV, THRESH_OTSU)\n",
    "      \n",
    "> if) **THRESH_OTSU, THRESH_TRIANGLE** 방법을 사용 시, **자동으로 결정된 임계값 반환!** ==> 따라서 thresh 값 지정할 필요 없음 (0)  \n",
    "  \n",
    "* **THRESH_OTSU, THRESH_TRIANGLE**는 *자동으로 임계값(T)을 구해주는 알고리즘*이므로, **이진화** 시 보통 **논리합 연산자(|)를 이용하여 THRESH_BINARY와 같은 상수와 함께** 사용\n",
    "    * cf. CV_8UC1 타입의 영상에만 적용 가능 (자동 임계값 결정 방법)\n"
   ]
  },
  {
   "cell_type": "markdown",
   "metadata": {},
   "source": [
    "## (실습) 이진화 (Binarization)"
   ]
  },
  {
   "cell_type": "code",
   "execution_count": 1,
   "metadata": {},
   "outputs": [],
   "source": [
    "import cv2\n",
    "import numpy as np\n",
    "import sys\n",
    "\n",
    "# on_ ~ : 콜백 함수\n",
    "def on_threshold(pos):\n",
    "    _, dst = cv2.threshold(src, pos, 255, cv2.THRESH_BINARY)\n",
    "    cv2.imshow('dst', dst)\n",
    "    \n",
    "    \n",
    "filename = 'neutrophils.png'\n",
    "    \n",
    "src = cv2.imread(filename, cv2.IMREAD_GRAYSCALE)\n",
    "\n",
    "\n",
    "cv2.namedWindow('dst')\n",
    "cv2.createTrackbar('Threshold', 'dst', 0, 255, on_threshold) # 시작위치 : 0\n",
    "cv2.setTrackbarPos('Threshold', 'dst', 128) # 트랙바 위치를 강제로 128로 옮기기\n",
    "\n",
    "cv2.waitKey(0)\n",
    "cv2.destroyAllWindows()"
   ]
  },
  {
   "cell_type": "markdown",
   "metadata": {},
   "source": [
    "![](thres_bin.png)"
   ]
  },
  {
   "cell_type": "markdown",
   "metadata": {},
   "source": [
    "## 적응형 이진화\n",
    "* 전역 이진화(global binarization) : 영상의 모든 픽셀에 같은 임계값 적용하여 이진화\n",
    "    * 균일하지 않은 조명 환경일 때 이진화가 잘 안되는 경우 발생!\n",
    "* **적응형 이진화(adaptive binarization)** : **각 픽셀마다 서로 다른 임계값**을 사용!\n",
    "    * 정해진 크기의 사각형 블록 영역 설정 후, **블록 영역 내부의 픽셀 값 분포**로부터 ***각 픽셀마다 고유한 임계값***을 결정하여 이진화\n",
    "    * ex. **T : 평균값 (블록 내)**  \n",
    "    \n",
    "> 산술 평균 (1/n) or 가우시안 평균  \n",
    "  \n",
    "* **cv2.adaptiveThreshold(src, maxValue, adaptiveMethod, thresholdType, blocksize, C)**\n",
    "    * maxValue : 이진화 결과 영상의 최댓값 (보통 255)\n",
    "    * adaptiveMethod : 블록 평균 계산 방법 (**ADAPTIVE_THRESH_MEAN_C or ADAPTIVE_THRESH_GAUSSIAN_C**)\n",
    "    * thresholdType : 이진화 방법 (**THRESH_BINARY or THRESH_BINARY_INV**)\n",
    "    * blocksize : 3 or 이상의 홀수\n",
    "    * C : 임계값 조정 상수 (블록 평균 - C)"
   ]
  },
  {
   "cell_type": "markdown",
   "metadata": {},
   "source": [
    "## (실습) 적응형 이진화\n",
    "트랙바 위치 값을 블록의 크기로 사용하는 적응형 이진화 (각 블록에 가우시안 평균 적용)"
   ]
  },
  {
   "cell_type": "code",
   "execution_count": 4,
   "metadata": {},
   "outputs": [],
   "source": [
    "def on_trackbar(pos):\n",
    "    bsize = pos\n",
    "    if bsize % 2 == 0: bsize = bsize - 1 # 블록 크기는 홀수로\n",
    "    if bsize < 3 : bsize = 3 # 블록 크기는 최소 3 이상\n",
    "        \n",
    "    dst = cv2.adaptiveThreshold(src, 255, cv2.ADAPTIVE_THRESH_GAUSSIAN_C, \n",
    "                               cv2.THRESH_BINARY, bsize, 5) # C = 5\n",
    "    cv2.imshow('dst', dst)\n",
    "    \n",
    "    \n",
    "src = cv2.imread('sudoku.jpg', cv2.IMREAD_GRAYSCALE)\n",
    "\n",
    "cv2.imshow('src', src)\n",
    "\n",
    "cv2.namedWindow('dst')\n",
    "cv2.createTrackbar('Block Size', 'dst', 0, 200, on_trackbar) # 초기값 처음엔 0으로\n",
    "cv2.setTrackbarPos('Block Size', 'dst', 11) # 트랙바 위치를 11로 옮김 (초기값)\n",
    "\n",
    "cv2.waitKey()\n",
    "cv2.destroyAllWindows()"
   ]
  },
  {
   "cell_type": "markdown",
   "metadata": {},
   "source": [
    "![](adaptiveT.png)\n",
    "전역 이진화 결과\n",
    "![](adaptiveT_after.png)\n",
    "적응형 이진화 결과"
   ]
  },
  {
   "cell_type": "markdown",
   "metadata": {},
   "source": [
    "# 모폴로지 연산\n",
    "## 모폴로지 (Morphology)"
   ]
  }
 ],
 "metadata": {
  "kernelspec": {
   "display_name": "Python 3",
   "language": "python",
   "name": "python3"
  },
  "language_info": {
   "codemirror_mode": {
    "name": "ipython",
    "version": 3
   },
   "file_extension": ".py",
   "mimetype": "text/x-python",
   "name": "python",
   "nbconvert_exporter": "python",
   "pygments_lexer": "ipython3",
   "version": "3.7.3"
  }
 },
 "nbformat": 4,
 "nbformat_minor": 2
}
