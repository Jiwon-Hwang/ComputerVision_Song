{
 "cells": [
  {
   "cell_type": "markdown",
   "metadata": {},
   "source": [
    "# 영상의 이진화"
   ]
  },
  {
   "cell_type": "markdown",
   "metadata": {},
   "source": [
    "## 이진화 (Binarization)\n",
    "* 영상에서 관심 영역(ROI, Region Of Interest)과 그렇지 않은 비관심 영역으로 구분하는 것\n",
    "* **cv2.threshold(src, thresh, maxVal, type)** : 임계값을 이용한 다양한 연산 지원 함수\n",
    "    * maxVal : 이진화 적용 후 결과 영상의 최대 값 (보통 255)\n",
    "    * type : 임계값 연산 방법 (ex. THRESH_BINARY, THRESH_INV, THRESH_OTSU)\n",
    "      \n",
    "> if) **THRESH_OTSU, THRESH_TRIANGLE** 방법을 사용 시, **자동으로 결정된 임계값 반환!** ==> 따라서 thresh 값 지정할 필요 없음 (0)  \n",
    "  \n",
    "* **THRESH_OTSU, THRESH_TRIANGLE**는 *자동으로 임계값(T)을 구해주는 알고리즘*이므로, **이진화** 시 보통 **논리합 연산자(|)를 이용하여 THRESH_BINARY와 같은 상수와 함께** 사용\n",
    "    * cf. CV_8UC1 타입의 영상에만 적용 가능 (자동 임계값 결정 방법)\n"
   ]
  },
  {
   "cell_type": "markdown",
   "metadata": {},
   "source": [
    "## (실습) 이진화 (Binarization)"
   ]
  },
  {
   "cell_type": "code",
   "execution_count": 1,
   "metadata": {},
   "outputs": [],
   "source": [
    "import cv2\n",
    "import numpy as np\n",
    "import sys\n",
    "\n",
    "# on_ ~ : 콜백 함수\n",
    "def on_threshold(pos):\n",
    "    _, dst = cv2.threshold(src, pos, 255, cv2.THRESH_BINARY)\n",
    "    cv2.imshow('dst', dst)\n",
    "    \n",
    "    \n",
    "filename = 'neutrophils.png'\n",
    "    \n",
    "src = cv2.imread(filename, cv2.IMREAD_GRAYSCALE)\n",
    "\n",
    "\n",
    "cv2.namedWindow('dst')\n",
    "cv2.createTrackbar('Threshold', 'dst', 0, 255, on_threshold) # 시작위치 : 0\n",
    "cv2.setTrackbarPos('Threshold', 'dst', 128) # 트랙바 위치를 강제로 128로 옮기기\n",
    "\n",
    "cv2.waitKey(0)\n",
    "cv2.destroyAllWindows()"
   ]
  },
  {
   "cell_type": "markdown",
   "metadata": {},
   "source": [
    "![](thres_bin.png)"
   ]
  },
  {
   "cell_type": "markdown",
   "metadata": {},
   "source": [
    "## 적응형 이진화\n",
    "* 전역 이진화(global binarization) : 영상의 모든 픽셀에 같은 임계값 적용하여 이진화\n",
    "    * 균일하지 않은 조명 환경일 때 이진화가 잘 안되는 경우 발생!\n",
    "* **적응형 이진화(adaptive binarization)** : **각 픽셀마다 서로 다른 임계값**을 사용!\n",
    "    * 정해진 크기의 사각형 블록 영역 설정 후, **블록 영역 내부의 픽셀 값 분포**로부터 ***각 픽셀마다 고유한 임계값***을 결정하여 이진화\n",
    "    * ex. **T : 평균값 (블록 내)**  \n",
    "    \n",
    "> 산술 평균 (1/n) or 가우시안 평균  \n",
    "  \n",
    "* **cv2.adaptiveThreshold(src, maxValue, adaptiveMethod, thresholdType, blocksize, C)**\n",
    "    * maxValue : 이진화 결과 영상의 최댓값 (보통 255)\n",
    "    * adaptiveMethod : 블록 평균 계산 방법 (**ADAPTIVE_THRESH_MEAN_C or ADAPTIVE_THRESH_GAUSSIAN_C**)\n",
    "    * thresholdType : 이진화 방법 (**THRESH_BINARY or THRESH_BINARY_INV**)\n",
    "    * blocksize : 3 or 이상의 홀수\n",
    "    * C : 임계값 조정 상수 (블록 평균 - C)"
   ]
  },
  {
   "cell_type": "markdown",
   "metadata": {},
   "source": [
    "## (실습) 적응형 이진화\n",
    "트랙바 위치 값을 블록의 크기로 사용하는 적응형 이진화 (각 블록에 가우시안 평균 적용)"
   ]
  },
  {
   "cell_type": "code",
   "execution_count": 2,
   "metadata": {},
   "outputs": [],
   "source": [
    "def on_trackbar(pos):\n",
    "    bsize = pos\n",
    "    if bsize % 2 == 0: bsize = bsize - 1 # 블록 크기는 홀수로\n",
    "    if bsize < 3 : bsize = 3 # 블록 크기는 최소 3 이상\n",
    "        \n",
    "    dst = cv2.adaptiveThreshold(src, 255, cv2.ADAPTIVE_THRESH_GAUSSIAN_C, \n",
    "                               cv2.THRESH_BINARY, bsize, 5) # C = 5\n",
    "    cv2.imshow('dst', dst)\n",
    "    \n",
    "    \n",
    "src = cv2.imread('sudoku.jpg', cv2.IMREAD_GRAYSCALE)\n",
    "\n",
    "cv2.imshow('src', src)\n",
    "\n",
    "cv2.namedWindow('dst')\n",
    "cv2.createTrackbar('Block Size', 'dst', 0, 200, on_trackbar) # 초기값 처음엔 0으로\n",
    "cv2.setTrackbarPos('Block Size', 'dst', 11) # 트랙바 위치를 11로 옮김 (초기값)\n",
    "\n",
    "cv2.waitKey()\n",
    "cv2.destroyAllWindows()"
   ]
  },
  {
   "cell_type": "markdown",
   "metadata": {},
   "source": [
    "![](adaptiveT.png)\n",
    "전역 이진화 결과\n",
    "![](adaptiveT_after.png)\n",
    "적응형 이진화 결과"
   ]
  },
  {
   "cell_type": "markdown",
   "metadata": {},
   "source": [
    "# 모폴로지 연산\n",
    "## 모폴로지 (Morphology)\n",
    "* 객체의 형태 및 구조에 대해 분석 및 처리하는 기법\n",
    "* 보통 **이진 영상에서 for 단순화 or 잡음 제거** 용도로 사용\n",
    "* 구조 요소(structuring element) 정의 \n",
    "    * 필터링 마스크처럼 연산의 동작을 결정하는 작은 크기의 행렬"
   ]
  },
  {
   "cell_type": "markdown",
   "metadata": {},
   "source": [
    "## 침식(erosion)과 팽창(dilation)\n",
    "* 침식 : 구조요소가 객체 영역 내부에 완전히 포함될 경우만 앵커 포인트 픽셀을 255로, 아니라면 0으로 설정\n",
    "* 팽창 : 구조요소와 객체 영역이 한 픽셀이라도 겹칠 경우, 앵커 포인트 픽셀을 255로 설정  \n",
    "![](morph.png)  \n",
    "* (c)침식 : 위에 작게 튀어나온 부분이 매끈하게 제거됨\n",
    "* (d)팽창 : 아래에 작게 패인 부분이 깔끔하게 메워짐"
   ]
  },
  {
   "cell_type": "markdown",
   "metadata": {},
   "source": [
    "* **kernel = cv2.getStructuringElement(MorphShape, ksize, (-1, -1))** : 구조 요소 행렬 생성 함수\n",
    "    * MorphShape : 보통 MORPH_RECT (사각형 모양의 구조 요소)  \n",
    "* **cv2.erode(src, kernel, (-1, -1), iterations)** : 침식 연산\n",
    "* **cv2.dilate(src, kernel, (-1, -1), iterations)** : 팽창 연산\n",
    "> 걍 cv2.erode(src_bin, **None**) 이렇게 해도 됨"
   ]
  },
  {
   "cell_type": "markdown",
   "metadata": {},
   "source": [
    "## (실습) 이진 영상의 침식과 팽창"
   ]
  },
  {
   "cell_type": "code",
   "execution_count": 4,
   "metadata": {
    "scrolled": true
   },
   "outputs": [
    {
     "data": {
      "image/png": "[encoded data removed]",
      "text/plain": [
       "<Figure size 432x288 with 4 Axes>"
      ]
     },
     "metadata": {
      "needs_background": "light"
     },
     "output_type": "display_data"
    }
   ],
   "source": [
    "import matplotlib.pyplot as plt\n",
    "\n",
    "def erode_dilate():\n",
    "    src = cv2.imread('milkdrop.bmp', cv2.IMREAD_GRAYSCALE)\n",
    "    \n",
    "    # ret_T, bin_dst / 0 : 자동으로 결정된 임계값을 구하므로, T 대신 0 지정\n",
    "    _, src_bin = cv2.threshold(src, 0, 255, cv2.THRESH_BINARY | cv2.THRESH_OTSU)\n",
    "    \n",
    "    dst1 = cv2.erode(src_bin, None)\n",
    "    dst2 = cv2.dilate(src_bin, None)\n",
    "    \n",
    "    plt.subplot(221), plt.axis('off'), plt.imshow(src, 'gray'), plt.title('src')\n",
    "    plt.subplot(222), plt.axis('off'), plt.imshow(src_bin, 'gray'), plt.title('src_bin')\n",
    "    plt.subplot(223), plt.axis('off'), plt.imshow(dst1, 'gray'), plt.title('erode')\n",
    "    plt.subplot(224), plt.axis('off'), plt.imshow(dst2, 'gray'), plt.title('dilate')\n",
    "    plt.show()\n",
    "    plt.close()\n",
    "    \n",
    "erode_dilate()"
   ]
  },
  {
   "cell_type": "markdown",
   "metadata": {},
   "source": [
    "## 이진 영상의 열기와 닫기\n",
    "* 열기 : **침식 -> 팽창** (**작은 잡음들이 효과적으로 제거됨**)\n",
    "* 닫기 : **팽창 -> 침식** (**작은 구멍들이 메워짐**)\n",
    "> 객체 영역의 크기가 크게 바뀌지 않고, 적용 순서에 따라 서로 다른 효과 발생  \n",
    "![](morph2.png)\n",
    "* **cv2.morphologyEx(src, MorphType, kernel)** : 열기와 닫기 연산 수행 (일반적인 모폴로지 연산도 수행)\n",
    "    * MorphType : MORPH_ERODE, MORPH_DILATE, MORPH_OPEN, MORPH_CLOSE, MORPH_GRADIENT(dilate - erode ==> 객체의 외곽선)"
   ]
  },
  {
   "cell_type": "markdown",
   "metadata": {},
   "source": [
    "## (실습) 이진 영상의 열기와 닫기"
   ]
  },
  {
   "cell_type": "code",
   "execution_count": null,
   "metadata": {},
   "outputs": [],
   "source": [
    "def open_close():\n",
    "    src = cv2.imread('milkdrop.bmp', cv2.IMREAD_GRAYSCALE)\n",
    "    \n",
    "    _, src_bin = cv2.threshold(src, 0, 255, cv2.THRESH_BINARY | cv2.THRESH_OTSU)\n",
    "    \n",
    "    dst1 = cv2.morphologyEx(src_bin, cv2.MORPH_OPEN, None)\n",
    "    dst2 = cv2.morphologyEx(src_bin, cv2.MORPH_CLOSE, None)\n",
    "    \n",
    "    plt.subplot(221), plt.axis('off'), plt.imshow(src, 'gray'), plt.title('src')\n",
    "    plt.subplot(222), plt.axis('off'), plt.imshow(src_bin, 'gray'), plt.title('src_bin')\n",
    "    plt.subplot(223), plt.axis('off'), plt.imshow(dst1, 'gray'), plt.title('open')\n",
    "    plt.subplot(224), plt.axis('off'), plt.imshow(dst2, 'gray'), plt.title('close')\n",
    "    plt.show()\n",
    "    plt.close()\n",
    "    \n",
    "open_close()"
   ]
  }
 ],
 "metadata": {
  "kernelspec": {
   "display_name": "Python 3",
   "language": "python",
   "name": "python3"
  },
  "language_info": {
   "codemirror_mode": {
    "name": "ipython",
    "version": 3
   },
   "file_extension": ".py",
   "mimetype": "text/x-python",
   "name": "python",
   "nbconvert_exporter": "python",
   "pygments_lexer": "ipython3",
   "version": "3.7.3"
  }
 },
 "nbformat": 4,
 "nbformat_minor": 2
}
