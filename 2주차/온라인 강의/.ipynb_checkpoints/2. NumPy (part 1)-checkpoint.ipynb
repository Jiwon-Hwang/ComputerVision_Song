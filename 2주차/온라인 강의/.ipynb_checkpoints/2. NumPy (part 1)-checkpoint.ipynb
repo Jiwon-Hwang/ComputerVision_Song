{
 "cells": [
  {
   "cell_type": "code",
   "execution_count": 2,
   "metadata": {},
   "outputs": [
    {
     "name": "stdout",
     "output_type": "stream",
     "text": [
      "1.16.2\n"
     ]
    }
   ],
   "source": [
    "# NumPy를 import 한 후 __version__으로 확인 & as문을 사용해서 축약어 사용\n",
    "\n",
    "import numpy as np\n",
    "\n",
    "print(np.__version__)"
   ]
  },
  {
   "cell_type": "code",
   "execution_count": 3,
   "metadata": {},
   "outputs": [
    {
     "name": "stdout",
     "output_type": "stream",
     "text": [
      "[1, 4, 2, 5, 3]\n",
      "<class 'list'>\n",
      "[1 4 2 5 3]\n",
      "<class 'numpy.ndarray'>\n"
     ]
    }
   ],
   "source": [
    "# NumPy 배열의 생성 (1) ==> numpy array와 python list의 차이\n",
    "\n",
    "arr = [1, 4, 2, 5, 3] # list\n",
    "n_arr = np.array(arr) \n",
    "print(arr) # 콤마(,)와 함께 출력됨\n",
    "print(type(arr))\n",
    "print(n_arr) # 콤마(,)없이 출력됨\n",
    "print(type(n_arr))"
   ]
  },
  {
   "cell_type": "code",
   "execution_count": 4,
   "metadata": {
    "scrolled": true
   },
   "outputs": [
    {
     "name": "stdout",
     "output_type": "stream",
     "text": [
      "[3.14, 2, 5, 3]\n",
      "<class 'list'>\n",
      "[3.14 2.   5.   3.  ]\n",
      "<class 'numpy.ndarray'>\n"
     ]
    }
   ],
   "source": [
    "# NumPy 배열의 특징 (1) ==> 배열의 모든 요소가 같은 타입이어야 함 / 타입 불일치 시 가능한 상위 타입 취함\n",
    "\n",
    "arr = [3.14, 2, 5, 3]\n",
    "n_arr = np.array(arr)\n",
    "print(arr)\n",
    "print(type(arr))\n",
    "print(n_arr)\n",
    "print(type(n_arr)) # int와 float이 섞여 있는 np.array는 모두 float 형으로 취하게 됨! (형변환)"
   ]
  },
  {
   "cell_type": "code",
   "execution_count": 5,
   "metadata": {},
   "outputs": [
    {
     "name": "stdout",
     "output_type": "stream",
     "text": [
      "['3.14', 2.0, 5, 3]\n",
      "<class 'list'>\n",
      "['3.14' '2.0' '5' '3']\n",
      "<class 'numpy.ndarray'>\n"
     ]
    }
   ],
   "source": [
    "# 문자열과 실수와 정수가 섞여 있을 경우에는?\n",
    "\n",
    "arr = ['3.14', 2., 5, 3]\n",
    "n_arr = np.array(arr)\n",
    "print(arr)\n",
    "print(type(arr))\n",
    "print(n_arr) # 모든 자료형을 포함할 수 있는 최상위 자료형인 \"string\"으로 모두 형변환!\n",
    "print(type(n_arr)) "
   ]
  },
  {
   "cell_type": "code",
   "execution_count": 6,
   "metadata": {},
   "outputs": [
    {
     "name": "stdout",
     "output_type": "stream",
     "text": [
      "[1, 4, 2, 5, 3]\n",
      "<class 'list'>\n",
      "[1. 4. 2. 5. 3.]\n",
      "<class 'numpy.ndarray'>\n"
     ]
    }
   ],
   "source": [
    "# NumPy 배열의 데이터 타입 ==> dtype을 사용한 명시적 자료형 설정\n",
    "\n",
    "arr = [1, 4, 2, 5, 3]\n",
    "n_arr = np.array(arr, dtype='float32')\n",
    "print(arr)\n",
    "print(type(arr))\n",
    "print(n_arr) # 실수형 (32 bit float)\n",
    "print(type(n_arr))"
   ]
  },
  {
   "cell_type": "code",
   "execution_count": 7,
   "metadata": {},
   "outputs": [
    {
     "name": "stdout",
     "output_type": "stream",
     "text": [
      "['3.14', 2.0, 5, 3]\n",
      "<class 'list'>\n",
      "[3.14 2.   5.   3.  ]\n",
      "<class 'numpy.ndarray'>\n"
     ]
    }
   ],
   "source": [
    "arr = ['3.14', 2., 5, 3]\n",
    "n_arr = np.array(arr, dtype='float32') # 모두 float32 형으로 형변환! (float64면 3.14로 딱 출력됨)\n",
    "print(arr)\n",
    "print(type(arr))\n",
    "print(n_arr) # 사용하는 pc에 따라서 [3.1400001  2.       5.      ] 이렇게 나올 수도!\n",
    "print(type(n_arr))"
   ]
  },
  {
   "cell_type": "code",
   "execution_count": 11,
   "metadata": {},
   "outputs": [
    {
     "name": "stdout",
     "output_type": "stream",
     "text": [
      "[1 4 2 5 3]\n",
      "1\n",
      "(5,)\n",
      "1\n",
      "5\n",
      "\n",
      "(5,)\n",
      "(2, 5)\n",
      "5\n",
      "10\n",
      "\n",
      "2\n"
     ]
    }
   ],
   "source": [
    "# NumPy 배열의 속성\n",
    "\n",
    "nums = np.array([1, 4, 2, 5, 3])\n",
    "print(nums)\n",
    "print(nums.ndim) # 몇 차원인지 Rank 확인 가능\n",
    "print(nums.shape) # 배열의 꼴 (모양) 확인 가능 ==> tuple (1차원에 5개 요소 존재)\n",
    "print(len(nums.shape)) # 차원 확인 가능 (Rank)\n",
    "print(nums.size) # 배열에 들어있는 총 전체 요소 개수 (차원 별로 x)\n",
    "\n",
    "print()\n",
    "\n",
    "# cf. nums.shape vs nums.size\n",
    "\n",
    "nums2 = np.array([[1, 4, 2, 5, 3], [1, 2, 3, 4, 5]])\n",
    "print(nums.shape)\n",
    "print(nums2.shape) # shape : 차원별로 요소가 몇 개씩 있는지 tuple로 보여줌\n",
    "print(nums.size)\n",
    "print(nums2.size) # size : 배열에 존재하는 전체 요소 개수를 차원 상관없이 보여줌\n",
    "\n",
    "print()\n",
    "\n",
    "print(len(nums2)) # 2행이라서... 다차원의 경우에는 주의하기!!"
   ]
  },
  {
   "cell_type": "code",
   "execution_count": 12,
   "metadata": {},
   "outputs": [
    {
     "name": "stdout",
     "output_type": "stream",
     "text": [
      "[1 2 3]\n"
     ]
    }
   ],
   "source": [
    "# NumPy 배열의 값 접근 ==> 표준 python 리스트의 구문을 그대로 따름\n",
    "\n",
    "nums = np.array([1, 4, 2, 5, 3])\n",
    "print(nums[::2]) # 배열명[start:stop:step] ==> step 값이 지정되지 않으면 기본 step=1"
   ]
  },
  {
   "cell_type": "code",
   "execution_count": 13,
   "metadata": {},
   "outputs": [
    {
     "name": "stdout",
     "output_type": "stream",
     "text": [
      "[[1 4 2]\n",
      " [7 5 3]]\n",
      "2\n",
      "2\n"
     ]
    }
   ],
   "source": [
    "# NumPy 2차원 배열의 값 접근(1) ==> 2가지 방법!\n",
    "\n",
    "nums = np.array([[1, 4, 2], [7, 5, 3]])\n",
    "print(nums)\n",
    "print(nums[0, 2]) # 1) 배열명[행, 열]\n",
    "print(nums[0][2]) # 2) 배열명[행][열] ==> C or JAVA 스타일"
   ]
  },
  {
   "cell_type": "code",
   "execution_count": 14,
   "metadata": {},
   "outputs": [
    {
     "name": "stdout",
     "output_type": "stream",
     "text": [
      "[[1 4 2]\n",
      " [7 5 3]]\n",
      "[[1 4 2]]\n",
      "[[1 4 2]]\n",
      "[[4]\n",
      " [5]]\n",
      "[5 3]\n",
      "[[4 2]\n",
      " [5 3]]\n"
     ]
    }
   ],
   "source": [
    "# NumPy 2차원 배열의 값 접근(2) ==> 배열명[슬라이스, 슬라이스] (차원별 슬라이싱)\n",
    "\n",
    "print(nums)\n",
    "print(nums[0:1, ]) # 행 차원만 [0:1] 슬라이싱 ==> 열 차원은 슬라이싱 x이므로 전부 다!\n",
    "print(nums[0:1, :]) # 위와 동일\n",
    "print(nums[:, 1:2]) # 행 차원은 전부, 열 차원은 [1:2]까지 슬라이싱\n",
    "print(nums[1, 1:]) # 행 차원은 1행만, 열 차원은 [1:] 슬라이싱\n",
    "print(nums[0:, 1:]) # 행 차원은 [0:] 슬라이싱, 열 차원은 [1:] 슬라이싱"
   ]
  },
  {
   "cell_type": "code",
   "execution_count": 15,
   "metadata": {},
   "outputs": [
    {
     "name": "stdout",
     "output_type": "stream",
     "text": [
      "[[1 4 2]]\n",
      "[[1 4 2]]\n",
      "[1 4 2]\n"
     ]
    }
   ],
   "source": [
    "# NumPy 2차원 배열의 값 접근(3) ==> \"범위로 슬라이싱\" vs \"특정 행/열 슬라이싱\" 차이!!\n",
    "\n",
    "print(nums[0:1, ]) # 범위로 슬라이싱\n",
    "print(nums[0:1, :]) # 범위로 슬라이싱 ==> 위에 두개는 shape가 2차원 구조!\n",
    "print(nums[0, :]) # 특정 행 슬라이싱 ==> 얘는 shape가 1차원 구조!"
   ]
  }
 ],
 "metadata": {
  "kernelspec": {
   "display_name": "Python 3",
   "language": "python",
   "name": "python3"
  },
  "language_info": {
   "codemirror_mode": {
    "name": "ipython",
    "version": 3
   },
   "file_extension": ".py",
   "mimetype": "text/x-python",
   "name": "python",
   "nbconvert_exporter": "python",
   "pygments_lexer": "ipython3",
   "version": "3.7.3"
  }
 },
 "nbformat": 4,
 "nbformat_minor": 2
}
