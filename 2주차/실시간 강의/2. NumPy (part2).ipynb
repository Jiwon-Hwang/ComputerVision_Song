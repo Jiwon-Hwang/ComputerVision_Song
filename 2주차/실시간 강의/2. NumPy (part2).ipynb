{
 "cells": [
  {
   "cell_type": "markdown",
   "metadata": {},
   "source": [
    "## NumPy 2차원 배열의 값 접근 (슬라이싱)\n",
    "* 파이썬 list & 넘파이 array\n",
    "* 슬라이싱 & copy()"
   ]
  },
  {
   "cell_type": "code",
   "execution_count": 3,
   "metadata": {},
   "outputs": [
    {
     "name": "stdout",
     "output_type": "stream",
     "text": [
      "[[5]]\n",
      "[5]\n",
      "5\n"
     ]
    }
   ],
   "source": [
    "# 지난 시간 예제\n",
    "\n",
    "import numpy as np\n",
    "nums = np.array([[1, 4, 2], [7, 5, 3]])\n",
    "print(nums[ 1: , 1:2 ]) # 2차원 꼴 남기고 5 값 가져오기\n",
    "print(nums[1, 1:2]) # 1차원 꼴 남기고 5 값 가져오기\n",
    "print(nums[1, 1]) # 그냥 5 값만 가져오기"
   ]
  },
  {
   "cell_type": "code",
   "execution_count": 4,
   "metadata": {},
   "outputs": [
    {
     "name": "stdout",
     "output_type": "stream",
     "text": [
      "[4 2 5]\n",
      "[4 2 5]\n",
      "[ 4 10  5]\n",
      "[4 2 5]\n"
     ]
    }
   ],
   "source": [
    "# NumPy 배열 사용 시의 주의사항 (python list와는 다름!)\n",
    "# NumPy 배열에 대한 검색 or 슬라이싱 ==> 주소 복사! ==> 기존 배열 변경 시 같이 변경\n",
    "# NumPy 배열에 대해 copy() ==> 별도의 독립적인 새로운 공간에 저장!\n",
    "\n",
    "nums = np.array([1, 4, 2, 5, 3])\n",
    "ref = nums[1:4]\n",
    "cpy = nums[1:4].copy()\n",
    "print(ref)\n",
    "print(cpy)\n",
    "nums[2] = 10\n",
    "print(ref) # 참조(포인터)만 할당한 것이므로 값이 따라서 바뀜\n",
    "print(cpy) # 별도의 공간이므로 값이 따라 바뀌지 않음"
   ]
  },
  {
   "cell_type": "code",
   "execution_count": 6,
   "metadata": {},
   "outputs": [
    {
     "name": "stdout",
     "output_type": "stream",
     "text": [
      "[0, 1]\n",
      "[0, 10, 2, 3]\n",
      "[0, 1]\n"
     ]
    }
   ],
   "source": [
    "# cf. 슬라이싱 시, 파이썬 리스트와 넘파이 배열의 차이!\n",
    "\n",
    "py_list1 = [0, 1, 2, 3]\n",
    "py_list2 = py_list1[0:2] # 파이썬 리스트의 슬라이싱\n",
    "print(py_list2)\n",
    "py_list1[1] = 10\n",
    "print(py_list1)\n",
    "print(py_list2) # 파이썬 리스트의 슬라이싱은 별도의 공간에 저장하는 copy()"
   ]
  },
  {
   "cell_type": "markdown",
   "metadata": {},
   "source": [
    "## NumPy의 내장 함수를 사용한 배열 생성\n",
    "* 특정 수로 초기화하기 (zeros, ones, full)\n",
    "* 단위 행렬 생성 (identity, eye)\n",
    "* 난수 행렬 생성 (ramdom)\n",
    "* step 배열 생성 (linspace, arange)"
   ]
  },
  {
   "cell_type": "code",
   "execution_count": 8,
   "metadata": {},
   "outputs": [
    {
     "name": "stdout",
     "output_type": "stream",
     "text": [
      "[[0. 0.]\n",
      " [0. 0.]]\n",
      "[[1. 1.]]\n",
      "[[7 7]\n",
      " [7 7]]\n"
     ]
    }
   ],
   "source": [
    "# NumPy 내장 함수를 사용한 배열 생성\n",
    "\n",
    "print(np.zeros((2, 2))) # (2, 2) shape(꼴)로 모든 값이 0인 배열 생성\n",
    "print(np.ones((1, 2))) # 모두 1로 채워진 배열 생성\n",
    "print(np.full((2, 2), 7)) # 모든 값이 특정 value(7)로 채워진 특정 꼴(2, 2)의 배열 생성"
   ]
  },
  {
   "cell_type": "code",
   "execution_count": 10,
   "metadata": {},
   "outputs": [
    {
     "name": "stdout",
     "output_type": "stream",
     "text": [
      "[[1. 0. 0.]\n",
      " [0. 1. 0.]\n",
      " [0. 0. 1.]]\n",
      "\n",
      "[[1. 0. 0.]\n",
      " [0. 1. 0.]\n",
      " [0. 0. 1.]]\n",
      "\n",
      "[[0. 1. 0.]\n",
      " [0. 0. 1.]\n",
      " [0. 0. 0.]]\n",
      "\n",
      "[[0. 0. 0.]\n",
      " [0. 0. 0.]\n",
      " [1. 0. 0.]]\n"
     ]
    }
   ],
   "source": [
    "# NumPY 내장 함수를 사용한 단위행렬(Identity) 생성 & 이동 (k만큼) \n",
    "\n",
    "print(np.identity(3)) # 3x3 짜리 단위행렬\n",
    "print()\n",
    "print(np.eye(3)) # 3x3 짜리 단위행렬\n",
    "print()\n",
    "print(np.eye(3, k=1)) # identity()와 달리, eye()는 이동도 할 수 있음! (x축 방향으로)\n",
    "print()\n",
    "print(np.eye(3, k=-2))"
   ]
  },
  {
   "cell_type": "code",
   "execution_count": 12,
   "metadata": {},
   "outputs": [
    {
     "name": "stdout",
     "output_type": "stream",
     "text": [
      "[[0.50101921 0.56458774]\n",
      " [0.49305735 0.27178861]]\n",
      "\n",
      "[1.26726509 1.92246002]\n",
      "\n",
      "[[65  2]\n",
      " [79 93]]\n"
     ]
    }
   ],
   "source": [
    "# NumPy의 내장 함수를 사용한 난수 생성 ==> np.random.random(shape)\n",
    "\n",
    "print(np.random.random((2, 2))) # 0~1 사이의 난수 배열 생성\n",
    "print()\n",
    "print(np.random.normal((2, 2))) # 정규분포를 따르는 난수 배열 생성 (0~1 아님!)\n",
    "print()\n",
    "print(np.random.randint(1, 100, (2, 2))) # low부터 high 사이의 정수형 난수 배열 생성"
   ]
  },
  {
   "cell_type": "code",
   "execution_count": 13,
   "metadata": {},
   "outputs": [
    {
     "name": "stdout",
     "output_type": "stream",
     "text": [
      "[0.   0.25 0.5  0.75 1.  ]\n",
      "[0.  0.2 0.4 0.6 0.8]\n",
      "(array([0. , 0.2, 0.4, 0.6, 0.8]), 0.2)\n"
     ]
    }
   ],
   "source": [
    "# NumPy의 내장 함수를 사용한 일정 간격(step)의 수 배열 생성 (1) ==> np.linspace()\n",
    "\n",
    "print(np.linspace(0, 1, num = 5, endpoint = True)) \n",
    "print(np.linspace(0, 1, num = 5, endpoint = False))\n",
    "print(np.linspace(0, 1, num = 5, endpoint = False, retstep = True))\n",
    "\n",
    "# np.linspace(start, end, num, endpoint, retstep) ==> retstep : step 크기 return할지?"
   ]
  },
  {
   "cell_type": "code",
   "execution_count": 17,
   "metadata": {},
   "outputs": [
    {
     "name": "stdout",
     "output_type": "stream",
     "text": [
      "[0.4 0.5 0.6 0.7 0.8 0.9 1. ]\n",
      "[1 2]\n"
     ]
    }
   ],
   "source": [
    "# NumPy의 내장 함수를 사용한 일정 간격(step)의 수 배열 생성 (2) ==> np.arange()\n",
    "\n",
    "print(np.arange(0.4, 1.1, 0.1)) # np.arange(start, end, step, dtype)\n",
    "print(np.arange(1, 3, 1)) # stop(3)은 포함 x\n",
    "\n",
    "# 따라서, step 크기가 정해져 있을 때 ==> np.arange()\n",
    "# 몇 등분으로 나눌지 개수가 정해져 있을 때 ==> np.linspace()"
   ]
  },
  {
   "cell_type": "markdown",
   "metadata": {},
   "source": [
    "## 행열 전환과 형태 변형\n",
    "* np.reshape()\n",
    "* T (전치)\n",
    "* swapaxes()\n",
    "* transpose()"
   ]
  },
  {
   "cell_type": "code",
   "execution_count": 18,
   "metadata": {},
   "outputs": [
    {
     "name": "stdout",
     "output_type": "stream",
     "text": [
      "['MMM' 'ABT' 'ABBV' 'ACN' 'ACE' 'ATVI' 'ADBE' 'ADT']\n",
      "[['MMM' 'ABT' 'ABBV' 'ACN']\n",
      " ['ACE' 'ATVI' 'ADBE' 'ADT']]\n"
     ]
    }
   ],
   "source": [
    "# 행열 전환과 형태 변형 ==> np.reshape()\n",
    "\n",
    "sap = np.array([\"MMM\", \"ABT\", \"ABBV\", \"ACN\", \"ACE\", \"ATVI\", \"ADBE\", \"ADT\"])\n",
    "print(sap)\n",
    "sap2d = sap.reshape(2, 4) # reshape 전, 후의 전체 아이템 수는 동일해야 함!\n",
    "print(sap2d)"
   ]
  },
  {
   "cell_type": "code",
   "execution_count": 19,
   "metadata": {},
   "outputs": [
    {
     "name": "stdout",
     "output_type": "stream",
     "text": [
      "[['MMM' 'ACE']\n",
      " ['ABT' 'ATVI']\n",
      " ['ABBV' 'ADBE']\n",
      " ['ACN' 'ADT']]\n"
     ]
    }
   ],
   "source": [
    "# 행열 전환과 형태 변형 ==> T (전치)\n",
    "\n",
    "print(sap2d.T) # (2, 4)를 (4, 2)로 변형"
   ]
  },
  {
   "cell_type": "code",
   "execution_count": 20,
   "metadata": {
    "scrolled": true
   },
   "outputs": [
    {
     "name": "stdout",
     "output_type": "stream",
     "text": [
      "[['MMM' 'ABT' 'ABBV' 'ACN']\n",
      " ['ACE' 'ATVI' 'ADBE' 'ADT']]\n",
      "[['MMM' 'ACE']\n",
      " ['ABT' 'ATVI']\n",
      " ['ABBV' 'ADBE']\n",
      " ['ACN' 'ADT']]\n",
      "[['MMM' 'ACE']\n",
      " ['ABT' 'ATVI']\n",
      " ['ABBV' 'ADBE']\n",
      " ['ACN' 'ADT']]\n"
     ]
    }
   ],
   "source": [
    "# 위의 전치 T를 일반화한 함수 ==> np.swapaxes(axis_1, axis_2) ==  T (전치)\n",
    "print(sap2d) # (2, 4)\n",
    "print(sap2d.T) # (4, 2)\n",
    "print(sap2d.swapaxes(0, 1)) # 0번 축 : 행 / 1번 축 : 열 ==> 차원 늘어날 때 쓰기!"
   ]
  },
  {
   "cell_type": "code",
   "execution_count": 22,
   "metadata": {},
   "outputs": [
    {
     "name": "stdout",
     "output_type": "stream",
     "text": [
      "[[['MMM' 'ABT']\n",
      "  ['ABBV' 'ACN']]\n",
      "\n",
      " [['ACE' 'ATVI']\n",
      "  ['ADBE' 'ADT']]] \n",
      "\n",
      "\n",
      "[[['MMM' 'ABBV']\n",
      "  ['ABT' 'ACN']]\n",
      "\n",
      " [['ACE' 'ADBE']\n",
      "  ['ATVI' 'ADT']]]\n"
     ]
    }
   ],
   "source": [
    "# 3차원 배열에서의 swapaxes 사용 예제 ==> \"가장 마지막\"에 추가된 축부터 0번 축!\n",
    "\n",
    "sap = np.array([\"MMM\", \"ABT\", \"ABBV\", \"ACN\", \"ACE\", \"ATVI\", \"ADBE\", \"ADT\"])\n",
    "sap3d = sap.reshape(2, 2, 2)\n",
    "print(sap3d, '\\n')\n",
    "print()\n",
    "print(sap3d.swapaxes(1, 2)) # 0 : depth / 1 : 행 / 2 : 열 (열보다 행이 더 나중에 추가)\n",
    "# 따라서 0번 축인 depth 축은 놔두고 각 채널을 이루는 2차원 배열 각각 T 적용됨"
   ]
  },
  {
   "cell_type": "code",
   "execution_count": 24,
   "metadata": {},
   "outputs": [
    {
     "name": "stdout",
     "output_type": "stream",
     "text": [
      "[['MMM' 'ABT' 'ABBV' 'ACN']\n",
      " ['ACE' 'ATVI' 'ADBE' 'ADT']]\n",
      "\n",
      "[['MMM' 'ACE']\n",
      " ['ABT' 'ATVI']\n",
      " ['ABBV' 'ADBE']\n",
      " ['ACN' 'ADT']]\n",
      "\n",
      "[['MMM' 'ACE']\n",
      " ['ABT' 'ATVI']\n",
      " ['ABBV' 'ADBE']\n",
      " ['ACN' 'ADT']]\n",
      "\n",
      "[['MMM' 'ACE']\n",
      " ['ABT' 'ATVI']\n",
      " ['ABBV' 'ADBE']\n",
      " ['ACN' 'ADT']]\n",
      "\n",
      "[['MMM' 'ABT' 'ABBV' 'ACN']\n",
      " ['ACE' 'ATVI' 'ADBE' 'ADT']]\n"
     ]
    }
   ],
   "source": [
    "# transpose() 함수의 활용 ==> T나 swapaxes 보다 일반적인 함수\n",
    "\n",
    "sap2d = sap.reshape(2, 4)\n",
    "print(sap2d)\n",
    "print()\n",
    "print(sap2d.T)\n",
    "print()\n",
    "print(sap2d.swapaxes(0, 1))\n",
    "print()\n",
    "print(sap2d.transpose(1, 0)) # 변형 후의 축의 index 순서대로 기재하기 / 열 -> 행\n",
    "print()\n",
    "print(sap2d.transpose(0, 1)) # 행 -> 열 순서 (원래의 순서 그대로 유지!)"
   ]
  },
  {
   "cell_type": "markdown",
   "metadata": {},
   "source": [
    "## NumPy 배열의 연결\n",
    "* concatenate()\n",
    "* vstack()\n",
    "* hstack()"
   ]
  },
  {
   "cell_type": "code",
   "execution_count": 26,
   "metadata": {},
   "outputs": [
    {
     "name": "stdout",
     "output_type": "stream",
     "text": [
      "[1 2 3 3 2 1 4 5 6]\n"
     ]
    }
   ],
   "source": [
    "# 여러 1차원 NumPy 배열의 연결 ==> concatenate()\n",
    "\n",
    "x = np.array([1, 2, 3])\n",
    "y = np.array([3, 2, 1])\n",
    "z = np.array([4, 5, 6])\n",
    "\n",
    "print(np.concatenate([x, y, z])) # 2개 이상의 배열을 하나의 array로 연결해줌!"
   ]
  },
  {
   "cell_type": "code",
   "execution_count": 29,
   "metadata": {},
   "outputs": [
    {
     "name": "stdout",
     "output_type": "stream",
     "text": [
      "[[1 2 3]\n",
      " [4 5 6]\n",
      " [1 2 3]\n",
      " [4 5 6]]\n",
      "\n",
      "[[1 2 3 1 2 3]\n",
      " [4 5 6 4 5 6]]\n"
     ]
    }
   ],
   "source": [
    "# 여러 2차원 배열의 연결 ==> ***가장 마지막에 추가된 축 (0번 축) 방향으로 연결됨!***\n",
    "\n",
    "grid = np.array([[1, 2, 3], [4, 5, 6]])\n",
    "print(np.concatenate([grid, grid])) # 0번 축인 행 방향으로 아래로 붙음\n",
    "\n",
    "print()\n",
    "\n",
    "# 두번째 인자로 axis = 1 ==> 붙이고 싶은 축 index 지정 가능\n",
    "\n",
    "print(np.concatenate([grid, grid], axis=1)) # 1번 축 : 열"
   ]
  },
  {
   "cell_type": "code",
   "execution_count": 35,
   "metadata": {},
   "outputs": [
    {
     "name": "stdout",
     "output_type": "stream",
     "text": [
      "[[9 8 7]\n",
      " [1 2 3]\n",
      " [4 5 6]]\n",
      "\n",
      "[[1 2 3]\n",
      " [4 5 6]\n",
      " [1 2 3]\n",
      " [4 5 6]]\n",
      "[[1 2 3]\n",
      " [4 5 6]\n",
      " [1 2 3]\n",
      " [4 5 6]]\n"
     ]
    }
   ],
   "source": [
    "# 수직 방향으로 병합 ==> vstack()\n",
    "\n",
    "x = np.array([9, 8, 7])\n",
    "grid = np.array([[1, 2, 3], [4, 5, 6]])\n",
    "\n",
    "print(np.vstack([x, grid])) # 이때는 np.concatenate 쓸 수 X ==> x는 1차원, grid는 2차원이므로\n",
    "\n",
    "print()\n",
    "\n",
    "print(np.vstack([grid, grid]))\n",
    "print(np.concatenate([grid, grid])) # 0번축인 행 축으로 == 즉, 수직 방향으로 붙음"
   ]
  },
  {
   "cell_type": "code",
   "execution_count": 36,
   "metadata": {},
   "outputs": [
    {
     "name": "stdout",
     "output_type": "stream",
     "text": [
      "[[9 1 2 3]\n",
      " [8 4 5 6]]\n"
     ]
    }
   ],
   "source": [
    "# 수평 방향으로 병합 ==> hstack()\n",
    "\n",
    "y = np.array([[9], [8]])\n",
    "grid = np.array([[1,2,3], [4, 5, 6]])\n",
    "\n",
    "print(np.hstack([y, grid])) "
   ]
  },
  {
   "cell_type": "markdown",
   "metadata": {},
   "source": [
    "## NumPy 배열의 분할\n",
    "* split()"
   ]
  },
  {
   "cell_type": "code",
   "execution_count": 37,
   "metadata": {},
   "outputs": [
    {
     "name": "stdout",
     "output_type": "stream",
     "text": [
      "[1 2 3] [99 99] [3 2 1]\n"
     ]
    }
   ],
   "source": [
    "# split(배열명, 분할 지점의 리스트) ==> 슬라이싱 지점 인덱스들을 리스트로 넣어 주기\n",
    "\n",
    "x = [1, 2, 3, 99, 99, 3, 2, 1]\n",
    "x1, x2, x3 = np.split(x, [3, 5]) # x를 index 3 이전까지 자르고, index 5 이전까지 자르기\n",
    "print(x1, x2, x3)"
   ]
  },
  {
   "cell_type": "code",
   "execution_count": 38,
   "metadata": {},
   "outputs": [
    {
     "name": "stdout",
     "output_type": "stream",
     "text": [
      "range(0, 16)\n",
      "[ 0  1  2  3  4  5  6  7  8  9 10 11 12 13 14 15]\n"
     ]
    }
   ],
   "source": [
    "# cf. range와 np.arange의 차이\n",
    "\n",
    "print(range(16))\n",
    "print(np.arange(16))"
   ]
  },
  {
   "cell_type": "code",
   "execution_count": 46,
   "metadata": {},
   "outputs": [
    {
     "name": "stdout",
     "output_type": "stream",
     "text": [
      "[[ 0  1  2  3]\n",
      " [ 4  5  6  7]\n",
      " [ 8  9 10 11]\n",
      " [12 13 14 15]]\n",
      "\n",
      "[[0 1 2 3]\n",
      " [4 5 6 7]]\n",
      "\n",
      "[[ 8  9 10 11]\n",
      " [12 13 14 15]]\n",
      "\n",
      "[[ 0  1]\n",
      " [ 4  5]\n",
      " [ 8  9]\n",
      " [12 13]]\n",
      "\n",
      "[[ 2  3]\n",
      " [ 6  7]\n",
      " [10 11]\n",
      " [14 15]]\n"
     ]
    }
   ],
   "source": [
    "# 2차원 배열의 초기화 및 분할 ==> np.arange() & reshape() / np.split()\n",
    "\n",
    "grid = np.arange(16).reshape(4, 4) # reshape((4, 4)) 해도 동일!\n",
    "print(grid)\n",
    "\n",
    "print()\n",
    "\n",
    "# 마지막으로 추가된 0번 축이 행이기 때문에, 행을 기준으로 2번 index 이전까지 split!\n",
    "\n",
    "upper, lower = np.split(grid, [2]) # np.split(배열명, 분할 지점의 리스트)\n",
    "print(upper)\n",
    "print()\n",
    "print(lower)\n",
    "\n",
    "print()\n",
    "\n",
    "# 다른 축 방향으로 분할하고자 할 경우 ==> 마지막에 axis 인자 지정해주기!\n",
    "\n",
    "upper, lower = np.split(grid, [2], axis = 1) # 1번 축 : 열\n",
    "print(upper)\n",
    "print()\n",
    "print(lower)"
   ]
  }
 ],
 "metadata": {
  "kernelspec": {
   "display_name": "Python 3",
   "language": "python",
   "name": "python3"
  },
  "language_info": {
   "codemirror_mode": {
    "name": "ipython",
    "version": 3
   },
   "file_extension": ".py",
   "mimetype": "text/x-python",
   "name": "python",
   "nbconvert_exporter": "python",
   "pygments_lexer": "ipython3",
   "version": "3.7.3"
  }
 },
 "nbformat": 4,
 "nbformat_minor": 2
}
